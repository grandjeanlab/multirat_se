{
 "cells": [
  {
   "cell_type": "markdown",
   "metadata": {},
   "source": [
    "<p align=\"center\">\n",
    "  <img align=\"right\" src=\"https://nilearn.github.io/dev-days-2020/assets/images/nilearn-logo.png\" alt=\"image\" width=\"250\" />\n",
    "</p>\n",
    "\n",
    "<h1 align=\"center\">MultiRat Sensory-Evoked analysis code</h1>\n",
    "\n",
    "<p align=\"center\">&nbsp;&nbsp;&nbsp;&nbsp;&nbsp;&nbsp;&nbsp;&nbsp;&nbsp;&nbsp;&nbsp;&nbsp;&nbsp;&nbsp;&nbsp;&nbsp;&nbsp;&nbsp;&nbsp;&nbsp;&nbsp;&nbsp;&nbsp;&nbsp;&nbsp;&nbsp;&nbsp;&nbsp;&nbsp;&nbsp;&nbsp;&nbsp;&nbsp;&nbsp;&nbsp;&nbsp;&nbsp;&nbsp;&nbsp;&nbsp;&nbsp;&nbsp;&nbsp;&nbsp;&nbsp;&nbsp;&nbsp;&nbsp;&nbsp;&nbsp;&nbsp;&nbsp;&nbsp;&nbsp;&nbsp;&nbsp;&nbsp;&nbsp;&nbsp;&nbsp;&nbsp;&nbsp;<i>Marie E Galteau, 2023</i></p>"
   ]
  },
  {
   "cell_type": "markdown",
   "metadata": {},
   "source": [
    "---"
   ]
  },
  {
   "cell_type": "markdown",
   "metadata": {},
   "source": [
    "## RABIES preprocessing\n",
    "\n",
    "The present jupyter notebook contains the code to reproduce the preprocessing steps using RABIES pipeline. \n",
    "\n",
    "Follow the code step-wise. \n"
   ]
  },
  {
   "cell_type": "code",
   "execution_count": 1,
   "metadata": {},
   "outputs": [],
   "source": [
    "# -- Load module for singularity -- \n",
    "\n",
    "!module load singularity\n",
    "!module load freesurfer\n",
    "!module load fsl\n",
    "\n",
    "import os \n",
    "import subprocess\n",
    "import pandas as pd\n",
    "from enum import Enum\n",
    "\n",
    "from IPython.display import display, Markdown, Latex\n",
    "\n",
    "# -- Init Variables -- \n",
    "metadata_path='/home/traaffneu/margal/code/multirat_se/script/table/metadata_rabies.tsv'        # meta-data table\n",
    "\n",
    "df = pd.read_csv(metadata_path, sep='\\t')\n",
    "df = df.loc[(df['exclude'] != 'yes')]"
   ]
  },
  {
   "cell_type": "markdown",
   "metadata": {},
   "source": [
    "#### Define RABIES parameters in a function"
   ]
  },
  {
   "cell_type": "code",
   "execution_count": 2,
   "metadata": {},
   "outputs": [],
   "source": [
    "#--- Function to submit job to HPC --- \n",
    "\n",
    "def qsub_prepro_rabies(subj_num, template_dir, BIDS_input, preprocess_outputs, TR, template, mask, wm, csf, atlas, correction_arg):\n",
    "    \n",
    "    if not os.path.exists(preprocess_outputs):os.makedirs(preprocess_outputs)                    # Create directory\n",
    "    singularity_path='/opt/singularity/3.10.3/bin/singularity'\n",
    "    \n",
    "    # -- Create the full command string --    \n",
    "    rabies_cmd = f\"{singularity_path} run \" \\\n",
    "                f\"-B {template_dir}:/template \" \\\n",
    "                f\"-B {BIDS_input}:/BIDS_input:ro \" \\\n",
    "                f\"-B {preprocess_outputs}:/preprocess_outputs \" \\\n",
    "                \"/opt/rabies/0.4.8/rabies.sif -p MultiProc preprocess /BIDS_input /preprocess_outputs \" \\\n",
    "                    f\"--TR {TR} \" \\\n",
    "                    f\"--anat_template {template} \" \\\n",
    "                    f\"--brain_mask {mask} \" \\\n",
    "                    f\"--WM_mask {wm} \" \\\n",
    "                    f\"--CSF_mask {csf} \" \\\n",
    "                    f\"--vascular_mask {csf} \" \\\n",
    "                    f\"--labels {atlas} \" \\\n",
    "                    \"--commonspace_reg='masking'='false','brain_extraction'='false','template_registration'='SyN','fast_commonspace'='true' \" \\\n",
    "                    \"--commonspace_resampling '0.3x0.3x0.3' \" \\\n",
    "                    f\"{correction_arg} \" \\\n",
    "\n",
    "    cmd = f'echo \"Job running: $(echo \\'{rabies_cmd}\\'| qsub -N MRat:{subj_num} -l nodes=1:ppn=1,mem=64gb,walltime=48:00:00)\"'\n",
    "    subprocess.call(cmd, shell=True)\n"
   ]
  },
  {
   "cell_type": "markdown",
   "metadata": {},
   "source": [
    "#### Preprocess each scan\n",
    "\n",
    "- Define scans info specified in the metadata file: subject number, TR, session, additional preprocessing parameters. \n",
    "- We define path to the rat SIGMA templates as well as input and output path. \n",
    "- We register in the metadata wether scans must be preprocessed with default (#0) or corrective (#2) parameters.\n"
   ]
  },
  {
   "cell_type": "code",
   "execution_count": 4,
   "metadata": {},
   "outputs": [
    {
     "data": {
      "text/markdown": [
       "Rat num: <span style=\"color:#FF5733\">0202302</span>  \n",
       "Preprocess config: <span style=\"color:#FF91A4\">0</span>  \n",
       "Session n°: <span style=\"color:#45B39D\">1</span>  \n",
       "TR: <span style=\"color:#0099FF\">1.0</span>  \n"
      ],
      "text/plain": [
       "<IPython.core.display.Markdown object>"
      ]
     },
     "metadata": {},
     "output_type": "display_data"
    },
    {
     "name": "stdout",
     "output_type": "stream",
     "text": [
      "Job running: 51525804.dccn-l029.dccn.nl\n",
      "RABIES: default params.\n",
      "-----------\n"
     ]
    },
    {
     "data": {
      "text/markdown": [
       "Rat num: <span style=\"color:#FF5733\">0202303</span>  \n",
       "Preprocess config: <span style=\"color:#FF91A4\">0</span>  \n",
       "Session n°: <span style=\"color:#45B39D\">1</span>  \n",
       "TR: <span style=\"color:#0099FF\">1.0</span>  \n"
      ],
      "text/plain": [
       "<IPython.core.display.Markdown object>"
      ]
     },
     "metadata": {},
     "output_type": "display_data"
    },
    {
     "name": "stdout",
     "output_type": "stream",
     "text": [
      "Job running: 51525805.dccn-l029.dccn.nl\n",
      "RABIES: default params.\n",
      "-----------\n"
     ]
    },
    {
     "data": {
      "text/markdown": [
       "Rat num: <span style=\"color:#FF5733\">0202304</span>  \n",
       "Preprocess config: <span style=\"color:#FF91A4\">0</span>  \n",
       "Session n°: <span style=\"color:#45B39D\">1</span>  \n",
       "TR: <span style=\"color:#0099FF\">1.0</span>  \n"
      ],
      "text/plain": [
       "<IPython.core.display.Markdown object>"
      ]
     },
     "metadata": {},
     "output_type": "display_data"
    },
    {
     "name": "stdout",
     "output_type": "stream",
     "text": [
      "Job running: 51525806.dccn-l029.dccn.nl\n",
      "RABIES: default params.\n",
      "-----------\n"
     ]
    },
    {
     "data": {
      "text/markdown": [
       "Rat num: <span style=\"color:#FF5733\">0202305</span>  \n",
       "Preprocess config: <span style=\"color:#FF91A4\">0</span>  \n",
       "Session n°: <span style=\"color:#45B39D\">1</span>  \n",
       "TR: <span style=\"color:#0099FF\">1.0</span>  \n"
      ],
      "text/plain": [
       "<IPython.core.display.Markdown object>"
      ]
     },
     "metadata": {},
     "output_type": "display_data"
    },
    {
     "name": "stdout",
     "output_type": "stream",
     "text": [
      "Job running: 51525807.dccn-l029.dccn.nl\n",
      "RABIES: default params.\n",
      "-----------\n"
     ]
    },
    {
     "data": {
      "text/markdown": [
       "Rat num: <span style=\"color:#FF5733\">0202306</span>  \n",
       "Preprocess config: <span style=\"color:#FF91A4\">0</span>  \n",
       "Session n°: <span style=\"color:#45B39D\">1</span>  \n",
       "TR: <span style=\"color:#0099FF\">1.0</span>  \n"
      ],
      "text/plain": [
       "<IPython.core.display.Markdown object>"
      ]
     },
     "metadata": {},
     "output_type": "display_data"
    },
    {
     "name": "stdout",
     "output_type": "stream",
     "text": [
      "Job running: 51525808.dccn-l029.dccn.nl\n",
      "RABIES: default params.\n",
      "-----------\n"
     ]
    },
    {
     "data": {
      "text/markdown": [
       "Rat num: <span style=\"color:#FF5733\">0202307</span>  \n",
       "Preprocess config: <span style=\"color:#FF91A4\">0</span>  \n",
       "Session n°: <span style=\"color:#45B39D\">1</span>  \n",
       "TR: <span style=\"color:#0099FF\">1.0</span>  \n"
      ],
      "text/plain": [
       "<IPython.core.display.Markdown object>"
      ]
     },
     "metadata": {},
     "output_type": "display_data"
    },
    {
     "name": "stdout",
     "output_type": "stream",
     "text": [
      "Job running: 51525809.dccn-l029.dccn.nl\n",
      "RABIES: default params.\n",
      "-----------\n"
     ]
    },
    {
     "data": {
      "text/markdown": [
       "Rat num: <span style=\"color:#FF5733\">0202308</span>  \n",
       "Preprocess config: <span style=\"color:#FF91A4\">0</span>  \n",
       "Session n°: <span style=\"color:#45B39D\">1</span>  \n",
       "TR: <span style=\"color:#0099FF\">1.0</span>  \n"
      ],
      "text/plain": [
       "<IPython.core.display.Markdown object>"
      ]
     },
     "metadata": {},
     "output_type": "display_data"
    },
    {
     "name": "stdout",
     "output_type": "stream",
     "text": [
      "Job running: 51525810.dccn-l029.dccn.nl\n",
      "RABIES: default params.\n",
      "-----------\n"
     ]
    },
    {
     "data": {
      "text/markdown": [
       "Rat num: <span style=\"color:#FF5733\">0202309</span>  \n",
       "Preprocess config: <span style=\"color:#FF91A4\">0</span>  \n",
       "Session n°: <span style=\"color:#45B39D\">1</span>  \n",
       "TR: <span style=\"color:#0099FF\">1.0</span>  \n"
      ],
      "text/plain": [
       "<IPython.core.display.Markdown object>"
      ]
     },
     "metadata": {},
     "output_type": "display_data"
    },
    {
     "name": "stdout",
     "output_type": "stream",
     "text": [
      "Job running: 51525811.dccn-l029.dccn.nl\n",
      "RABIES: default params.\n",
      "-----------\n"
     ]
    }
   ],
   "source": [
    "# --- Preprocess all datasets with RABIES --- \n",
    "\n",
    "for index in range(0, len(df)):\n",
    "\n",
    "    # --- Define scans variables ---\n",
    "    rabies_preprocess = str(df.iloc[index]['rabies_prepro'])         #remove the 2 last characters with [:-2], because input = 0.0 instead of 0\n",
    "    subj_num=str(df.iloc[index]['rat.sub'])[:-2]                               #remove the 2 last characters with [:-2], if need zero at the begenning .zfill(9) )\n",
    "    ses_num=str(df.iloc[index]['rat.ses'])[:-2] \n",
    "    TR=str(df.iloc[index]['func.TR'])\n",
    "        \n",
    "    # --- Template & masks --\n",
    "    template_dir='/groupshare/traaffneu/preclinimg/templates/SIGMA_Wistar_Rat_Brain_TemplatesAndAtlases_Version1.1'\n",
    "    template='/template/SIGMA_Rat_Anatomical_Imaging/SIGMA_Rat_Anatomical_InVivo_Template/SIGMA_InVivo_Brain_Template.nii'\n",
    "    mask='/template/SIGMA_Rat_Anatomical_Imaging/SIGMA_Rat_Anatomical_InVivo_Template/SIGMA_InVivo_Brain_Mask.nii'\n",
    "    wm='/template/SIGMA_Rat_Anatomical_Imaging/SIGMA_Rat_Anatomical_InVivo_Template/SIGMA_InVivo_WM_bin.nii.gz'\n",
    "    csf='/template/SIGMA_Rat_Anatomical_Imaging/SIGMA_Rat_Anatomical_InVivo_Template/SIGMA_InVivo_CSF_bin.nii.gz '\n",
    "    atlas='/template/SIGMA_Rat_Brain_Atlases/SIGMA_Anatomical_Atlas/SIGMA_Anatomical_Brain_Atlas_rs.nii'\n",
    "\n",
    "    # --- Input and output directories ---\n",
    "    BIDS_input=f'/project/4180000.19/multirat_stim/rabies/BIDS_input/sub-0{subj_num}'\n",
    "    preprocess_outputs=f'/project/4180000.19/multirat_stim/scratch/rabies_test/preprocess/sub-0{subj_num}_ses-{ses_num}'\n",
    "    \n",
    "    class ProcessingConfig(Enum):\n",
    "        DefaultParameters='0'\n",
    "        AlreadyPreprocessed='1'\n",
    "        CorrectiveParameters='2'\n",
    "        \n",
    "    rabies_preprocess_config_value=str(df.iloc[index]['rabies_prepro'])    \n",
    "    rabies_preprocess_config = ProcessingConfig(rabies_preprocess_config_value)\n",
    "    \n",
    "    # --- Print scan infos --- \n",
    "    scan_infos=(f'Rat num: <span style=\"color:#FF5733\">0{subj_num}</span>  \\n'     \n",
    "                f'Preprocess config: <span style=\"color:#FF91A4\">{rabies_preprocess_config_value}</span>  \\n'\n",
    "                f'Session n°: <span style=\"color:#45B39D\">{ses_num}</span>  \\n'\n",
    "                f'TR: <span style=\"color:#0099FF\">{TR}</span>  \\n')\n",
    "\n",
    "    \n",
    "    # -- Run RABIES preprocessing, as a job on the HPC --\n",
    "    if rabies_preprocess_config == ProcessingConfig.CorrectiveParameters:\n",
    "        display(Markdown(scan_infos))        \n",
    "        correction_arg=str(df.iloc[index]['rabies_cor'])\n",
    "        qsub_prepro_rabies(subj_num, template_dir, BIDS_input, preprocess_outputs, TR, template, mask, wm, csf, atlas, correction_arg)\n",
    "        print(\"RABIES: corrective params.\")\n",
    "        print('-----------')  \n",
    "        \n",
    "    elif rabies_preprocess_config == ProcessingConfig.DefaultParameters:        \n",
    "        display(Markdown(scan_infos))\n",
    "        correction_arg=''\n",
    "        qsub_prepro_rabies(subj_num, template_dir, BIDS_input, preprocess_outputs, TR, template, mask, wm, csf, atlas, correction_arg)\n",
    "        print(\"RABIES: default params.\") \n",
    "        print('-----------')  "
   ]
  }
 ],
 "metadata": {
  "kernelspec": {
   "display_name": "Python 3",
   "language": "python",
   "name": "python3"
  },
  "language_info": {
   "codemirror_mode": {
    "name": "ipython",
    "version": 3
   },
   "file_extension": ".py",
   "mimetype": "text/x-python",
   "name": "python",
   "nbconvert_exporter": "python",
   "pygments_lexer": "ipython3",
   "version": "3.9.18"
  }
 },
 "nbformat": 4,
 "nbformat_minor": 2
}
