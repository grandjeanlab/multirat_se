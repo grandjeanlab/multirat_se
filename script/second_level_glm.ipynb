{
 "cells": [
  {
   "cell_type": "code",
   "execution_count": 276,
   "metadata": {},
   "outputs": [],
   "source": [
    "#https://nilearn.github.io/dev/glm/second_level_model.html\n",
    "# Reminder : Multiple comparisons correction\n",
    "\n",
    "import os\n",
    "import nilearn \n",
    "import numpy as np \n",
    "import pandas as pd\n",
    "import nibabel as nib\n",
    "\n",
    "import matplotlib.pyplot as plt\n",
    "from nilearn.glm.second_level import make_second_level_design_matrix\n",
    "from nilearn.plotting import plot_design_matrix\n",
    "from nilearn.glm.second_level import SecondLevelModel\n",
    "from nilearn.datasets import fetch_localizer_contrasts\n",
    "\n",
    "\n",
    "\n",
    "\n",
    "# Init variables\n",
    "init_folder='/home/traaffneu/margal/code/multirat_se/script/'\n",
    "analysis_folder='/project/4180000.19/multirat_stim/rabies/preprocess'\n",
    "\n",
    "# Data path\n",
    "template_path ='/groupshare/traaffneu/preclinimg/templates/SIGMA_Wistar_Rat_Brain_TemplatesAndAtlases_Version1.1/SIGMA_Rat_Anatomical_Imaging/SIGMA_Rat_Anatomical_InVivo_Template/SIGMA_InVivo_Brain_Template.nii'\n",
    "metadata_path = '/home/traaffneu/margal/code/multirat_se/script/table/metadata_stand.tsv'\n",
    "\n",
    "# Paths for the directories\n",
    "output_dir = '/project/4180000.19/multirat_stim/rabies_test/second_level_analysis/'\n",
    "if not os.path.exists(output_dir):\n",
    "    os.makedirs(output_dir)\n",
    "\n",
    "\n",
    "\n",
    "df = pd.read_csv(metadata_path, sep='\\t')\n",
    "df = df.loc[(df['exclude'] != 'yes')]\n",
    "\n"
   ]
  },
  {
   "cell_type": "code",
   "execution_count": null,
   "metadata": {},
   "outputs": [],
   "source": [
    "cofounders_list = pd.DataFrame(columns=['subject_label', 'field_strength'])\n",
    "subjects_label_list = pd.DataFrame(columns=['subject_label'])\n",
    "\n",
    "for index in range (1, 20):\n",
    "    \n",
    "    n_subjects = 20  \n",
    "\n",
    "    subject_label = int(np.matrix(df.iloc[index]['rat.sub']).A[0])\n",
    "    field_strength = np.matrix(df.iloc[index]['MRI.field.strength']).A[0]\n",
    "    cofounders = pd.DataFrame({'subject_label': subject_label,'field_strength': field_strength})\n",
    "\n",
    "    cofounders_list = cofounders_list.append(cofounders, ignore_index=True)\n",
    "    subjects_label_list = subjects_label_list.append({'subject_label': subject_label}, ignore_index=True)\n",
    "\n",
    "# print(subjects_label_list)\n",
    "# print(cofounders_list)\n",
    "\n",
    "\n",
    "design_matrix = make_second_level_design_matrix(subjects_label_list['subject_label'], cofounders_list)      #extract subject_label column from subject_label_list dataframe -> convert as an array\n",
    "print(design_matrix)\n",
    "\n",
    "# ----------------------------------------------------------------\n",
    "\n",
    "\n",
    "\n"
   ]
  },
  {
   "cell_type": "code",
   "execution_count": 274,
   "metadata": {},
   "outputs": [
    {
     "data": {
      "image/png": "[encoded data removed]",
      "text/plain": [
       "<Figure size 146x346 with 1 Axes>"
      ]
     },
     "metadata": {},
     "output_type": "display_data"
    }
   ],
   "source": [
    "\n",
    "ax = plot_design_matrix(design_matrix)\n",
    "ax.set_title(\"Second level design matrix\", fontsize=12)\n",
    "ax.set_ylabel(\"maps\")\n",
    "plt.tight_layout()\n",
    "plt.show()"
   ]
  },
  {
   "cell_type": "code",
   "execution_count": null,
   "metadata": {},
   "outputs": [],
   "source": [
    "for i in range(1, 15)\n",
    "    subj_num=str(df.iloc[i]['rat.sub'])[:-2]\n",
    "    print(subj_num)\n",
    "\n",
    "    subject_path = analysis_folder+'/sub-0{}_ses-1/bold_datasink/commonspace_bold/_scan_info_subject_id0{}.session1_split_name_sub-0{}_ses-1_T2w/_run_1/sub-0{}_ses-1_run-1_bold_combined.nii.gz'.format(subj_num, subj_num, subj_num, subj_num)\n",
    "\n",
    "n_subjects = 16\n",
    "data = fetch_localizer_contrasts([\"left vs right button press\"],\n",
    "                                 n_subjects,\n",
    "                                 get_tmaps=True,\n",
    "                                 legacy_format=False)\n",
    "\n"
   ]
  },
  {
   "cell_type": "code",
   "execution_count": 278,
   "metadata": {},
   "outputs": [],
   "source": [
    "\n",
    "second_level_input = data[\"cmaps\"]\n",
    "design_matrix = pd.DataFrame(\n",
    "    [1] * len(second_level_input),\n",
    "    columns=[\"intercept\"],\n",
    "\n",
    "\n",
    "second_level_model = SecondLevelModel(smoothing_fwhm=8.0)\n",
    "second_level_model = second_level_model.fit(second_level_model,\n",
    "                                            design_matrix=design_matrix)"
   ]
  }
 ],
 "metadata": {
  "kernelspec": {
   "display_name": "MultiRatStim",
   "language": "python",
   "name": "python3"
  },
  "language_info": {
   "codemirror_mode": {
    "name": "ipython",
    "version": 3
   },
   "file_extension": ".py",
   "mimetype": "text/x-python",
   "name": "python",
   "nbconvert_exporter": "python",
   "pygments_lexer": "ipython3",
   "version": "3.9.2"
  },
  "orig_nbformat": 4
 },
 "nbformat": 4,
 "nbformat_minor": 2
}
