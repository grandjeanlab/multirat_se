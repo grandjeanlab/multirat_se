{
 "cells": [
  {
   "cell_type": "markdown",
   "metadata": {},
   "source": [
    "## Suppl. Create a table of z-scores\n"
   ]
  },
  {
   "cell_type": "code",
   "execution_count": 1,
   "metadata": {},
   "outputs": [],
   "source": [
    "import glob \n",
    "import numpy as np\n",
    "import pandas as pd\n",
    "import nibabel as nib\n",
    "from numpy import savetxt\n",
    "from numpy import genfromtxt\n",
    "from nilearn import plotting\n",
    "import matplotlib.pyplot as plt\n",
    "import nilearn.plotting as plotting\n",
    "from nilearn.maskers import NiftiSpheresMasker"
   ]
  },
  {
   "cell_type": "markdown",
   "metadata": {},
   "source": [
    "### Loop through HRF"
   ]
  },
  {
   "cell_type": "code",
   "execution_count": 55,
   "metadata": {},
   "outputs": [],
   "source": [
    "# --- Init variables --- \n",
    "\n",
    "analysis_folder = '/project/4180000.19/multirat_stim/scratch/rabies_test/'\n",
    "first_level_path = analysis_folder+'first_level/'\n",
    "\n",
    "hrfs = ['Two_gammas', 'Peak_span', 'glover', 'spm', 'block']  \n",
    "hrf_paths = {'Two_gammas': analysis_folder+'first_level/Two_gammas/mask_ROIs/',\n",
    "            'Peak_span': analysis_folder+'first_level/Peak_span/mask_ROIs/',\n",
    "            'glover' : analysis_folder+'first_level/glover/mask_ROIs/', \n",
    "            'spm' : analysis_folder+'first_level/spm/mask_ROIs/',\n",
    "            'block' : analysis_folder+'first_level/block/mask_ROIs/'} "
   ]
  },
  {
   "cell_type": "markdown",
   "metadata": {},
   "source": [
    "### Group level zscores"
   ]
  },
  {
   "cell_type": "code",
   "execution_count": 61,
   "metadata": {},
   "outputs": [
    {
     "name": "stdout",
     "output_type": "stream",
     "text": [
      "Processing HRF: Peak_span\n",
      "all_zscores [          0\n",
      "0  8.481281,           0\n",
      "0  1.575252,           0\n",
      "0  3.982688,           0\n",
      "0  8.068061,           0\n",
      "0  3.193054,           0\n",
      "0  1.421595,           0\n",
      "0  3.639332,          0\n",
      "0  2.57244,          0\n",
      "0  2.23472,          0\n",
      "0 -0.12213]\n",
      "                   Average Z-Scores  Standard Deviation\n",
      "HRF       Dataset                                      \n",
      "Peak_span ds_01            3.504629            2.781532\n",
      "          ds_02            3.504629            2.781532\n",
      "          ds_03            3.504629            2.781532\n",
      "          ds_04            3.504629            2.781532\n",
      "          ds_05            3.504629            2.781532\n",
      "          ds_06            3.504629            2.781532\n",
      "          ds_07            3.504629            2.781532\n",
      "          ds_08            3.504629            2.781532\n",
      "          ds_09            3.504629            2.781532\n",
      "          ds_10            3.504629            2.781532\n",
      "          ds_11            3.504629            2.781532\n",
      "          ds_12            3.504629            2.781532\n",
      "          ds_13            3.504629            2.781532\n",
      "          ds_14            3.504629            2.781532\n",
      "          ds_15            3.504629            2.781532\n",
      "          ds_16            3.504629            2.781532\n",
      "          ds_17            3.504629            2.781532\n",
      "          ds_18            3.504629            2.781532\n",
      "          ds_19            3.504629            2.781532\n",
      "          ds_20            3.504629            2.781532\n",
      "          ds_21            3.504629            2.781532\n",
      "          ds_22            3.504629            2.781532\n"
     ]
    }
   ],
   "source": [
    "import pandas as pd\n",
    "\n",
    "hrfs = ['Peak_span']  \n",
    "\n",
    "# Initialize lists to store the results\n",
    "all_avg_zscores = []\n",
    "all_std_zscores = []\n",
    "zscores_df = []\n",
    "\n",
    "for hrf in hrfs:\n",
    "    print('Processing HRF:', hrf)\n",
    "    hrf_path = hrf_paths[hrf]\n",
    "\n",
    "    avg_zscores_list = []\n",
    "    std_zscores_list = []\n",
    "\n",
    "    for ds_num in range(1, 2):\n",
    "        all_zscores = []\n",
    "        ds = f'{ds_num:02d}'\n",
    "\n",
    "        for subj_num in range(0, 10):\n",
    "            try:\n",
    "                zscores_csv = pd.read_csv(hrf_path + f'z_scores/zscores_sub-020{ds}0{subj_num}_ses-1.csv', header=None)\n",
    "                all_zscores.append(zscores_csv)\n",
    "            except FileNotFoundError:\n",
    "                continue\n",
    "        \n",
    "        print('all_zscores', all_zscores)\n",
    "        average_zscores = pd.concat(all_zscores).mean()\n",
    "        std_zscores = pd.concat(all_zscores).std()\n",
    "        #print(std_zscores)\n",
    "        \n",
    "        # Append the results to the respective lists\n",
    "        avg_zscores_list.append(average_zscores.values[0])\n",
    "        std_zscores_list.append(std_zscores.values[0])\n",
    "        \n",
    "    \n",
    "    # Create DataFrames for average and std z-scores for this HRF\n",
    "    df_avg = pd.DataFrame({'Average Z-Scores': avg_zscores_list}, index=[f'ds_{i:02d}' for i in range(1, 23)])\n",
    "    df_std = pd.DataFrame({'Standard Deviation': std_zscores_list}, index=[f'ds_{i:02d}' for i in range(1, 23)])\n",
    "    \n",
    "    df_avg.to_csv(f'/project/4180000.19/multirat_stim/scratch/rabies_test/second_level/{hrf}/mean_zscores/mean_zscores_ds-{ds}.csv', header=False, index=True)\n",
    "    df_std.to_csv(f'/project/4180000.19/multirat_stim/scratch/rabies_test/second_level/{hrf}/mean_zscores/std-deviation_zscores_ds-{ds}.csv', header=False, index=True)\n",
    "\n",
    "    # Combine the DataFrames\n",
    "    combined_df = pd.concat([df_avg, df_std], axis=1)\n",
    "    \n",
    "    # Append the combined DataFrame for this HRF to the list\n",
    "    zscores_df.append(combined_df)\n",
    "\n",
    "final_df = pd.concat(zscores_df, keys=hrfs, names=['HRF', 'Dataset'])\n",
    "final_df.to_csv(f'/project/4180000.19/multirat_stim/scratch/plots/mean_zscores/HRFs_mean-std_zscores.csv')\n",
    "\n",
    "print(final_df)"
   ]
  },
  {
   "cell_type": "markdown",
   "metadata": {},
   "source": [
    "### Individual level zscores"
   ]
  },
  {
   "cell_type": "code",
   "execution_count": 60,
   "metadata": {},
   "outputs": [
    {
     "name": "stdout",
     "output_type": "stream",
     "text": [
      "Processing HRF: Two_gammas\n",
      "Processing HRF: Peak_span\n",
      "Processing HRF: glover\n",
      "Processing HRF: spm\n",
      "Processing HRF: block\n",
      "   Two_gammas_ds-01_subj-0  Two_gammas_ds-01_subj-1  Two_gammas_ds-01_subj-2  \\\n",
      "0                 4.360135                 0.327204                 1.305259   \n",
      "\n",
      "   Two_gammas_ds-01_subj-3  Two_gammas_ds-01_subj-4  Two_gammas_ds-01_subj-5  \\\n",
      "0                 3.384516                 2.228767                 0.390096   \n",
      "\n",
      "   Two_gammas_ds-01_subj-6  Two_gammas_ds-01_subj-7  Two_gammas_ds-01_subj-8  \\\n",
      "0                 1.758436                 0.944008                 0.906288   \n",
      "\n",
      "   Two_gammas_ds-01_subj-9  ...  block_ds-22_subj-0  block_ds-22_subj-1  \\\n",
      "0                -0.013368  ...           -4.923715           -1.752598   \n",
      "\n",
      "   block_ds-22_subj-2  block_ds-22_subj-3  block_ds-22_subj-4  \\\n",
      "0           -0.634145            -4.66322            2.381456   \n",
      "\n",
      "   block_ds-22_subj-5  block_ds-22_subj-6  block_ds-22_subj-7  \\\n",
      "0            -0.95078           -4.024012           -5.230482   \n",
      "\n",
      "   block_ds-22_subj-8  block_ds-22_subj-9  \n",
      "0           -1.027725           -2.954252  \n",
      "\n",
      "[1 rows x 1045 columns]\n"
     ]
    }
   ],
   "source": [
    "zscores_df = pd.DataFrame()  # Initialize an empty DataFrame to store all z-scores\n",
    "\n",
    "for hrf in hrfs:                                         # Loop through HRFs\n",
    "    print('Processing HRF:', hrf)\n",
    "    hrf_path = hrf_paths[hrf]\n",
    "    hrf_zscores = pd.DataFrame()                         # Initialize a DataFrame for each HRF\n",
    "\n",
    "    for ds_num in range(1, 23):                           # Loop through datasets\n",
    "        all_zscores = []                                  # Initialize list to store z-scores for all subjects in the dataset\n",
    "        ds = f'{ds_num:02d}'\n",
    "\n",
    "        for subj_num in range(0, 10):                    # Loop through subjects within the dataset\n",
    "            try:\n",
    "                # Read the z-scores file for the current subject\n",
    "                zscores_csv = pd.read_csv(hrf_path + f'z_scores/zscores_sub-020{ds}0{subj_num}_ses-1.csv', header=None)\n",
    "                all_zscores.append(zscores_csv)\n",
    "            except FileNotFoundError:\n",
    "                continue\n",
    "\n",
    "        if all_zscores:  # If there are z-scores to process\n",
    "            combined_zscores = pd.concat(all_zscores, axis=1)  # Concatenate all z-scores for the dataset across subjects\n",
    "\n",
    "            # Flatten and create a series with unique column names for each z-score in the dataset\n",
    "            combined_zscores.columns = [f'{hrf}_ds-{ds}_subj-{subj_num}' for subj_num in range(combined_zscores.shape[1])]\n",
    "\n",
    "            # Append combined z-scores to the hrf_zscores DataFrame for this HRF\n",
    "            hrf_zscores = pd.concat([hrf_zscores, combined_zscores], axis=1)\n",
    "\n",
    "    # Merge with the overall zscores_df on index to keep alignment of rows/columns\n",
    "    zscores_df = pd.concat([zscores_df, hrf_zscores], axis=1)\n",
    "\n",
    "# Save the resulting DataFrame to CSV\n",
    "zscores_df.to_csv(f'/project/4180000.19/multirat_stim/scratch/plots/mean_zscores/HRFs_individual_zscores.csv')\n",
    "\n",
    "# Display the final zscores_df\n",
    "print(zscores_df)\n"
   ]
  },
  {
   "cell_type": "markdown",
   "metadata": {},
   "source": []
  }
 ],
 "metadata": {
  "kernelspec": {
   "display_name": "MultiRatStim",
   "language": "python",
   "name": "multiratstim"
  },
  "language_info": {
   "codemirror_mode": {
    "name": "ipython",
    "version": 3
   },
   "file_extension": ".py",
   "mimetype": "text/x-python",
   "name": "python",
   "nbconvert_exporter": "python",
   "pygments_lexer": "ipython3",
   "version": "3.9.18"
  }
 },
 "nbformat": 4,
 "nbformat_minor": 2
}
