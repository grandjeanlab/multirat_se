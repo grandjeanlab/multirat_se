{
 "cells": [
  {
   "cell_type": "code",
   "execution_count": 3,
   "metadata": {},
   "outputs": [
    {
     "name": "stdout",
     "output_type": "stream",
     "text": [
      "                                     Sex     Strain  Anesthesia  \\\n",
      "4.7                             0.000000   0.000000    0.000000   \n",
      "7.0                             0.000000   0.000000    0.000000   \n",
      "9.4                             0.000000   0.000000    0.000000   \n",
      "14.0                            0.000000   0.000000    0.000000   \n",
      "14.1                            0.000000   0.000000    0.000000   \n",
      "17.2                            0.000000   0.000000    0.000000   \n",
      "Male                           64.088398   0.000000    0.000000   \n",
      "Female                         35.911602   0.000000    0.000000   \n",
      "Sprague Dawley                  0.000000  56.353591    0.000000   \n",
      "Wistar                          0.000000  27.071823    0.000000   \n",
      "Fischer 344                     0.000000  16.574586    0.000000   \n",
      "Isoflurane / Medetomidine       0.000000   0.000000   50.828729   \n",
      "Isoflurane                      0.000000   0.000000   38.674033   \n",
      "Isoflurane / Alpha-Chloralose   0.000000   0.000000    5.524862   \n",
      "Ketamine / Xylazine             0.000000   0.000000    4.972376   \n",
      "Electric                        0.000000   0.000000    0.000000   \n",
      "Light                           0.000000   0.000000    0.000000   \n",
      "Thermal                         0.000000   0.000000    0.000000   \n",
      "Optogenetic                     0.000000   0.000000    0.000000   \n",
      "Mechanical Deflection           0.000000   0.000000    0.000000   \n",
      "Forepaw                         0.000000   0.000000    0.000000   \n",
      "Hindpaw                         0.000000   0.000000    0.000000   \n",
      "Eye                             0.000000   0.000000    0.000000   \n",
      "Whiskers                        0.000000   0.000000    0.000000   \n",
      "\n",
      "                               Stimulation Type  Stimulation Location  \\\n",
      "4.7                                    0.000000              0.000000   \n",
      "7.0                                    0.000000              0.000000   \n",
      "9.4                                    0.000000              0.000000   \n",
      "14.0                                   0.000000              0.000000   \n",
      "14.1                                   0.000000              0.000000   \n",
      "17.2                                   0.000000              0.000000   \n",
      "Male                                   0.000000              0.000000   \n",
      "Female                                 0.000000              0.000000   \n",
      "Sprague Dawley                         0.000000              0.000000   \n",
      "Wistar                                 0.000000              0.000000   \n",
      "Fischer 344                            0.000000              0.000000   \n",
      "Isoflurane / Medetomidine              0.000000              0.000000   \n",
      "Isoflurane                             0.000000              0.000000   \n",
      "Isoflurane / Alpha-Chloralose          0.000000              0.000000   \n",
      "Ketamine / Xylazine                    0.000000              0.000000   \n",
      "Electric                              64.088398              0.000000   \n",
      "Light                                 14.364641              0.000000   \n",
      "Thermal                               10.497238              0.000000   \n",
      "Optogenetic                            5.524862              0.000000   \n",
      "Mechanical Deflection                  5.524862              0.000000   \n",
      "Forepaw                                0.000000             64.640884   \n",
      "Hindpaw                                0.000000             15.469613   \n",
      "Eye                                    0.000000             14.364641   \n",
      "Whiskers                               0.000000              5.524862   \n",
      "\n",
      "                               MRI Field Strength  \n",
      "4.7                                     11.049724  \n",
      "7.0                                     10.497238  \n",
      "9.4                                     47.513812  \n",
      "14.0                                    11.049724  \n",
      "14.1                                     5.524862  \n",
      "17.2                                    14.364641  \n",
      "Male                                     0.000000  \n",
      "Female                                   0.000000  \n",
      "Sprague Dawley                           0.000000  \n",
      "Wistar                                   0.000000  \n",
      "Fischer 344                              0.000000  \n",
      "Isoflurane / Medetomidine                0.000000  \n",
      "Isoflurane                               0.000000  \n",
      "Isoflurane / Alpha-Chloralose            0.000000  \n",
      "Ketamine / Xylazine                      0.000000  \n",
      "Electric                                 0.000000  \n",
      "Light                                    0.000000  \n",
      "Thermal                                  0.000000  \n",
      "Optogenetic                              0.000000  \n",
      "Mechanical Deflection                    0.000000  \n",
      "Forepaw                                  0.000000  \n",
      "Hindpaw                                  0.000000  \n",
      "Eye                                      0.000000  \n",
      "Whiskers                                 0.000000  \n"
     ]
    }
   ],
   "source": [
    "# --- Plot Figure 1: Population Parameters --- \n",
    "\n",
    "import os\n",
    "import numpy as np\n",
    "import pandas as pd\n",
    "import seaborn as sns\n",
    "import matplotlib.pyplot as plt\n",
    "import plotly.graph_objects as go\n",
    "import matplotlib.colors as mcolors\n",
    "\n",
    "#Init Variables\n",
    "init_folder='/home/traaffneu/margal/code/multirat_se/scripts/'\n",
    "output_folder = '/project/4180000.19/multirat_stim/scratch/plots/population/'\n",
    "\n",
    "metadata_path ='/home/traaffneu/margal/code/multirat_se/script/table/metadata_stand.tsv'\n",
    "df = pd.read_csv(metadata_path, sep='\\t')\n",
    "\n",
    "metadata = pd.concat([df['rat.sex'].value_counts(sort=False),\n",
    "                    df['rat.strain'].value_counts(sort=False), \n",
    "                    df['anesthesia.induction'].value_counts(sort=False), \n",
    "                    df['func.sensory.stimulation'].value_counts(sort=False), \n",
    "                    df['func.sensory.system'].value_counts(sort=False), \n",
    "                    df['MRI.field.strength'].value_counts(sort=False)], axis=1)\n",
    "\n",
    "metadata = metadata.sort_values(by=metadata.columns.tolist(), ascending=False)\n",
    "metadata = metadata.rename(index={key: ' '.join(word.title() if word != 'S1FL' else word for word in key.split()) if isinstance(key, str) else key for key in metadata.index})  #add capital letter to each row , while preserving already existing caps\n",
    "\n",
    "desired_order = sorted(metadata.index[-6:], key=lambda x: float(x))              #change order of the filed strength rows\n",
    "metadata = metadata.reindex(desired_order + metadata.index[:-6].tolist())        # ascending order of values per column\n",
    "\n",
    "metadata = metadata/metadata.sum()*100\n",
    "metadata = metadata.rename(columns={\"rat.sex\":\"Sex\", \n",
    "                                    \"rat.strain\":\"Strain\", \n",
    "                                    \"anesthesia.induction\":\"Anesthesia\",\n",
    "                                    \"func.sensory.stimulation\":\"Stimulation Type\", \n",
    "                                    \"func.sensory.system\":\"Stimulation Location\",\n",
    "                                    \"MRI.field.strength\":\"MRI Field Strength\"})\n",
    "\n",
    "metadata = metadata.fillna(0)\n",
    "\n",
    "print(metadata)"
   ]
  },
  {
   "cell_type": "code",
   "execution_count": 10,
   "metadata": {},
   "outputs": [
    {
     "data": {
      "application/vnd.plotly.v1+json": {
       "config": {
        "plotlyServerURL": "https://plot.ly"
       },
       "data": [
        {
         "marker": {
          "color": "rgba(0.7309496347558632, 0.8394771241830065, 0.9213225682429834)",
          "line": {
           "color": "rgba(58, 71, 80, 1.0)",
           "width": 1
          }
         },
         "orientation": "h",
         "type": "bar",
         "x": [
          11.049723756906078
         ],
         "y": [
          "MRI Field Strength"
         ]
        },
        {
         "marker": {
          "color": "rgba(0.7309496347558632, 0.8394771241830065, 0.9213225682429834)",
          "line": {
           "color": "rgba(58, 71, 80, 1.0)",
           "width": 1
          }
         },
         "orientation": "h",
         "type": "bar",
         "x": [
          10.497237569060774
         ],
         "y": [
          "MRI Field Strength"
         ]
        },
        {
         "marker": {
          "color": "rgba(0.7309496347558632, 0.8394771241830065, 0.9213225682429834)",
          "line": {
           "color": "rgba(58, 71, 80, 1.0)",
           "width": 1
          }
         },
         "orientation": "h",
         "type": "bar",
         "x": [
          47.51381215469613
         ],
         "y": [
          "MRI Field Strength"
         ]
        },
        {
         "marker": {
          "color": "rgba(0.7309496347558632, 0.8394771241830065, 0.9213225682429834)",
          "line": {
           "color": "rgba(58, 71, 80, 1.0)",
           "width": 1
          }
         },
         "orientation": "h",
         "type": "bar",
         "x": [
          11.049723756906078
         ],
         "y": [
          "MRI Field Strength"
         ]
        },
        {
         "marker": {
          "color": "rgba(0.7309496347558632, 0.8394771241830065, 0.9213225682429834)",
          "line": {
           "color": "rgba(58, 71, 80, 1.0)",
           "width": 1
          }
         },
         "orientation": "h",
         "type": "bar",
         "x": [
          5.524861878453039
         ],
         "y": [
          "MRI Field Strength"
         ]
        },
        {
         "marker": {
          "color": "rgba(0.7309496347558632, 0.8394771241830065, 0.9213225682429834)",
          "line": {
           "color": "rgba(58, 71, 80, 1.0)",
           "width": 1
          }
         },
         "orientation": "h",
         "type": "bar",
         "x": [
          14.3646408839779
         ],
         "y": [
          "MRI Field Strength"
         ]
        },
        {
         "marker": {
          "color": "rgba(0.7309496347558632, 0.8394771241830065, 0.9213225682429834)",
          "line": {
           "color": "rgba(58, 71, 80, 1.0)",
           "width": 1
          }
         },
         "orientation": "h",
         "type": "bar",
         "x": [
          0
         ],
         "y": [
          "MRI Field Strength"
         ]
        },
        {
         "marker": {
          "color": "rgba(0.7309496347558632, 0.8394771241830065, 0.9213225682429834)",
          "line": {
           "color": "rgba(58, 71, 80, 1.0)",
           "width": 1
          }
         },
         "orientation": "h",
         "type": "bar",
         "x": [
          0
         ],
         "y": [
          "MRI Field Strength"
         ]
        },
        {
         "marker": {
          "color": "rgba(0.7309496347558632, 0.8394771241830065, 0.9213225682429834)",
          "line": {
           "color": "rgba(58, 71, 80, 1.0)",
           "width": 1
          }
         },
         "orientation": "h",
         "type": "bar",
         "x": [
          0
         ],
         "y": [
          "MRI Field Strength"
         ]
        },
        {
         "marker": {
          "color": "rgba(0.7309496347558632, 0.8394771241830065, 0.9213225682429834)",
          "line": {
           "color": "rgba(58, 71, 80, 1.0)",
           "width": 1
          }
         },
         "orientation": "h",
         "type": "bar",
         "x": [
          0
         ],
         "y": [
          "MRI Field Strength"
         ]
        },
        {
         "marker": {
          "color": "rgba(0.7309496347558632, 0.8394771241830065, 0.9213225682429834)",
          "line": {
           "color": "rgba(58, 71, 80, 1.0)",
           "width": 1
          }
         },
         "orientation": "h",
         "type": "bar",
         "x": [
          0
         ],
         "y": [
          "MRI Field Strength"
         ]
        },
        {
         "marker": {
          "color": "rgba(0.7309496347558632, 0.8394771241830065, 0.9213225682429834)",
          "line": {
           "color": "rgba(58, 71, 80, 1.0)",
           "width": 1
          }
         },
         "orientation": "h",
         "type": "bar",
         "x": [
          0
         ],
         "y": [
          "MRI Field Strength"
         ]
        },
        {
         "marker": {
          "color": "rgba(0.7309496347558632, 0.8394771241830065, 0.9213225682429834)",
          "line": {
           "color": "rgba(58, 71, 80, 1.0)",
           "width": 1
          }
         },
         "orientation": "h",
         "type": "bar",
         "x": [
          0
         ],
         "y": [
          "MRI Field Strength"
         ]
        },
        {
         "marker": {
          "color": "rgba(0.7309496347558632, 0.8394771241830065, 0.9213225682429834)",
          "line": {
           "color": "rgba(58, 71, 80, 1.0)",
           "width": 1
          }
         },
         "orientation": "h",
         "type": "bar",
         "x": [
          0
         ],
         "y": [
          "MRI Field Strength"
         ]
        },
        {
         "marker": {
          "color": "rgba(0.7309496347558632, 0.8394771241830065, 0.9213225682429834)",
          "line": {
           "color": "rgba(58, 71, 80, 1.0)",
           "width": 1
          }
         },
         "orientation": "h",
         "type": "bar",
         "x": [
          0
         ],
         "y": [
          "MRI Field Strength"
         ]
        },
        {
         "marker": {
          "color": "rgba(0.7309496347558632, 0.8394771241830065, 0.9213225682429834)",
          "line": {
           "color": "rgba(58, 71, 80, 1.0)",
           "width": 1
          }
         },
         "orientation": "h",
         "type": "bar",
         "x": [
          0
         ],
         "y": [
          "MRI Field Strength"
         ]
        },
        {
         "marker": {
          "color": "rgba(0.7309496347558632, 0.8394771241830065, 0.9213225682429834)",
          "line": {
           "color": "rgba(58, 71, 80, 1.0)",
           "width": 1
          }
         },
         "orientation": "h",
         "type": "bar",
         "x": [
          0
         ],
         "y": [
          "MRI Field Strength"
         ]
        },
        {
         "marker": {
          "color": "rgba(0.7309496347558632, 0.8394771241830065, 0.9213225682429834)",
          "line": {
           "color": "rgba(58, 71, 80, 1.0)",
           "width": 1
          }
         },
         "orientation": "h",
         "type": "bar",
         "x": [
          0
         ],
         "y": [
          "MRI Field Strength"
         ]
        },
        {
         "marker": {
          "color": "rgba(0.7309496347558632, 0.8394771241830065, 0.9213225682429834)",
          "line": {
           "color": "rgba(58, 71, 80, 1.0)",
           "width": 1
          }
         },
         "orientation": "h",
         "type": "bar",
         "x": [
          0
         ],
         "y": [
          "MRI Field Strength"
         ]
        },
        {
         "marker": {
          "color": "rgba(0.7309496347558632, 0.8394771241830065, 0.9213225682429834)",
          "line": {
           "color": "rgba(58, 71, 80, 1.0)",
           "width": 1
          }
         },
         "orientation": "h",
         "type": "bar",
         "x": [
          0
         ],
         "y": [
          "MRI Field Strength"
         ]
        },
        {
         "marker": {
          "color": "rgba(0.7309496347558632, 0.8394771241830065, 0.9213225682429834)",
          "line": {
           "color": "rgba(58, 71, 80, 1.0)",
           "width": 1
          }
         },
         "orientation": "h",
         "type": "bar",
         "x": [
          0
         ],
         "y": [
          "MRI Field Strength"
         ]
        },
        {
         "marker": {
          "color": "rgba(0.7309496347558632, 0.8394771241830065, 0.9213225682429834)",
          "line": {
           "color": "rgba(58, 71, 80, 1.0)",
           "width": 1
          }
         },
         "orientation": "h",
         "type": "bar",
         "x": [
          0
         ],
         "y": [
          "MRI Field Strength"
         ]
        },
        {
         "marker": {
          "color": "rgba(0.7309496347558632, 0.8394771241830065, 0.9213225682429834)",
          "line": {
           "color": "rgba(58, 71, 80, 1.0)",
           "width": 1
          }
         },
         "orientation": "h",
         "type": "bar",
         "x": [
          0
         ],
         "y": [
          "MRI Field Strength"
         ]
        },
        {
         "marker": {
          "color": "rgba(0.7309496347558632, 0.8394771241830065, 0.9213225682429834)",
          "line": {
           "color": "rgba(58, 71, 80, 1.0)",
           "width": 1
          }
         },
         "orientation": "h",
         "type": "bar",
         "x": [
          0
         ],
         "y": [
          "MRI Field Strength"
         ]
        },
        {
         "marker": {
          "color": "rgba(0.32628988850442137, 0.6186236063052672, 0.802798923490965)",
          "line": {
           "color": "rgba(58, 71, 80, 1.0)",
           "width": 1
          }
         },
         "orientation": "h",
         "type": "bar",
         "x": [
          0
         ],
         "y": [
          "Strain"
         ]
        },
        {
         "marker": {
          "color": "rgba(0.32628988850442137, 0.6186236063052672, 0.802798923490965)",
          "line": {
           "color": "rgba(58, 71, 80, 1.0)",
           "width": 1
          }
         },
         "orientation": "h",
         "type": "bar",
         "x": [
          0
         ],
         "y": [
          "Strain"
         ]
        },
        {
         "marker": {
          "color": "rgba(0.32628988850442137, 0.6186236063052672, 0.802798923490965)",
          "line": {
           "color": "rgba(58, 71, 80, 1.0)",
           "width": 1
          }
         },
         "orientation": "h",
         "type": "bar",
         "x": [
          0
         ],
         "y": [
          "Strain"
         ]
        },
        {
         "marker": {
          "color": "rgba(0.32628988850442137, 0.6186236063052672, 0.802798923490965)",
          "line": {
           "color": "rgba(58, 71, 80, 1.0)",
           "width": 1
          }
         },
         "orientation": "h",
         "type": "bar",
         "x": [
          0
         ],
         "y": [
          "Strain"
         ]
        },
        {
         "marker": {
          "color": "rgba(0.32628988850442137, 0.6186236063052672, 0.802798923490965)",
          "line": {
           "color": "rgba(58, 71, 80, 1.0)",
           "width": 1
          }
         },
         "orientation": "h",
         "type": "bar",
         "x": [
          0
         ],
         "y": [
          "Strain"
         ]
        },
        {
         "marker": {
          "color": "rgba(0.32628988850442137, 0.6186236063052672, 0.802798923490965)",
          "line": {
           "color": "rgba(58, 71, 80, 1.0)",
           "width": 1
          }
         },
         "orientation": "h",
         "type": "bar",
         "x": [
          0
         ],
         "y": [
          "Strain"
         ]
        },
        {
         "marker": {
          "color": "rgba(0.32628988850442137, 0.6186236063052672, 0.802798923490965)",
          "line": {
           "color": "rgba(58, 71, 80, 1.0)",
           "width": 1
          }
         },
         "orientation": "h",
         "type": "bar",
         "x": [
          0
         ],
         "y": [
          "Strain"
         ]
        },
        {
         "marker": {
          "color": "rgba(0.32628988850442137, 0.6186236063052672, 0.802798923490965)",
          "line": {
           "color": "rgba(58, 71, 80, 1.0)",
           "width": 1
          }
         },
         "orientation": "h",
         "type": "bar",
         "x": [
          0
         ],
         "y": [
          "Strain"
         ]
        },
        {
         "marker": {
          "color": "rgba(0.32628988850442137, 0.6186236063052672, 0.802798923490965)",
          "line": {
           "color": "rgba(58, 71, 80, 1.0)",
           "width": 1
          }
         },
         "orientation": "h",
         "type": "bar",
         "x": [
          56.353591160220994
         ],
         "y": [
          "Strain"
         ]
        },
        {
         "marker": {
          "color": "rgba(0.32628988850442137, 0.6186236063052672, 0.802798923490965)",
          "line": {
           "color": "rgba(58, 71, 80, 1.0)",
           "width": 1
          }
         },
         "orientation": "h",
         "type": "bar",
         "x": [
          27.071823204419886
         ],
         "y": [
          "Strain"
         ]
        },
        {
         "marker": {
          "color": "rgba(0.32628988850442137, 0.6186236063052672, 0.802798923490965)",
          "line": {
           "color": "rgba(58, 71, 80, 1.0)",
           "width": 1
          }
         },
         "orientation": "h",
         "type": "bar",
         "x": [
          16.574585635359114
         ],
         "y": [
          "Strain"
         ]
        },
        {
         "marker": {
          "color": "rgba(0.32628988850442137, 0.6186236063052672, 0.802798923490965)",
          "line": {
           "color": "rgba(58, 71, 80, 1.0)",
           "width": 1
          }
         },
         "orientation": "h",
         "type": "bar",
         "x": [
          0
         ],
         "y": [
          "Strain"
         ]
        },
        {
         "marker": {
          "color": "rgba(0.32628988850442137, 0.6186236063052672, 0.802798923490965)",
          "line": {
           "color": "rgba(58, 71, 80, 1.0)",
           "width": 1
          }
         },
         "orientation": "h",
         "type": "bar",
         "x": [
          0
         ],
         "y": [
          "Strain"
         ]
        },
        {
         "marker": {
          "color": "rgba(0.32628988850442137, 0.6186236063052672, 0.802798923490965)",
          "line": {
           "color": "rgba(58, 71, 80, 1.0)",
           "width": 1
          }
         },
         "orientation": "h",
         "type": "bar",
         "x": [
          0
         ],
         "y": [
          "Strain"
         ]
        },
        {
         "marker": {
          "color": "rgba(0.32628988850442137, 0.6186236063052672, 0.802798923490965)",
          "line": {
           "color": "rgba(58, 71, 80, 1.0)",
           "width": 1
          }
         },
         "orientation": "h",
         "type": "bar",
         "x": [
          0
         ],
         "y": [
          "Strain"
         ]
        },
        {
         "marker": {
          "color": "rgba(0.32628988850442137, 0.6186236063052672, 0.802798923490965)",
          "line": {
           "color": "rgba(58, 71, 80, 1.0)",
           "width": 1
          }
         },
         "orientation": "h",
         "type": "bar",
         "x": [
          0
         ],
         "y": [
          "Strain"
         ]
        },
        {
         "marker": {
          "color": "rgba(0.32628988850442137, 0.6186236063052672, 0.802798923490965)",
          "line": {
           "color": "rgba(58, 71, 80, 1.0)",
           "width": 1
          }
         },
         "orientation": "h",
         "type": "bar",
         "x": [
          0
         ],
         "y": [
          "Strain"
         ]
        },
        {
         "marker": {
          "color": "rgba(0.32628988850442137, 0.6186236063052672, 0.802798923490965)",
          "line": {
           "color": "rgba(58, 71, 80, 1.0)",
           "width": 1
          }
         },
         "orientation": "h",
         "type": "bar",
         "x": [
          0
         ],
         "y": [
          "Strain"
         ]
        },
        {
         "marker": {
          "color": "rgba(0.32628988850442137, 0.6186236063052672, 0.802798923490965)",
          "line": {
           "color": "rgba(58, 71, 80, 1.0)",
           "width": 1
          }
         },
         "orientation": "h",
         "type": "bar",
         "x": [
          0
         ],
         "y": [
          "Strain"
         ]
        },
        {
         "marker": {
          "color": "rgba(0.32628988850442137, 0.6186236063052672, 0.802798923490965)",
          "line": {
           "color": "rgba(58, 71, 80, 1.0)",
           "width": 1
          }
         },
         "orientation": "h",
         "type": "bar",
         "x": [
          0
         ],
         "y": [
          "Strain"
         ]
        },
        {
         "marker": {
          "color": "rgba(0.32628988850442137, 0.6186236063052672, 0.802798923490965)",
          "line": {
           "color": "rgba(58, 71, 80, 1.0)",
           "width": 1
          }
         },
         "orientation": "h",
         "type": "bar",
         "x": [
          0
         ],
         "y": [
          "Strain"
         ]
        },
        {
         "marker": {
          "color": "rgba(0.32628988850442137, 0.6186236063052672, 0.802798923490965)",
          "line": {
           "color": "rgba(58, 71, 80, 1.0)",
           "width": 1
          }
         },
         "orientation": "h",
         "type": "bar",
         "x": [
          0
         ],
         "y": [
          "Strain"
         ]
        },
        {
         "marker": {
          "color": "rgba(0.32628988850442137, 0.6186236063052672, 0.802798923490965)",
          "line": {
           "color": "rgba(58, 71, 80, 1.0)",
           "width": 1
          }
         },
         "orientation": "h",
         "type": "bar",
         "x": [
          0
         ],
         "y": [
          "Strain"
         ]
        },
        {
         "marker": {
          "color": "rgba(0.32628988850442137, 0.6186236063052672, 0.802798923490965)",
          "line": {
           "color": "rgba(58, 71, 80, 1.0)",
           "width": 1
          }
         },
         "orientation": "h",
         "type": "bar",
         "x": [
          0
         ],
         "y": [
          "Strain"
         ]
        },
        {
         "marker": {
          "color": "rgba(0.044059976931949255, 0.3338869665513264, 0.6244521337946944)",
          "line": {
           "color": "rgba(58, 71, 80, 1.0)",
           "width": 1
          }
         },
         "orientation": "h",
         "type": "bar",
         "x": [
          0
         ],
         "y": [
          "Sex"
         ]
        },
        {
         "marker": {
          "color": "rgba(0.044059976931949255, 0.3338869665513264, 0.6244521337946944)",
          "line": {
           "color": "rgba(58, 71, 80, 1.0)",
           "width": 1
          }
         },
         "orientation": "h",
         "type": "bar",
         "x": [
          0
         ],
         "y": [
          "Sex"
         ]
        },
        {
         "marker": {
          "color": "rgba(0.044059976931949255, 0.3338869665513264, 0.6244521337946944)",
          "line": {
           "color": "rgba(58, 71, 80, 1.0)",
           "width": 1
          }
         },
         "orientation": "h",
         "type": "bar",
         "x": [
          0
         ],
         "y": [
          "Sex"
         ]
        },
        {
         "marker": {
          "color": "rgba(0.044059976931949255, 0.3338869665513264, 0.6244521337946944)",
          "line": {
           "color": "rgba(58, 71, 80, 1.0)",
           "width": 1
          }
         },
         "orientation": "h",
         "type": "bar",
         "x": [
          0
         ],
         "y": [
          "Sex"
         ]
        },
        {
         "marker": {
          "color": "rgba(0.044059976931949255, 0.3338869665513264, 0.6244521337946944)",
          "line": {
           "color": "rgba(58, 71, 80, 1.0)",
           "width": 1
          }
         },
         "orientation": "h",
         "type": "bar",
         "x": [
          0
         ],
         "y": [
          "Sex"
         ]
        },
        {
         "marker": {
          "color": "rgba(0.044059976931949255, 0.3338869665513264, 0.6244521337946944)",
          "line": {
           "color": "rgba(58, 71, 80, 1.0)",
           "width": 1
          }
         },
         "orientation": "h",
         "type": "bar",
         "x": [
          0
         ],
         "y": [
          "Sex"
         ]
        },
        {
         "marker": {
          "color": "rgba(0.044059976931949255, 0.3338869665513264, 0.6244521337946944)",
          "line": {
           "color": "rgba(58, 71, 80, 1.0)",
           "width": 1
          }
         },
         "orientation": "h",
         "type": "bar",
         "x": [
          64.08839779005525
         ],
         "y": [
          "Sex"
         ]
        },
        {
         "marker": {
          "color": "rgba(0.044059976931949255, 0.3338869665513264, 0.6244521337946944)",
          "line": {
           "color": "rgba(58, 71, 80, 1.0)",
           "width": 1
          }
         },
         "orientation": "h",
         "type": "bar",
         "x": [
          35.91160220994475
         ],
         "y": [
          "Sex"
         ]
        },
        {
         "marker": {
          "color": "rgba(0.044059976931949255, 0.3338869665513264, 0.6244521337946944)",
          "line": {
           "color": "rgba(58, 71, 80, 1.0)",
           "width": 1
          }
         },
         "orientation": "h",
         "type": "bar",
         "x": [
          0
         ],
         "y": [
          "Sex"
         ]
        },
        {
         "marker": {
          "color": "rgba(0.044059976931949255, 0.3338869665513264, 0.6244521337946944)",
          "line": {
           "color": "rgba(58, 71, 80, 1.0)",
           "width": 1
          }
         },
         "orientation": "h",
         "type": "bar",
         "x": [
          0
         ],
         "y": [
          "Sex"
         ]
        },
        {
         "marker": {
          "color": "rgba(0.044059976931949255, 0.3338869665513264, 0.6244521337946944)",
          "line": {
           "color": "rgba(58, 71, 80, 1.0)",
           "width": 1
          }
         },
         "orientation": "h",
         "type": "bar",
         "x": [
          0
         ],
         "y": [
          "Sex"
         ]
        },
        {
         "marker": {
          "color": "rgba(0.044059976931949255, 0.3338869665513264, 0.6244521337946944)",
          "line": {
           "color": "rgba(58, 71, 80, 1.0)",
           "width": 1
          }
         },
         "orientation": "h",
         "type": "bar",
         "x": [
          0
         ],
         "y": [
          "Sex"
         ]
        },
        {
         "marker": {
          "color": "rgba(0.044059976931949255, 0.3338869665513264, 0.6244521337946944)",
          "line": {
           "color": "rgba(58, 71, 80, 1.0)",
           "width": 1
          }
         },
         "orientation": "h",
         "type": "bar",
         "x": [
          0
         ],
         "y": [
          "Sex"
         ]
        },
        {
         "marker": {
          "color": "rgba(0.044059976931949255, 0.3338869665513264, 0.6244521337946944)",
          "line": {
           "color": "rgba(58, 71, 80, 1.0)",
           "width": 1
          }
         },
         "orientation": "h",
         "type": "bar",
         "x": [
          0
         ],
         "y": [
          "Sex"
         ]
        },
        {
         "marker": {
          "color": "rgba(0.044059976931949255, 0.3338869665513264, 0.6244521337946944)",
          "line": {
           "color": "rgba(58, 71, 80, 1.0)",
           "width": 1
          }
         },
         "orientation": "h",
         "type": "bar",
         "x": [
          0
         ],
         "y": [
          "Sex"
         ]
        },
        {
         "marker": {
          "color": "rgba(0.044059976931949255, 0.3338869665513264, 0.6244521337946944)",
          "line": {
           "color": "rgba(58, 71, 80, 1.0)",
           "width": 1
          }
         },
         "orientation": "h",
         "type": "bar",
         "x": [
          0
         ],
         "y": [
          "Sex"
         ]
        },
        {
         "marker": {
          "color": "rgba(0.044059976931949255, 0.3338869665513264, 0.6244521337946944)",
          "line": {
           "color": "rgba(58, 71, 80, 1.0)",
           "width": 1
          }
         },
         "orientation": "h",
         "type": "bar",
         "x": [
          0
         ],
         "y": [
          "Sex"
         ]
        },
        {
         "marker": {
          "color": "rgba(0.044059976931949255, 0.3338869665513264, 0.6244521337946944)",
          "line": {
           "color": "rgba(58, 71, 80, 1.0)",
           "width": 1
          }
         },
         "orientation": "h",
         "type": "bar",
         "x": [
          0
         ],
         "y": [
          "Sex"
         ]
        },
        {
         "marker": {
          "color": "rgba(0.044059976931949255, 0.3338869665513264, 0.6244521337946944)",
          "line": {
           "color": "rgba(58, 71, 80, 1.0)",
           "width": 1
          }
         },
         "orientation": "h",
         "type": "bar",
         "x": [
          0
         ],
         "y": [
          "Sex"
         ]
        },
        {
         "marker": {
          "color": "rgba(0.044059976931949255, 0.3338869665513264, 0.6244521337946944)",
          "line": {
           "color": "rgba(58, 71, 80, 1.0)",
           "width": 1
          }
         },
         "orientation": "h",
         "type": "bar",
         "x": [
          0
         ],
         "y": [
          "Sex"
         ]
        },
        {
         "marker": {
          "color": "rgba(0.044059976931949255, 0.3338869665513264, 0.6244521337946944)",
          "line": {
           "color": "rgba(58, 71, 80, 1.0)",
           "width": 1
          }
         },
         "orientation": "h",
         "type": "bar",
         "x": [
          0
         ],
         "y": [
          "Sex"
         ]
        },
        {
         "marker": {
          "color": "rgba(0.044059976931949255, 0.3338869665513264, 0.6244521337946944)",
          "line": {
           "color": "rgba(58, 71, 80, 1.0)",
           "width": 1
          }
         },
         "orientation": "h",
         "type": "bar",
         "x": [
          0
         ],
         "y": [
          "Sex"
         ]
        },
        {
         "marker": {
          "color": "rgba(0.044059976931949255, 0.3338869665513264, 0.6244521337946944)",
          "line": {
           "color": "rgba(58, 71, 80, 1.0)",
           "width": 1
          }
         },
         "orientation": "h",
         "type": "bar",
         "x": [
          0
         ],
         "y": [
          "Sex"
         ]
        },
        {
         "marker": {
          "color": "rgba(0.044059976931949255, 0.3338869665513264, 0.6244521337946944)",
          "line": {
           "color": "rgba(58, 71, 80, 1.0)",
           "width": 1
          }
         },
         "orientation": "h",
         "type": "bar",
         "x": [
          0
         ],
         "y": [
          "Sex"
         ]
        }
       ],
       "layout": {
        "annotations": [
         {
          "font": {
           "color": "rgb(0, 0, 0)",
           "family": "Arial",
           "size": 14
          },
          "showarrow": false,
          "text": "4.7",
          "x": 5.524861878453039,
          "xref": "x",
          "y": "MRI Field Strength",
          "yref": "y"
         },
         {
          "font": {
           "color": "rgb(0, 0, 0)",
           "family": "Arial",
           "size": 14
          },
          "showarrow": false,
          "text": "7.0",
          "x": 16.298342541436465,
          "xref": "x",
          "y": "MRI Field Strength",
          "yref": "y"
         },
         {
          "font": {
           "color": "rgb(0, 0, 0)",
           "family": "Arial",
           "size": 14
          },
          "showarrow": false,
          "text": "9.4",
          "x": 45.30386740331492,
          "xref": "x",
          "y": "MRI Field Strength",
          "yref": "y"
         },
         {
          "font": {
           "color": "rgb(0, 0, 0)",
           "family": "Arial",
           "size": 14
          },
          "showarrow": false,
          "text": "14.0",
          "x": 74.58563535911603,
          "xref": "x",
          "y": "MRI Field Strength",
          "yref": "y"
         },
         {
          "font": {
           "color": "rgb(0, 0, 0)",
           "family": "Arial",
           "size": 14
          },
          "showarrow": false,
          "text": "14.1",
          "x": 82.87292817679558,
          "xref": "x",
          "y": "MRI Field Strength",
          "yref": "y"
         },
         {
          "font": {
           "color": "rgb(0, 0, 0)",
           "family": "Arial",
           "size": 14
          },
          "showarrow": false,
          "text": "17.2",
          "x": 92.81767955801105,
          "xref": "x",
          "y": "MRI Field Strength",
          "yref": "y"
         },
         {
          "font": {
           "color": "rgb(0, 0, 0)",
           "family": "Arial",
           "size": 14
          },
          "showarrow": false,
          "text": "Male",
          "x": 100,
          "xref": "x",
          "y": "MRI Field Strength",
          "yref": "y"
         },
         {
          "font": {
           "color": "rgb(0, 0, 0)",
           "family": "Arial",
           "size": 14
          },
          "showarrow": false,
          "text": "Female",
          "x": 100,
          "xref": "x",
          "y": "MRI Field Strength",
          "yref": "y"
         },
         {
          "font": {
           "color": "rgb(0, 0, 0)",
           "family": "Arial",
           "size": 14
          },
          "showarrow": false,
          "text": "Sprague Dawley",
          "x": 100,
          "xref": "x",
          "y": "MRI Field Strength",
          "yref": "y"
         },
         {
          "font": {
           "color": "rgb(0, 0, 0)",
           "family": "Arial",
           "size": 14
          },
          "showarrow": false,
          "text": "Wistar",
          "x": 100,
          "xref": "x",
          "y": "MRI Field Strength",
          "yref": "y"
         },
         {
          "font": {
           "color": "rgb(0, 0, 0)",
           "family": "Arial",
           "size": 14
          },
          "showarrow": false,
          "text": "Fischer 344",
          "x": 100,
          "xref": "x",
          "y": "MRI Field Strength",
          "yref": "y"
         },
         {
          "font": {
           "color": "rgb(0, 0, 0)",
           "family": "Arial",
           "size": 14
          },
          "showarrow": false,
          "text": "Isoflurane / Medetomidine",
          "x": 100,
          "xref": "x",
          "y": "MRI Field Strength",
          "yref": "y"
         },
         {
          "font": {
           "color": "rgb(0, 0, 0)",
           "family": "Arial",
           "size": 14
          },
          "showarrow": false,
          "text": "Isoflurane",
          "x": 100,
          "xref": "x",
          "y": "MRI Field Strength",
          "yref": "y"
         },
         {
          "font": {
           "color": "rgb(0, 0, 0)",
           "family": "Arial",
           "size": 14
          },
          "showarrow": false,
          "text": "Isoflurane / Alpha-Chloralose",
          "x": 100,
          "xref": "x",
          "y": "MRI Field Strength",
          "yref": "y"
         },
         {
          "font": {
           "color": "rgb(0, 0, 0)",
           "family": "Arial",
           "size": 14
          },
          "showarrow": false,
          "text": "Ketamine / Xylazine",
          "x": 100,
          "xref": "x",
          "y": "MRI Field Strength",
          "yref": "y"
         },
         {
          "font": {
           "color": "rgb(0, 0, 0)",
           "family": "Arial",
           "size": 14
          },
          "showarrow": false,
          "text": "Electric",
          "x": 100,
          "xref": "x",
          "y": "MRI Field Strength",
          "yref": "y"
         },
         {
          "font": {
           "color": "rgb(0, 0, 0)",
           "family": "Arial",
           "size": 14
          },
          "showarrow": false,
          "text": "Light",
          "x": 100,
          "xref": "x",
          "y": "MRI Field Strength",
          "yref": "y"
         },
         {
          "font": {
           "color": "rgb(0, 0, 0)",
           "family": "Arial",
           "size": 14
          },
          "showarrow": false,
          "text": "Thermal",
          "x": 100,
          "xref": "x",
          "y": "MRI Field Strength",
          "yref": "y"
         },
         {
          "font": {
           "color": "rgb(0, 0, 0)",
           "family": "Arial",
           "size": 14
          },
          "showarrow": false,
          "text": "Optogenetic",
          "x": 100,
          "xref": "x",
          "y": "MRI Field Strength",
          "yref": "y"
         },
         {
          "font": {
           "color": "rgb(0, 0, 0)",
           "family": "Arial",
           "size": 14
          },
          "showarrow": false,
          "text": "Mechanical Deflection",
          "x": 100,
          "xref": "x",
          "y": "MRI Field Strength",
          "yref": "y"
         },
         {
          "font": {
           "color": "rgb(0, 0, 0)",
           "family": "Arial",
           "size": 14
          },
          "showarrow": false,
          "text": "Forepaw",
          "x": 100,
          "xref": "x",
          "y": "MRI Field Strength",
          "yref": "y"
         },
         {
          "font": {
           "color": "rgb(0, 0, 0)",
           "family": "Arial",
           "size": 14
          },
          "showarrow": false,
          "text": "Hindpaw",
          "x": 100,
          "xref": "x",
          "y": "MRI Field Strength",
          "yref": "y"
         },
         {
          "font": {
           "color": "rgb(0, 0, 0)",
           "family": "Arial",
           "size": 14
          },
          "showarrow": false,
          "text": "Eye",
          "x": 100,
          "xref": "x",
          "y": "MRI Field Strength",
          "yref": "y"
         },
         {
          "font": {
           "color": "rgb(0, 0, 0)",
           "family": "Arial",
           "size": 14
          },
          "showarrow": false,
          "text": "Whiskers",
          "x": 100,
          "xref": "x",
          "y": "MRI Field Strength",
          "yref": "y"
         },
         {
          "font": {
           "color": "rgb(0, 0, 0)",
           "family": "Arial",
           "size": 14
          },
          "showarrow": false,
          "text": "4.7",
          "x": 0,
          "xref": "x",
          "y": "Strain",
          "yref": "y"
         },
         {
          "font": {
           "color": "rgb(0, 0, 0)",
           "family": "Arial",
           "size": 14
          },
          "showarrow": false,
          "text": "7.0",
          "x": 0,
          "xref": "x",
          "y": "Strain",
          "yref": "y"
         },
         {
          "font": {
           "color": "rgb(0, 0, 0)",
           "family": "Arial",
           "size": 14
          },
          "showarrow": false,
          "text": "9.4",
          "x": 0,
          "xref": "x",
          "y": "Strain",
          "yref": "y"
         },
         {
          "font": {
           "color": "rgb(0, 0, 0)",
           "family": "Arial",
           "size": 14
          },
          "showarrow": false,
          "text": "14.0",
          "x": 0,
          "xref": "x",
          "y": "Strain",
          "yref": "y"
         },
         {
          "font": {
           "color": "rgb(0, 0, 0)",
           "family": "Arial",
           "size": 14
          },
          "showarrow": false,
          "text": "14.1",
          "x": 0,
          "xref": "x",
          "y": "Strain",
          "yref": "y"
         },
         {
          "font": {
           "color": "rgb(0, 0, 0)",
           "family": "Arial",
           "size": 14
          },
          "showarrow": false,
          "text": "17.2",
          "x": 0,
          "xref": "x",
          "y": "Strain",
          "yref": "y"
         },
         {
          "font": {
           "color": "rgb(0, 0, 0)",
           "family": "Arial",
           "size": 14
          },
          "showarrow": false,
          "text": "Male",
          "x": 0,
          "xref": "x",
          "y": "Strain",
          "yref": "y"
         },
         {
          "font": {
           "color": "rgb(0, 0, 0)",
           "family": "Arial",
           "size": 14
          },
          "showarrow": false,
          "text": "Female",
          "x": 0,
          "xref": "x",
          "y": "Strain",
          "yref": "y"
         },
         {
          "font": {
           "color": "rgb(0, 0, 0)",
           "family": "Arial",
           "size": 14
          },
          "showarrow": false,
          "text": "Sprague Dawley",
          "x": 28.176795580110497,
          "xref": "x",
          "y": "Strain",
          "yref": "y"
         },
         {
          "font": {
           "color": "rgb(0, 0, 0)",
           "family": "Arial",
           "size": 14
          },
          "showarrow": false,
          "text": "Wistar",
          "x": 69.88950276243094,
          "xref": "x",
          "y": "Strain",
          "yref": "y"
         },
         {
          "font": {
           "color": "rgb(0, 0, 0)",
           "family": "Arial",
           "size": 14
          },
          "showarrow": false,
          "text": "Fischer 344",
          "x": 91.71270718232044,
          "xref": "x",
          "y": "Strain",
          "yref": "y"
         },
         {
          "font": {
           "color": "rgb(0, 0, 0)",
           "family": "Arial",
           "size": 14
          },
          "showarrow": false,
          "text": "Isoflurane / Medetomidine",
          "x": 100,
          "xref": "x",
          "y": "Strain",
          "yref": "y"
         },
         {
          "font": {
           "color": "rgb(0, 0, 0)",
           "family": "Arial",
           "size": 14
          },
          "showarrow": false,
          "text": "Isoflurane",
          "x": 100,
          "xref": "x",
          "y": "Strain",
          "yref": "y"
         },
         {
          "font": {
           "color": "rgb(0, 0, 0)",
           "family": "Arial",
           "size": 14
          },
          "showarrow": false,
          "text": "Isoflurane / Alpha-Chloralose",
          "x": 100,
          "xref": "x",
          "y": "Strain",
          "yref": "y"
         },
         {
          "font": {
           "color": "rgb(0, 0, 0)",
           "family": "Arial",
           "size": 14
          },
          "showarrow": false,
          "text": "Ketamine / Xylazine",
          "x": 100,
          "xref": "x",
          "y": "Strain",
          "yref": "y"
         },
         {
          "font": {
           "color": "rgb(0, 0, 0)",
           "family": "Arial",
           "size": 14
          },
          "showarrow": false,
          "text": "Electric",
          "x": 100,
          "xref": "x",
          "y": "Strain",
          "yref": "y"
         },
         {
          "font": {
           "color": "rgb(0, 0, 0)",
           "family": "Arial",
           "size": 14
          },
          "showarrow": false,
          "text": "Light",
          "x": 100,
          "xref": "x",
          "y": "Strain",
          "yref": "y"
         },
         {
          "font": {
           "color": "rgb(0, 0, 0)",
           "family": "Arial",
           "size": 14
          },
          "showarrow": false,
          "text": "Thermal",
          "x": 100,
          "xref": "x",
          "y": "Strain",
          "yref": "y"
         },
         {
          "font": {
           "color": "rgb(0, 0, 0)",
           "family": "Arial",
           "size": 14
          },
          "showarrow": false,
          "text": "Optogenetic",
          "x": 100,
          "xref": "x",
          "y": "Strain",
          "yref": "y"
         },
         {
          "font": {
           "color": "rgb(0, 0, 0)",
           "family": "Arial",
           "size": 14
          },
          "showarrow": false,
          "text": "Mechanical Deflection",
          "x": 100,
          "xref": "x",
          "y": "Strain",
          "yref": "y"
         },
         {
          "font": {
           "color": "rgb(0, 0, 0)",
           "family": "Arial",
           "size": 14
          },
          "showarrow": false,
          "text": "Forepaw",
          "x": 100,
          "xref": "x",
          "y": "Strain",
          "yref": "y"
         },
         {
          "font": {
           "color": "rgb(0, 0, 0)",
           "family": "Arial",
           "size": 14
          },
          "showarrow": false,
          "text": "Hindpaw",
          "x": 100,
          "xref": "x",
          "y": "Strain",
          "yref": "y"
         },
         {
          "font": {
           "color": "rgb(0, 0, 0)",
           "family": "Arial",
           "size": 14
          },
          "showarrow": false,
          "text": "Eye",
          "x": 100,
          "xref": "x",
          "y": "Strain",
          "yref": "y"
         },
         {
          "font": {
           "color": "rgb(0, 0, 0)",
           "family": "Arial",
           "size": 14
          },
          "showarrow": false,
          "text": "Whiskers",
          "x": 100,
          "xref": "x",
          "y": "Strain",
          "yref": "y"
         },
         {
          "font": {
           "color": "rgb(0, 0, 0)",
           "family": "Arial",
           "size": 14
          },
          "showarrow": false,
          "text": "4.7",
          "x": 0,
          "xref": "x",
          "y": "Sex",
          "yref": "y"
         },
         {
          "font": {
           "color": "rgb(0, 0, 0)",
           "family": "Arial",
           "size": 14
          },
          "showarrow": false,
          "text": "7.0",
          "x": 0,
          "xref": "x",
          "y": "Sex",
          "yref": "y"
         },
         {
          "font": {
           "color": "rgb(0, 0, 0)",
           "family": "Arial",
           "size": 14
          },
          "showarrow": false,
          "text": "9.4",
          "x": 0,
          "xref": "x",
          "y": "Sex",
          "yref": "y"
         },
         {
          "font": {
           "color": "rgb(0, 0, 0)",
           "family": "Arial",
           "size": 14
          },
          "showarrow": false,
          "text": "14.0",
          "x": 0,
          "xref": "x",
          "y": "Sex",
          "yref": "y"
         },
         {
          "font": {
           "color": "rgb(0, 0, 0)",
           "family": "Arial",
           "size": 14
          },
          "showarrow": false,
          "text": "14.1",
          "x": 0,
          "xref": "x",
          "y": "Sex",
          "yref": "y"
         },
         {
          "font": {
           "color": "rgb(0, 0, 0)",
           "family": "Arial",
           "size": 14
          },
          "showarrow": false,
          "text": "17.2",
          "x": 0,
          "xref": "x",
          "y": "Sex",
          "yref": "y"
         },
         {
          "font": {
           "color": "rgb(0, 0, 0)",
           "family": "Arial",
           "size": 14
          },
          "showarrow": false,
          "text": "Male",
          "x": 32.04419889502763,
          "xref": "x",
          "y": "Sex",
          "yref": "y"
         },
         {
          "font": {
           "color": "rgb(0, 0, 0)",
           "family": "Arial",
           "size": 14
          },
          "showarrow": false,
          "text": "Female",
          "x": 82.04419889502763,
          "xref": "x",
          "y": "Sex",
          "yref": "y"
         },
         {
          "font": {
           "color": "rgb(0, 0, 0)",
           "family": "Arial",
           "size": 14
          },
          "showarrow": false,
          "text": "Sprague Dawley",
          "x": 100,
          "xref": "x",
          "y": "Sex",
          "yref": "y"
         },
         {
          "font": {
           "color": "rgb(0, 0, 0)",
           "family": "Arial",
           "size": 14
          },
          "showarrow": false,
          "text": "Wistar",
          "x": 100,
          "xref": "x",
          "y": "Sex",
          "yref": "y"
         },
         {
          "font": {
           "color": "rgb(0, 0, 0)",
           "family": "Arial",
           "size": 14
          },
          "showarrow": false,
          "text": "Fischer 344",
          "x": 100,
          "xref": "x",
          "y": "Sex",
          "yref": "y"
         },
         {
          "font": {
           "color": "rgb(0, 0, 0)",
           "family": "Arial",
           "size": 14
          },
          "showarrow": false,
          "text": "Isoflurane / Medetomidine",
          "x": 100,
          "xref": "x",
          "y": "Sex",
          "yref": "y"
         },
         {
          "font": {
           "color": "rgb(0, 0, 0)",
           "family": "Arial",
           "size": 14
          },
          "showarrow": false,
          "text": "Isoflurane",
          "x": 100,
          "xref": "x",
          "y": "Sex",
          "yref": "y"
         },
         {
          "font": {
           "color": "rgb(0, 0, 0)",
           "family": "Arial",
           "size": 14
          },
          "showarrow": false,
          "text": "Isoflurane / Alpha-Chloralose",
          "x": 100,
          "xref": "x",
          "y": "Sex",
          "yref": "y"
         },
         {
          "font": {
           "color": "rgb(0, 0, 0)",
           "family": "Arial",
           "size": 14
          },
          "showarrow": false,
          "text": "Ketamine / Xylazine",
          "x": 100,
          "xref": "x",
          "y": "Sex",
          "yref": "y"
         },
         {
          "font": {
           "color": "rgb(0, 0, 0)",
           "family": "Arial",
           "size": 14
          },
          "showarrow": false,
          "text": "Electric",
          "x": 100,
          "xref": "x",
          "y": "Sex",
          "yref": "y"
         },
         {
          "font": {
           "color": "rgb(0, 0, 0)",
           "family": "Arial",
           "size": 14
          },
          "showarrow": false,
          "text": "Light",
          "x": 100,
          "xref": "x",
          "y": "Sex",
          "yref": "y"
         },
         {
          "font": {
           "color": "rgb(0, 0, 0)",
           "family": "Arial",
           "size": 14
          },
          "showarrow": false,
          "text": "Thermal",
          "x": 100,
          "xref": "x",
          "y": "Sex",
          "yref": "y"
         },
         {
          "font": {
           "color": "rgb(0, 0, 0)",
           "family": "Arial",
           "size": 14
          },
          "showarrow": false,
          "text": "Optogenetic",
          "x": 100,
          "xref": "x",
          "y": "Sex",
          "yref": "y"
         },
         {
          "font": {
           "color": "rgb(0, 0, 0)",
           "family": "Arial",
           "size": 14
          },
          "showarrow": false,
          "text": "Mechanical Deflection",
          "x": 100,
          "xref": "x",
          "y": "Sex",
          "yref": "y"
         },
         {
          "font": {
           "color": "rgb(0, 0, 0)",
           "family": "Arial",
           "size": 14
          },
          "showarrow": false,
          "text": "Forepaw",
          "x": 100,
          "xref": "x",
          "y": "Sex",
          "yref": "y"
         },
         {
          "font": {
           "color": "rgb(0, 0, 0)",
           "family": "Arial",
           "size": 14
          },
          "showarrow": false,
          "text": "Hindpaw",
          "x": 100,
          "xref": "x",
          "y": "Sex",
          "yref": "y"
         },
         {
          "font": {
           "color": "rgb(0, 0, 0)",
           "family": "Arial",
           "size": 14
          },
          "showarrow": false,
          "text": "Eye",
          "x": 100,
          "xref": "x",
          "y": "Sex",
          "yref": "y"
         },
         {
          "font": {
           "color": "rgb(0, 0, 0)",
           "family": "Arial",
           "size": 14
          },
          "showarrow": false,
          "text": "Whiskers",
          "x": 100,
          "xref": "x",
          "y": "Sex",
          "yref": "y"
         }
        ],
        "barmode": "stack",
        "showlegend": false,
        "template": {
         "data": {
          "bar": [
           {
            "error_x": {
             "color": "#2a3f5f"
            },
            "error_y": {
             "color": "#2a3f5f"
            },
            "marker": {
             "line": {
              "color": "#E5ECF6",
              "width": 0.5
             },
             "pattern": {
              "fillmode": "overlay",
              "size": 10,
              "solidity": 0.2
             }
            },
            "type": "bar"
           }
          ],
          "barpolar": [
           {
            "marker": {
             "line": {
              "color": "#E5ECF6",
              "width": 0.5
             },
             "pattern": {
              "fillmode": "overlay",
              "size": 10,
              "solidity": 0.2
             }
            },
            "type": "barpolar"
           }
          ],
          "carpet": [
           {
            "aaxis": {
             "endlinecolor": "#2a3f5f",
             "gridcolor": "white",
             "linecolor": "white",
             "minorgridcolor": "white",
             "startlinecolor": "#2a3f5f"
            },
            "baxis": {
             "endlinecolor": "#2a3f5f",
             "gridcolor": "white",
             "linecolor": "white",
             "minorgridcolor": "white",
             "startlinecolor": "#2a3f5f"
            },
            "type": "carpet"
           }
          ],
          "choropleth": [
           {
            "colorbar": {
             "outlinewidth": 0,
             "ticks": ""
            },
            "type": "choropleth"
           }
          ],
          "contour": [
           {
            "colorbar": {
             "outlinewidth": 0,
             "ticks": ""
            },
            "colorscale": [
             [
              0,
              "#0d0887"
             ],
             [
              0.1111111111111111,
              "#46039f"
             ],
             [
              0.2222222222222222,
              "#7201a8"
             ],
             [
              0.3333333333333333,
              "#9c179e"
             ],
             [
              0.4444444444444444,
              "#bd3786"
             ],
             [
              0.5555555555555556,
              "#d8576b"
             ],
             [
              0.6666666666666666,
              "#ed7953"
             ],
             [
              0.7777777777777778,
              "#fb9f3a"
             ],
             [
              0.8888888888888888,
              "#fdca26"
             ],
             [
              1,
              "#f0f921"
             ]
            ],
            "type": "contour"
           }
          ],
          "contourcarpet": [
           {
            "colorbar": {
             "outlinewidth": 0,
             "ticks": ""
            },
            "type": "contourcarpet"
           }
          ],
          "heatmap": [
           {
            "colorbar": {
             "outlinewidth": 0,
             "ticks": ""
            },
            "colorscale": [
             [
              0,
              "#0d0887"
             ],
             [
              0.1111111111111111,
              "#46039f"
             ],
             [
              0.2222222222222222,
              "#7201a8"
             ],
             [
              0.3333333333333333,
              "#9c179e"
             ],
             [
              0.4444444444444444,
              "#bd3786"
             ],
             [
              0.5555555555555556,
              "#d8576b"
             ],
             [
              0.6666666666666666,
              "#ed7953"
             ],
             [
              0.7777777777777778,
              "#fb9f3a"
             ],
             [
              0.8888888888888888,
              "#fdca26"
             ],
             [
              1,
              "#f0f921"
             ]
            ],
            "type": "heatmap"
           }
          ],
          "heatmapgl": [
           {
            "colorbar": {
             "outlinewidth": 0,
             "ticks": ""
            },
            "colorscale": [
             [
              0,
              "#0d0887"
             ],
             [
              0.1111111111111111,
              "#46039f"
             ],
             [
              0.2222222222222222,
              "#7201a8"
             ],
             [
              0.3333333333333333,
              "#9c179e"
             ],
             [
              0.4444444444444444,
              "#bd3786"
             ],
             [
              0.5555555555555556,
              "#d8576b"
             ],
             [
              0.6666666666666666,
              "#ed7953"
             ],
             [
              0.7777777777777778,
              "#fb9f3a"
             ],
             [
              0.8888888888888888,
              "#fdca26"
             ],
             [
              1,
              "#f0f921"
             ]
            ],
            "type": "heatmapgl"
           }
          ],
          "histogram": [
           {
            "marker": {
             "pattern": {
              "fillmode": "overlay",
              "size": 10,
              "solidity": 0.2
             }
            },
            "type": "histogram"
           }
          ],
          "histogram2d": [
           {
            "colorbar": {
             "outlinewidth": 0,
             "ticks": ""
            },
            "colorscale": [
             [
              0,
              "#0d0887"
             ],
             [
              0.1111111111111111,
              "#46039f"
             ],
             [
              0.2222222222222222,
              "#7201a8"
             ],
             [
              0.3333333333333333,
              "#9c179e"
             ],
             [
              0.4444444444444444,
              "#bd3786"
             ],
             [
              0.5555555555555556,
              "#d8576b"
             ],
             [
              0.6666666666666666,
              "#ed7953"
             ],
             [
              0.7777777777777778,
              "#fb9f3a"
             ],
             [
              0.8888888888888888,
              "#fdca26"
             ],
             [
              1,
              "#f0f921"
             ]
            ],
            "type": "histogram2d"
           }
          ],
          "histogram2dcontour": [
           {
            "colorbar": {
             "outlinewidth": 0,
             "ticks": ""
            },
            "colorscale": [
             [
              0,
              "#0d0887"
             ],
             [
              0.1111111111111111,
              "#46039f"
             ],
             [
              0.2222222222222222,
              "#7201a8"
             ],
             [
              0.3333333333333333,
              "#9c179e"
             ],
             [
              0.4444444444444444,
              "#bd3786"
             ],
             [
              0.5555555555555556,
              "#d8576b"
             ],
             [
              0.6666666666666666,
              "#ed7953"
             ],
             [
              0.7777777777777778,
              "#fb9f3a"
             ],
             [
              0.8888888888888888,
              "#fdca26"
             ],
             [
              1,
              "#f0f921"
             ]
            ],
            "type": "histogram2dcontour"
           }
          ],
          "mesh3d": [
           {
            "colorbar": {
             "outlinewidth": 0,
             "ticks": ""
            },
            "type": "mesh3d"
           }
          ],
          "parcoords": [
           {
            "line": {
             "colorbar": {
              "outlinewidth": 0,
              "ticks": ""
             }
            },
            "type": "parcoords"
           }
          ],
          "pie": [
           {
            "automargin": true,
            "type": "pie"
           }
          ],
          "scatter": [
           {
            "fillpattern": {
             "fillmode": "overlay",
             "size": 10,
             "solidity": 0.2
            },
            "type": "scatter"
           }
          ],
          "scatter3d": [
           {
            "line": {
             "colorbar": {
              "outlinewidth": 0,
              "ticks": ""
             }
            },
            "marker": {
             "colorbar": {
              "outlinewidth": 0,
              "ticks": ""
             }
            },
            "type": "scatter3d"
           }
          ],
          "scattercarpet": [
           {
            "marker": {
             "colorbar": {
              "outlinewidth": 0,
              "ticks": ""
             }
            },
            "type": "scattercarpet"
           }
          ],
          "scattergeo": [
           {
            "marker": {
             "colorbar": {
              "outlinewidth": 0,
              "ticks": ""
             }
            },
            "type": "scattergeo"
           }
          ],
          "scattergl": [
           {
            "marker": {
             "colorbar": {
              "outlinewidth": 0,
              "ticks": ""
             }
            },
            "type": "scattergl"
           }
          ],
          "scattermapbox": [
           {
            "marker": {
             "colorbar": {
              "outlinewidth": 0,
              "ticks": ""
             }
            },
            "type": "scattermapbox"
           }
          ],
          "scatterpolar": [
           {
            "marker": {
             "colorbar": {
              "outlinewidth": 0,
              "ticks": ""
             }
            },
            "type": "scatterpolar"
           }
          ],
          "scatterpolargl": [
           {
            "marker": {
             "colorbar": {
              "outlinewidth": 0,
              "ticks": ""
             }
            },
            "type": "scatterpolargl"
           }
          ],
          "scatterternary": [
           {
            "marker": {
             "colorbar": {
              "outlinewidth": 0,
              "ticks": ""
             }
            },
            "type": "scatterternary"
           }
          ],
          "surface": [
           {
            "colorbar": {
             "outlinewidth": 0,
             "ticks": ""
            },
            "colorscale": [
             [
              0,
              "#0d0887"
             ],
             [
              0.1111111111111111,
              "#46039f"
             ],
             [
              0.2222222222222222,
              "#7201a8"
             ],
             [
              0.3333333333333333,
              "#9c179e"
             ],
             [
              0.4444444444444444,
              "#bd3786"
             ],
             [
              0.5555555555555556,
              "#d8576b"
             ],
             [
              0.6666666666666666,
              "#ed7953"
             ],
             [
              0.7777777777777778,
              "#fb9f3a"
             ],
             [
              0.8888888888888888,
              "#fdca26"
             ],
             [
              1,
              "#f0f921"
             ]
            ],
            "type": "surface"
           }
          ],
          "table": [
           {
            "cells": {
             "fill": {
              "color": "#EBF0F8"
             },
             "line": {
              "color": "white"
             }
            },
            "header": {
             "fill": {
              "color": "#C8D4E3"
             },
             "line": {
              "color": "white"
             }
            },
            "type": "table"
           }
          ]
         },
         "layout": {
          "annotationdefaults": {
           "arrowcolor": "#2a3f5f",
           "arrowhead": 0,
           "arrowwidth": 1
          },
          "autotypenumbers": "strict",
          "coloraxis": {
           "colorbar": {
            "outlinewidth": 0,
            "ticks": ""
           }
          },
          "colorscale": {
           "diverging": [
            [
             0,
             "#8e0152"
            ],
            [
             0.1,
             "#c51b7d"
            ],
            [
             0.2,
             "#de77ae"
            ],
            [
             0.3,
             "#f1b6da"
            ],
            [
             0.4,
             "#fde0ef"
            ],
            [
             0.5,
             "#f7f7f7"
            ],
            [
             0.6,
             "#e6f5d0"
            ],
            [
             0.7,
             "#b8e186"
            ],
            [
             0.8,
             "#7fbc41"
            ],
            [
             0.9,
             "#4d9221"
            ],
            [
             1,
             "#276419"
            ]
           ],
           "sequential": [
            [
             0,
             "#0d0887"
            ],
            [
             0.1111111111111111,
             "#46039f"
            ],
            [
             0.2222222222222222,
             "#7201a8"
            ],
            [
             0.3333333333333333,
             "#9c179e"
            ],
            [
             0.4444444444444444,
             "#bd3786"
            ],
            [
             0.5555555555555556,
             "#d8576b"
            ],
            [
             0.6666666666666666,
             "#ed7953"
            ],
            [
             0.7777777777777778,
             "#fb9f3a"
            ],
            [
             0.8888888888888888,
             "#fdca26"
            ],
            [
             1,
             "#f0f921"
            ]
           ],
           "sequentialminus": [
            [
             0,
             "#0d0887"
            ],
            [
             0.1111111111111111,
             "#46039f"
            ],
            [
             0.2222222222222222,
             "#7201a8"
            ],
            [
             0.3333333333333333,
             "#9c179e"
            ],
            [
             0.4444444444444444,
             "#bd3786"
            ],
            [
             0.5555555555555556,
             "#d8576b"
            ],
            [
             0.6666666666666666,
             "#ed7953"
            ],
            [
             0.7777777777777778,
             "#fb9f3a"
            ],
            [
             0.8888888888888888,
             "#fdca26"
            ],
            [
             1,
             "#f0f921"
            ]
           ]
          },
          "colorway": [
           "#636efa",
           "#EF553B",
           "#00cc96",
           "#ab63fa",
           "#FFA15A",
           "#19d3f3",
           "#FF6692",
           "#B6E880",
           "#FF97FF",
           "#FECB52"
          ],
          "font": {
           "color": "#2a3f5f"
          },
          "geo": {
           "bgcolor": "white",
           "lakecolor": "white",
           "landcolor": "#E5ECF6",
           "showlakes": true,
           "showland": true,
           "subunitcolor": "white"
          },
          "hoverlabel": {
           "align": "left"
          },
          "hovermode": "closest",
          "mapbox": {
           "style": "light"
          },
          "paper_bgcolor": "white",
          "plot_bgcolor": "#E5ECF6",
          "polar": {
           "angularaxis": {
            "gridcolor": "white",
            "linecolor": "white",
            "ticks": ""
           },
           "bgcolor": "#E5ECF6",
           "radialaxis": {
            "gridcolor": "white",
            "linecolor": "white",
            "ticks": ""
           }
          },
          "scene": {
           "xaxis": {
            "backgroundcolor": "#E5ECF6",
            "gridcolor": "white",
            "gridwidth": 2,
            "linecolor": "white",
            "showbackground": true,
            "ticks": "",
            "zerolinecolor": "white"
           },
           "yaxis": {
            "backgroundcolor": "#E5ECF6",
            "gridcolor": "white",
            "gridwidth": 2,
            "linecolor": "white",
            "showbackground": true,
            "ticks": "",
            "zerolinecolor": "white"
           },
           "zaxis": {
            "backgroundcolor": "#E5ECF6",
            "gridcolor": "white",
            "gridwidth": 2,
            "linecolor": "white",
            "showbackground": true,
            "ticks": "",
            "zerolinecolor": "white"
           }
          },
          "shapedefaults": {
           "line": {
            "color": "#2a3f5f"
           }
          },
          "ternary": {
           "aaxis": {
            "gridcolor": "white",
            "linecolor": "white",
            "ticks": ""
           },
           "baxis": {
            "gridcolor": "white",
            "linecolor": "white",
            "ticks": ""
           },
           "bgcolor": "#E5ECF6",
           "caxis": {
            "gridcolor": "white",
            "linecolor": "white",
            "ticks": ""
           }
          },
          "title": {
           "x": 0.05
          },
          "xaxis": {
           "automargin": true,
           "gridcolor": "white",
           "linecolor": "white",
           "ticks": "",
           "title": {
            "standoff": 15
           },
           "zerolinecolor": "white",
           "zerolinewidth": 2
          },
          "yaxis": {
           "automargin": true,
           "gridcolor": "white",
           "linecolor": "white",
           "ticks": "",
           "title": {
            "standoff": 15
           },
           "zerolinecolor": "white",
           "zerolinewidth": 2
          }
         }
        },
        "title": {
         "text": "Figure 1a. Population parameters"
        },
        "xaxis": {
         "tickformat": ".f",
         "title": {
          "text": "Percentage"
         }
        },
        "yaxis": {
         "showticklabels": true,
         "title": {
          "text": "Categories"
         }
        }
       }
      },
      "text/html": [
       "<div>                            <div id=\"af7161d2-60d1-4934-aceb-945039f9680d\" class=\"plotly-graph-div\" style=\"height:525px; width:100%;\"></div>            <script type=\"text/javascript\">                require([\"plotly\"], function(Plotly) {                    window.PLOTLYENV=window.PLOTLYENV || {};                                    if (document.getElementById(\"af7161d2-60d1-4934-aceb-945039f9680d\")) {                    Plotly.newPlot(                        \"af7161d2-60d1-4934-aceb-945039f9680d\",                        [{\"marker\":{\"color\":\"rgba(0.7309496347558632, 0.8394771241830065, 0.9213225682429834)\",\"line\":{\"color\":\"rgba(58, 71, 80, 1.0)\",\"width\":1}},\"orientation\":\"h\",\"x\":[11.049723756906078],\"y\":[\"MRI Field Strength\"],\"type\":\"bar\"},{\"marker\":{\"color\":\"rgba(0.7309496347558632, 0.8394771241830065, 0.9213225682429834)\",\"line\":{\"color\":\"rgba(58, 71, 80, 1.0)\",\"width\":1}},\"orientation\":\"h\",\"x\":[10.497237569060774],\"y\":[\"MRI Field Strength\"],\"type\":\"bar\"},{\"marker\":{\"color\":\"rgba(0.7309496347558632, 0.8394771241830065, 0.9213225682429834)\",\"line\":{\"color\":\"rgba(58, 71, 80, 1.0)\",\"width\":1}},\"orientation\":\"h\",\"x\":[47.51381215469613],\"y\":[\"MRI Field Strength\"],\"type\":\"bar\"},{\"marker\":{\"color\":\"rgba(0.7309496347558632, 0.8394771241830065, 0.9213225682429834)\",\"line\":{\"color\":\"rgba(58, 71, 80, 1.0)\",\"width\":1}},\"orientation\":\"h\",\"x\":[11.049723756906078],\"y\":[\"MRI Field Strength\"],\"type\":\"bar\"},{\"marker\":{\"color\":\"rgba(0.7309496347558632, 0.8394771241830065, 0.9213225682429834)\",\"line\":{\"color\":\"rgba(58, 71, 80, 1.0)\",\"width\":1}},\"orientation\":\"h\",\"x\":[5.524861878453039],\"y\":[\"MRI Field Strength\"],\"type\":\"bar\"},{\"marker\":{\"color\":\"rgba(0.7309496347558632, 0.8394771241830065, 0.9213225682429834)\",\"line\":{\"color\":\"rgba(58, 71, 80, 1.0)\",\"width\":1}},\"orientation\":\"h\",\"x\":[14.3646408839779],\"y\":[\"MRI Field Strength\"],\"type\":\"bar\"},{\"marker\":{\"color\":\"rgba(0.7309496347558632, 0.8394771241830065, 0.9213225682429834)\",\"line\":{\"color\":\"rgba(58, 71, 80, 1.0)\",\"width\":1}},\"orientation\":\"h\",\"x\":[0.0],\"y\":[\"MRI Field Strength\"],\"type\":\"bar\"},{\"marker\":{\"color\":\"rgba(0.7309496347558632, 0.8394771241830065, 0.9213225682429834)\",\"line\":{\"color\":\"rgba(58, 71, 80, 1.0)\",\"width\":1}},\"orientation\":\"h\",\"x\":[0.0],\"y\":[\"MRI Field Strength\"],\"type\":\"bar\"},{\"marker\":{\"color\":\"rgba(0.7309496347558632, 0.8394771241830065, 0.9213225682429834)\",\"line\":{\"color\":\"rgba(58, 71, 80, 1.0)\",\"width\":1}},\"orientation\":\"h\",\"x\":[0.0],\"y\":[\"MRI Field Strength\"],\"type\":\"bar\"},{\"marker\":{\"color\":\"rgba(0.7309496347558632, 0.8394771241830065, 0.9213225682429834)\",\"line\":{\"color\":\"rgba(58, 71, 80, 1.0)\",\"width\":1}},\"orientation\":\"h\",\"x\":[0.0],\"y\":[\"MRI Field Strength\"],\"type\":\"bar\"},{\"marker\":{\"color\":\"rgba(0.7309496347558632, 0.8394771241830065, 0.9213225682429834)\",\"line\":{\"color\":\"rgba(58, 71, 80, 1.0)\",\"width\":1}},\"orientation\":\"h\",\"x\":[0.0],\"y\":[\"MRI Field Strength\"],\"type\":\"bar\"},{\"marker\":{\"color\":\"rgba(0.7309496347558632, 0.8394771241830065, 0.9213225682429834)\",\"line\":{\"color\":\"rgba(58, 71, 80, 1.0)\",\"width\":1}},\"orientation\":\"h\",\"x\":[0.0],\"y\":[\"MRI Field Strength\"],\"type\":\"bar\"},{\"marker\":{\"color\":\"rgba(0.7309496347558632, 0.8394771241830065, 0.9213225682429834)\",\"line\":{\"color\":\"rgba(58, 71, 80, 1.0)\",\"width\":1}},\"orientation\":\"h\",\"x\":[0.0],\"y\":[\"MRI Field Strength\"],\"type\":\"bar\"},{\"marker\":{\"color\":\"rgba(0.7309496347558632, 0.8394771241830065, 0.9213225682429834)\",\"line\":{\"color\":\"rgba(58, 71, 80, 1.0)\",\"width\":1}},\"orientation\":\"h\",\"x\":[0.0],\"y\":[\"MRI Field Strength\"],\"type\":\"bar\"},{\"marker\":{\"color\":\"rgba(0.7309496347558632, 0.8394771241830065, 0.9213225682429834)\",\"line\":{\"color\":\"rgba(58, 71, 80, 1.0)\",\"width\":1}},\"orientation\":\"h\",\"x\":[0.0],\"y\":[\"MRI Field Strength\"],\"type\":\"bar\"},{\"marker\":{\"color\":\"rgba(0.7309496347558632, 0.8394771241830065, 0.9213225682429834)\",\"line\":{\"color\":\"rgba(58, 71, 80, 1.0)\",\"width\":1}},\"orientation\":\"h\",\"x\":[0.0],\"y\":[\"MRI Field Strength\"],\"type\":\"bar\"},{\"marker\":{\"color\":\"rgba(0.7309496347558632, 0.8394771241830065, 0.9213225682429834)\",\"line\":{\"color\":\"rgba(58, 71, 80, 1.0)\",\"width\":1}},\"orientation\":\"h\",\"x\":[0.0],\"y\":[\"MRI Field Strength\"],\"type\":\"bar\"},{\"marker\":{\"color\":\"rgba(0.7309496347558632, 0.8394771241830065, 0.9213225682429834)\",\"line\":{\"color\":\"rgba(58, 71, 80, 1.0)\",\"width\":1}},\"orientation\":\"h\",\"x\":[0.0],\"y\":[\"MRI Field Strength\"],\"type\":\"bar\"},{\"marker\":{\"color\":\"rgba(0.7309496347558632, 0.8394771241830065, 0.9213225682429834)\",\"line\":{\"color\":\"rgba(58, 71, 80, 1.0)\",\"width\":1}},\"orientation\":\"h\",\"x\":[0.0],\"y\":[\"MRI Field Strength\"],\"type\":\"bar\"},{\"marker\":{\"color\":\"rgba(0.7309496347558632, 0.8394771241830065, 0.9213225682429834)\",\"line\":{\"color\":\"rgba(58, 71, 80, 1.0)\",\"width\":1}},\"orientation\":\"h\",\"x\":[0.0],\"y\":[\"MRI Field Strength\"],\"type\":\"bar\"},{\"marker\":{\"color\":\"rgba(0.7309496347558632, 0.8394771241830065, 0.9213225682429834)\",\"line\":{\"color\":\"rgba(58, 71, 80, 1.0)\",\"width\":1}},\"orientation\":\"h\",\"x\":[0.0],\"y\":[\"MRI Field Strength\"],\"type\":\"bar\"},{\"marker\":{\"color\":\"rgba(0.7309496347558632, 0.8394771241830065, 0.9213225682429834)\",\"line\":{\"color\":\"rgba(58, 71, 80, 1.0)\",\"width\":1}},\"orientation\":\"h\",\"x\":[0.0],\"y\":[\"MRI Field Strength\"],\"type\":\"bar\"},{\"marker\":{\"color\":\"rgba(0.7309496347558632, 0.8394771241830065, 0.9213225682429834)\",\"line\":{\"color\":\"rgba(58, 71, 80, 1.0)\",\"width\":1}},\"orientation\":\"h\",\"x\":[0.0],\"y\":[\"MRI Field Strength\"],\"type\":\"bar\"},{\"marker\":{\"color\":\"rgba(0.7309496347558632, 0.8394771241830065, 0.9213225682429834)\",\"line\":{\"color\":\"rgba(58, 71, 80, 1.0)\",\"width\":1}},\"orientation\":\"h\",\"x\":[0.0],\"y\":[\"MRI Field Strength\"],\"type\":\"bar\"},{\"marker\":{\"color\":\"rgba(0.32628988850442137, 0.6186236063052672, 0.802798923490965)\",\"line\":{\"color\":\"rgba(58, 71, 80, 1.0)\",\"width\":1}},\"orientation\":\"h\",\"x\":[0.0],\"y\":[\"Strain\"],\"type\":\"bar\"},{\"marker\":{\"color\":\"rgba(0.32628988850442137, 0.6186236063052672, 0.802798923490965)\",\"line\":{\"color\":\"rgba(58, 71, 80, 1.0)\",\"width\":1}},\"orientation\":\"h\",\"x\":[0.0],\"y\":[\"Strain\"],\"type\":\"bar\"},{\"marker\":{\"color\":\"rgba(0.32628988850442137, 0.6186236063052672, 0.802798923490965)\",\"line\":{\"color\":\"rgba(58, 71, 80, 1.0)\",\"width\":1}},\"orientation\":\"h\",\"x\":[0.0],\"y\":[\"Strain\"],\"type\":\"bar\"},{\"marker\":{\"color\":\"rgba(0.32628988850442137, 0.6186236063052672, 0.802798923490965)\",\"line\":{\"color\":\"rgba(58, 71, 80, 1.0)\",\"width\":1}},\"orientation\":\"h\",\"x\":[0.0],\"y\":[\"Strain\"],\"type\":\"bar\"},{\"marker\":{\"color\":\"rgba(0.32628988850442137, 0.6186236063052672, 0.802798923490965)\",\"line\":{\"color\":\"rgba(58, 71, 80, 1.0)\",\"width\":1}},\"orientation\":\"h\",\"x\":[0.0],\"y\":[\"Strain\"],\"type\":\"bar\"},{\"marker\":{\"color\":\"rgba(0.32628988850442137, 0.6186236063052672, 0.802798923490965)\",\"line\":{\"color\":\"rgba(58, 71, 80, 1.0)\",\"width\":1}},\"orientation\":\"h\",\"x\":[0.0],\"y\":[\"Strain\"],\"type\":\"bar\"},{\"marker\":{\"color\":\"rgba(0.32628988850442137, 0.6186236063052672, 0.802798923490965)\",\"line\":{\"color\":\"rgba(58, 71, 80, 1.0)\",\"width\":1}},\"orientation\":\"h\",\"x\":[0.0],\"y\":[\"Strain\"],\"type\":\"bar\"},{\"marker\":{\"color\":\"rgba(0.32628988850442137, 0.6186236063052672, 0.802798923490965)\",\"line\":{\"color\":\"rgba(58, 71, 80, 1.0)\",\"width\":1}},\"orientation\":\"h\",\"x\":[0.0],\"y\":[\"Strain\"],\"type\":\"bar\"},{\"marker\":{\"color\":\"rgba(0.32628988850442137, 0.6186236063052672, 0.802798923490965)\",\"line\":{\"color\":\"rgba(58, 71, 80, 1.0)\",\"width\":1}},\"orientation\":\"h\",\"x\":[56.353591160220994],\"y\":[\"Strain\"],\"type\":\"bar\"},{\"marker\":{\"color\":\"rgba(0.32628988850442137, 0.6186236063052672, 0.802798923490965)\",\"line\":{\"color\":\"rgba(58, 71, 80, 1.0)\",\"width\":1}},\"orientation\":\"h\",\"x\":[27.071823204419886],\"y\":[\"Strain\"],\"type\":\"bar\"},{\"marker\":{\"color\":\"rgba(0.32628988850442137, 0.6186236063052672, 0.802798923490965)\",\"line\":{\"color\":\"rgba(58, 71, 80, 1.0)\",\"width\":1}},\"orientation\":\"h\",\"x\":[16.574585635359114],\"y\":[\"Strain\"],\"type\":\"bar\"},{\"marker\":{\"color\":\"rgba(0.32628988850442137, 0.6186236063052672, 0.802798923490965)\",\"line\":{\"color\":\"rgba(58, 71, 80, 1.0)\",\"width\":1}},\"orientation\":\"h\",\"x\":[0.0],\"y\":[\"Strain\"],\"type\":\"bar\"},{\"marker\":{\"color\":\"rgba(0.32628988850442137, 0.6186236063052672, 0.802798923490965)\",\"line\":{\"color\":\"rgba(58, 71, 80, 1.0)\",\"width\":1}},\"orientation\":\"h\",\"x\":[0.0],\"y\":[\"Strain\"],\"type\":\"bar\"},{\"marker\":{\"color\":\"rgba(0.32628988850442137, 0.6186236063052672, 0.802798923490965)\",\"line\":{\"color\":\"rgba(58, 71, 80, 1.0)\",\"width\":1}},\"orientation\":\"h\",\"x\":[0.0],\"y\":[\"Strain\"],\"type\":\"bar\"},{\"marker\":{\"color\":\"rgba(0.32628988850442137, 0.6186236063052672, 0.802798923490965)\",\"line\":{\"color\":\"rgba(58, 71, 80, 1.0)\",\"width\":1}},\"orientation\":\"h\",\"x\":[0.0],\"y\":[\"Strain\"],\"type\":\"bar\"},{\"marker\":{\"color\":\"rgba(0.32628988850442137, 0.6186236063052672, 0.802798923490965)\",\"line\":{\"color\":\"rgba(58, 71, 80, 1.0)\",\"width\":1}},\"orientation\":\"h\",\"x\":[0.0],\"y\":[\"Strain\"],\"type\":\"bar\"},{\"marker\":{\"color\":\"rgba(0.32628988850442137, 0.6186236063052672, 0.802798923490965)\",\"line\":{\"color\":\"rgba(58, 71, 80, 1.0)\",\"width\":1}},\"orientation\":\"h\",\"x\":[0.0],\"y\":[\"Strain\"],\"type\":\"bar\"},{\"marker\":{\"color\":\"rgba(0.32628988850442137, 0.6186236063052672, 0.802798923490965)\",\"line\":{\"color\":\"rgba(58, 71, 80, 1.0)\",\"width\":1}},\"orientation\":\"h\",\"x\":[0.0],\"y\":[\"Strain\"],\"type\":\"bar\"},{\"marker\":{\"color\":\"rgba(0.32628988850442137, 0.6186236063052672, 0.802798923490965)\",\"line\":{\"color\":\"rgba(58, 71, 80, 1.0)\",\"width\":1}},\"orientation\":\"h\",\"x\":[0.0],\"y\":[\"Strain\"],\"type\":\"bar\"},{\"marker\":{\"color\":\"rgba(0.32628988850442137, 0.6186236063052672, 0.802798923490965)\",\"line\":{\"color\":\"rgba(58, 71, 80, 1.0)\",\"width\":1}},\"orientation\":\"h\",\"x\":[0.0],\"y\":[\"Strain\"],\"type\":\"bar\"},{\"marker\":{\"color\":\"rgba(0.32628988850442137, 0.6186236063052672, 0.802798923490965)\",\"line\":{\"color\":\"rgba(58, 71, 80, 1.0)\",\"width\":1}},\"orientation\":\"h\",\"x\":[0.0],\"y\":[\"Strain\"],\"type\":\"bar\"},{\"marker\":{\"color\":\"rgba(0.32628988850442137, 0.6186236063052672, 0.802798923490965)\",\"line\":{\"color\":\"rgba(58, 71, 80, 1.0)\",\"width\":1}},\"orientation\":\"h\",\"x\":[0.0],\"y\":[\"Strain\"],\"type\":\"bar\"},{\"marker\":{\"color\":\"rgba(0.32628988850442137, 0.6186236063052672, 0.802798923490965)\",\"line\":{\"color\":\"rgba(58, 71, 80, 1.0)\",\"width\":1}},\"orientation\":\"h\",\"x\":[0.0],\"y\":[\"Strain\"],\"type\":\"bar\"},{\"marker\":{\"color\":\"rgba(0.32628988850442137, 0.6186236063052672, 0.802798923490965)\",\"line\":{\"color\":\"rgba(58, 71, 80, 1.0)\",\"width\":1}},\"orientation\":\"h\",\"x\":[0.0],\"y\":[\"Strain\"],\"type\":\"bar\"},{\"marker\":{\"color\":\"rgba(0.044059976931949255, 0.3338869665513264, 0.6244521337946944)\",\"line\":{\"color\":\"rgba(58, 71, 80, 1.0)\",\"width\":1}},\"orientation\":\"h\",\"x\":[0.0],\"y\":[\"Sex\"],\"type\":\"bar\"},{\"marker\":{\"color\":\"rgba(0.044059976931949255, 0.3338869665513264, 0.6244521337946944)\",\"line\":{\"color\":\"rgba(58, 71, 80, 1.0)\",\"width\":1}},\"orientation\":\"h\",\"x\":[0.0],\"y\":[\"Sex\"],\"type\":\"bar\"},{\"marker\":{\"color\":\"rgba(0.044059976931949255, 0.3338869665513264, 0.6244521337946944)\",\"line\":{\"color\":\"rgba(58, 71, 80, 1.0)\",\"width\":1}},\"orientation\":\"h\",\"x\":[0.0],\"y\":[\"Sex\"],\"type\":\"bar\"},{\"marker\":{\"color\":\"rgba(0.044059976931949255, 0.3338869665513264, 0.6244521337946944)\",\"line\":{\"color\":\"rgba(58, 71, 80, 1.0)\",\"width\":1}},\"orientation\":\"h\",\"x\":[0.0],\"y\":[\"Sex\"],\"type\":\"bar\"},{\"marker\":{\"color\":\"rgba(0.044059976931949255, 0.3338869665513264, 0.6244521337946944)\",\"line\":{\"color\":\"rgba(58, 71, 80, 1.0)\",\"width\":1}},\"orientation\":\"h\",\"x\":[0.0],\"y\":[\"Sex\"],\"type\":\"bar\"},{\"marker\":{\"color\":\"rgba(0.044059976931949255, 0.3338869665513264, 0.6244521337946944)\",\"line\":{\"color\":\"rgba(58, 71, 80, 1.0)\",\"width\":1}},\"orientation\":\"h\",\"x\":[0.0],\"y\":[\"Sex\"],\"type\":\"bar\"},{\"marker\":{\"color\":\"rgba(0.044059976931949255, 0.3338869665513264, 0.6244521337946944)\",\"line\":{\"color\":\"rgba(58, 71, 80, 1.0)\",\"width\":1}},\"orientation\":\"h\",\"x\":[64.08839779005525],\"y\":[\"Sex\"],\"type\":\"bar\"},{\"marker\":{\"color\":\"rgba(0.044059976931949255, 0.3338869665513264, 0.6244521337946944)\",\"line\":{\"color\":\"rgba(58, 71, 80, 1.0)\",\"width\":1}},\"orientation\":\"h\",\"x\":[35.91160220994475],\"y\":[\"Sex\"],\"type\":\"bar\"},{\"marker\":{\"color\":\"rgba(0.044059976931949255, 0.3338869665513264, 0.6244521337946944)\",\"line\":{\"color\":\"rgba(58, 71, 80, 1.0)\",\"width\":1}},\"orientation\":\"h\",\"x\":[0.0],\"y\":[\"Sex\"],\"type\":\"bar\"},{\"marker\":{\"color\":\"rgba(0.044059976931949255, 0.3338869665513264, 0.6244521337946944)\",\"line\":{\"color\":\"rgba(58, 71, 80, 1.0)\",\"width\":1}},\"orientation\":\"h\",\"x\":[0.0],\"y\":[\"Sex\"],\"type\":\"bar\"},{\"marker\":{\"color\":\"rgba(0.044059976931949255, 0.3338869665513264, 0.6244521337946944)\",\"line\":{\"color\":\"rgba(58, 71, 80, 1.0)\",\"width\":1}},\"orientation\":\"h\",\"x\":[0.0],\"y\":[\"Sex\"],\"type\":\"bar\"},{\"marker\":{\"color\":\"rgba(0.044059976931949255, 0.3338869665513264, 0.6244521337946944)\",\"line\":{\"color\":\"rgba(58, 71, 80, 1.0)\",\"width\":1}},\"orientation\":\"h\",\"x\":[0.0],\"y\":[\"Sex\"],\"type\":\"bar\"},{\"marker\":{\"color\":\"rgba(0.044059976931949255, 0.3338869665513264, 0.6244521337946944)\",\"line\":{\"color\":\"rgba(58, 71, 80, 1.0)\",\"width\":1}},\"orientation\":\"h\",\"x\":[0.0],\"y\":[\"Sex\"],\"type\":\"bar\"},{\"marker\":{\"color\":\"rgba(0.044059976931949255, 0.3338869665513264, 0.6244521337946944)\",\"line\":{\"color\":\"rgba(58, 71, 80, 1.0)\",\"width\":1}},\"orientation\":\"h\",\"x\":[0.0],\"y\":[\"Sex\"],\"type\":\"bar\"},{\"marker\":{\"color\":\"rgba(0.044059976931949255, 0.3338869665513264, 0.6244521337946944)\",\"line\":{\"color\":\"rgba(58, 71, 80, 1.0)\",\"width\":1}},\"orientation\":\"h\",\"x\":[0.0],\"y\":[\"Sex\"],\"type\":\"bar\"},{\"marker\":{\"color\":\"rgba(0.044059976931949255, 0.3338869665513264, 0.6244521337946944)\",\"line\":{\"color\":\"rgba(58, 71, 80, 1.0)\",\"width\":1}},\"orientation\":\"h\",\"x\":[0.0],\"y\":[\"Sex\"],\"type\":\"bar\"},{\"marker\":{\"color\":\"rgba(0.044059976931949255, 0.3338869665513264, 0.6244521337946944)\",\"line\":{\"color\":\"rgba(58, 71, 80, 1.0)\",\"width\":1}},\"orientation\":\"h\",\"x\":[0.0],\"y\":[\"Sex\"],\"type\":\"bar\"},{\"marker\":{\"color\":\"rgba(0.044059976931949255, 0.3338869665513264, 0.6244521337946944)\",\"line\":{\"color\":\"rgba(58, 71, 80, 1.0)\",\"width\":1}},\"orientation\":\"h\",\"x\":[0.0],\"y\":[\"Sex\"],\"type\":\"bar\"},{\"marker\":{\"color\":\"rgba(0.044059976931949255, 0.3338869665513264, 0.6244521337946944)\",\"line\":{\"color\":\"rgba(58, 71, 80, 1.0)\",\"width\":1}},\"orientation\":\"h\",\"x\":[0.0],\"y\":[\"Sex\"],\"type\":\"bar\"},{\"marker\":{\"color\":\"rgba(0.044059976931949255, 0.3338869665513264, 0.6244521337946944)\",\"line\":{\"color\":\"rgba(58, 71, 80, 1.0)\",\"width\":1}},\"orientation\":\"h\",\"x\":[0.0],\"y\":[\"Sex\"],\"type\":\"bar\"},{\"marker\":{\"color\":\"rgba(0.044059976931949255, 0.3338869665513264, 0.6244521337946944)\",\"line\":{\"color\":\"rgba(58, 71, 80, 1.0)\",\"width\":1}},\"orientation\":\"h\",\"x\":[0.0],\"y\":[\"Sex\"],\"type\":\"bar\"},{\"marker\":{\"color\":\"rgba(0.044059976931949255, 0.3338869665513264, 0.6244521337946944)\",\"line\":{\"color\":\"rgba(58, 71, 80, 1.0)\",\"width\":1}},\"orientation\":\"h\",\"x\":[0.0],\"y\":[\"Sex\"],\"type\":\"bar\"},{\"marker\":{\"color\":\"rgba(0.044059976931949255, 0.3338869665513264, 0.6244521337946944)\",\"line\":{\"color\":\"rgba(58, 71, 80, 1.0)\",\"width\":1}},\"orientation\":\"h\",\"x\":[0.0],\"y\":[\"Sex\"],\"type\":\"bar\"},{\"marker\":{\"color\":\"rgba(0.044059976931949255, 0.3338869665513264, 0.6244521337946944)\",\"line\":{\"color\":\"rgba(58, 71, 80, 1.0)\",\"width\":1}},\"orientation\":\"h\",\"x\":[0.0],\"y\":[\"Sex\"],\"type\":\"bar\"}],                        {\"template\":{\"data\":{\"histogram2dcontour\":[{\"type\":\"histogram2dcontour\",\"colorbar\":{\"outlinewidth\":0,\"ticks\":\"\"},\"colorscale\":[[0.0,\"#0d0887\"],[0.1111111111111111,\"#46039f\"],[0.2222222222222222,\"#7201a8\"],[0.3333333333333333,\"#9c179e\"],[0.4444444444444444,\"#bd3786\"],[0.5555555555555556,\"#d8576b\"],[0.6666666666666666,\"#ed7953\"],[0.7777777777777778,\"#fb9f3a\"],[0.8888888888888888,\"#fdca26\"],[1.0,\"#f0f921\"]]}],\"choropleth\":[{\"type\":\"choropleth\",\"colorbar\":{\"outlinewidth\":0,\"ticks\":\"\"}}],\"histogram2d\":[{\"type\":\"histogram2d\",\"colorbar\":{\"outlinewidth\":0,\"ticks\":\"\"},\"colorscale\":[[0.0,\"#0d0887\"],[0.1111111111111111,\"#46039f\"],[0.2222222222222222,\"#7201a8\"],[0.3333333333333333,\"#9c179e\"],[0.4444444444444444,\"#bd3786\"],[0.5555555555555556,\"#d8576b\"],[0.6666666666666666,\"#ed7953\"],[0.7777777777777778,\"#fb9f3a\"],[0.8888888888888888,\"#fdca26\"],[1.0,\"#f0f921\"]]}],\"heatmap\":[{\"type\":\"heatmap\",\"colorbar\":{\"outlinewidth\":0,\"ticks\":\"\"},\"colorscale\":[[0.0,\"#0d0887\"],[0.1111111111111111,\"#46039f\"],[0.2222222222222222,\"#7201a8\"],[0.3333333333333333,\"#9c179e\"],[0.4444444444444444,\"#bd3786\"],[0.5555555555555556,\"#d8576b\"],[0.6666666666666666,\"#ed7953\"],[0.7777777777777778,\"#fb9f3a\"],[0.8888888888888888,\"#fdca26\"],[1.0,\"#f0f921\"]]}],\"heatmapgl\":[{\"type\":\"heatmapgl\",\"colorbar\":{\"outlinewidth\":0,\"ticks\":\"\"},\"colorscale\":[[0.0,\"#0d0887\"],[0.1111111111111111,\"#46039f\"],[0.2222222222222222,\"#7201a8\"],[0.3333333333333333,\"#9c179e\"],[0.4444444444444444,\"#bd3786\"],[0.5555555555555556,\"#d8576b\"],[0.6666666666666666,\"#ed7953\"],[0.7777777777777778,\"#fb9f3a\"],[0.8888888888888888,\"#fdca26\"],[1.0,\"#f0f921\"]]}],\"contourcarpet\":[{\"type\":\"contourcarpet\",\"colorbar\":{\"outlinewidth\":0,\"ticks\":\"\"}}],\"contour\":[{\"type\":\"contour\",\"colorbar\":{\"outlinewidth\":0,\"ticks\":\"\"},\"colorscale\":[[0.0,\"#0d0887\"],[0.1111111111111111,\"#46039f\"],[0.2222222222222222,\"#7201a8\"],[0.3333333333333333,\"#9c179e\"],[0.4444444444444444,\"#bd3786\"],[0.5555555555555556,\"#d8576b\"],[0.6666666666666666,\"#ed7953\"],[0.7777777777777778,\"#fb9f3a\"],[0.8888888888888888,\"#fdca26\"],[1.0,\"#f0f921\"]]}],\"surface\":[{\"type\":\"surface\",\"colorbar\":{\"outlinewidth\":0,\"ticks\":\"\"},\"colorscale\":[[0.0,\"#0d0887\"],[0.1111111111111111,\"#46039f\"],[0.2222222222222222,\"#7201a8\"],[0.3333333333333333,\"#9c179e\"],[0.4444444444444444,\"#bd3786\"],[0.5555555555555556,\"#d8576b\"],[0.6666666666666666,\"#ed7953\"],[0.7777777777777778,\"#fb9f3a\"],[0.8888888888888888,\"#fdca26\"],[1.0,\"#f0f921\"]]}],\"mesh3d\":[{\"type\":\"mesh3d\",\"colorbar\":{\"outlinewidth\":0,\"ticks\":\"\"}}],\"scatter\":[{\"fillpattern\":{\"fillmode\":\"overlay\",\"size\":10,\"solidity\":0.2},\"type\":\"scatter\"}],\"parcoords\":[{\"type\":\"parcoords\",\"line\":{\"colorbar\":{\"outlinewidth\":0,\"ticks\":\"\"}}}],\"scatterpolargl\":[{\"type\":\"scatterpolargl\",\"marker\":{\"colorbar\":{\"outlinewidth\":0,\"ticks\":\"\"}}}],\"bar\":[{\"error_x\":{\"color\":\"#2a3f5f\"},\"error_y\":{\"color\":\"#2a3f5f\"},\"marker\":{\"line\":{\"color\":\"#E5ECF6\",\"width\":0.5},\"pattern\":{\"fillmode\":\"overlay\",\"size\":10,\"solidity\":0.2}},\"type\":\"bar\"}],\"scattergeo\":[{\"type\":\"scattergeo\",\"marker\":{\"colorbar\":{\"outlinewidth\":0,\"ticks\":\"\"}}}],\"scatterpolar\":[{\"type\":\"scatterpolar\",\"marker\":{\"colorbar\":{\"outlinewidth\":0,\"ticks\":\"\"}}}],\"histogram\":[{\"marker\":{\"pattern\":{\"fillmode\":\"overlay\",\"size\":10,\"solidity\":0.2}},\"type\":\"histogram\"}],\"scattergl\":[{\"type\":\"scattergl\",\"marker\":{\"colorbar\":{\"outlinewidth\":0,\"ticks\":\"\"}}}],\"scatter3d\":[{\"type\":\"scatter3d\",\"line\":{\"colorbar\":{\"outlinewidth\":0,\"ticks\":\"\"}},\"marker\":{\"colorbar\":{\"outlinewidth\":0,\"ticks\":\"\"}}}],\"scattermapbox\":[{\"type\":\"scattermapbox\",\"marker\":{\"colorbar\":{\"outlinewidth\":0,\"ticks\":\"\"}}}],\"scatterternary\":[{\"type\":\"scatterternary\",\"marker\":{\"colorbar\":{\"outlinewidth\":0,\"ticks\":\"\"}}}],\"scattercarpet\":[{\"type\":\"scattercarpet\",\"marker\":{\"colorbar\":{\"outlinewidth\":0,\"ticks\":\"\"}}}],\"carpet\":[{\"aaxis\":{\"endlinecolor\":\"#2a3f5f\",\"gridcolor\":\"white\",\"linecolor\":\"white\",\"minorgridcolor\":\"white\",\"startlinecolor\":\"#2a3f5f\"},\"baxis\":{\"endlinecolor\":\"#2a3f5f\",\"gridcolor\":\"white\",\"linecolor\":\"white\",\"minorgridcolor\":\"white\",\"startlinecolor\":\"#2a3f5f\"},\"type\":\"carpet\"}],\"table\":[{\"cells\":{\"fill\":{\"color\":\"#EBF0F8\"},\"line\":{\"color\":\"white\"}},\"header\":{\"fill\":{\"color\":\"#C8D4E3\"},\"line\":{\"color\":\"white\"}},\"type\":\"table\"}],\"barpolar\":[{\"marker\":{\"line\":{\"color\":\"#E5ECF6\",\"width\":0.5},\"pattern\":{\"fillmode\":\"overlay\",\"size\":10,\"solidity\":0.2}},\"type\":\"barpolar\"}],\"pie\":[{\"automargin\":true,\"type\":\"pie\"}]},\"layout\":{\"autotypenumbers\":\"strict\",\"colorway\":[\"#636efa\",\"#EF553B\",\"#00cc96\",\"#ab63fa\",\"#FFA15A\",\"#19d3f3\",\"#FF6692\",\"#B6E880\",\"#FF97FF\",\"#FECB52\"],\"font\":{\"color\":\"#2a3f5f\"},\"hovermode\":\"closest\",\"hoverlabel\":{\"align\":\"left\"},\"paper_bgcolor\":\"white\",\"plot_bgcolor\":\"#E5ECF6\",\"polar\":{\"bgcolor\":\"#E5ECF6\",\"angularaxis\":{\"gridcolor\":\"white\",\"linecolor\":\"white\",\"ticks\":\"\"},\"radialaxis\":{\"gridcolor\":\"white\",\"linecolor\":\"white\",\"ticks\":\"\"}},\"ternary\":{\"bgcolor\":\"#E5ECF6\",\"aaxis\":{\"gridcolor\":\"white\",\"linecolor\":\"white\",\"ticks\":\"\"},\"baxis\":{\"gridcolor\":\"white\",\"linecolor\":\"white\",\"ticks\":\"\"},\"caxis\":{\"gridcolor\":\"white\",\"linecolor\":\"white\",\"ticks\":\"\"}},\"coloraxis\":{\"colorbar\":{\"outlinewidth\":0,\"ticks\":\"\"}},\"colorscale\":{\"sequential\":[[0.0,\"#0d0887\"],[0.1111111111111111,\"#46039f\"],[0.2222222222222222,\"#7201a8\"],[0.3333333333333333,\"#9c179e\"],[0.4444444444444444,\"#bd3786\"],[0.5555555555555556,\"#d8576b\"],[0.6666666666666666,\"#ed7953\"],[0.7777777777777778,\"#fb9f3a\"],[0.8888888888888888,\"#fdca26\"],[1.0,\"#f0f921\"]],\"sequentialminus\":[[0.0,\"#0d0887\"],[0.1111111111111111,\"#46039f\"],[0.2222222222222222,\"#7201a8\"],[0.3333333333333333,\"#9c179e\"],[0.4444444444444444,\"#bd3786\"],[0.5555555555555556,\"#d8576b\"],[0.6666666666666666,\"#ed7953\"],[0.7777777777777778,\"#fb9f3a\"],[0.8888888888888888,\"#fdca26\"],[1.0,\"#f0f921\"]],\"diverging\":[[0,\"#8e0152\"],[0.1,\"#c51b7d\"],[0.2,\"#de77ae\"],[0.3,\"#f1b6da\"],[0.4,\"#fde0ef\"],[0.5,\"#f7f7f7\"],[0.6,\"#e6f5d0\"],[0.7,\"#b8e186\"],[0.8,\"#7fbc41\"],[0.9,\"#4d9221\"],[1,\"#276419\"]]},\"xaxis\":{\"gridcolor\":\"white\",\"linecolor\":\"white\",\"ticks\":\"\",\"title\":{\"standoff\":15},\"zerolinecolor\":\"white\",\"automargin\":true,\"zerolinewidth\":2},\"yaxis\":{\"gridcolor\":\"white\",\"linecolor\":\"white\",\"ticks\":\"\",\"title\":{\"standoff\":15},\"zerolinecolor\":\"white\",\"automargin\":true,\"zerolinewidth\":2},\"scene\":{\"xaxis\":{\"backgroundcolor\":\"#E5ECF6\",\"gridcolor\":\"white\",\"linecolor\":\"white\",\"showbackground\":true,\"ticks\":\"\",\"zerolinecolor\":\"white\",\"gridwidth\":2},\"yaxis\":{\"backgroundcolor\":\"#E5ECF6\",\"gridcolor\":\"white\",\"linecolor\":\"white\",\"showbackground\":true,\"ticks\":\"\",\"zerolinecolor\":\"white\",\"gridwidth\":2},\"zaxis\":{\"backgroundcolor\":\"#E5ECF6\",\"gridcolor\":\"white\",\"linecolor\":\"white\",\"showbackground\":true,\"ticks\":\"\",\"zerolinecolor\":\"white\",\"gridwidth\":2}},\"shapedefaults\":{\"line\":{\"color\":\"#2a3f5f\"}},\"annotationdefaults\":{\"arrowcolor\":\"#2a3f5f\",\"arrowhead\":0,\"arrowwidth\":1},\"geo\":{\"bgcolor\":\"white\",\"landcolor\":\"#E5ECF6\",\"subunitcolor\":\"white\",\"showland\":true,\"showlakes\":true,\"lakecolor\":\"white\"},\"title\":{\"x\":0.05},\"mapbox\":{\"style\":\"light\"}}},\"title\":{\"text\":\"Figure 1a. Population parameters\"},\"xaxis\":{\"title\":{\"text\":\"Percentage\"},\"tickformat\":\".f\"},\"yaxis\":{\"title\":{\"text\":\"Categories\"},\"showticklabels\":true},\"annotations\":[{\"font\":{\"color\":\"rgb(0, 0, 0)\",\"family\":\"Arial\",\"size\":14},\"showarrow\":false,\"text\":\"4.7\",\"x\":5.524861878453039,\"xref\":\"x\",\"y\":\"MRI Field Strength\",\"yref\":\"y\"},{\"font\":{\"color\":\"rgb(0, 0, 0)\",\"family\":\"Arial\",\"size\":14},\"showarrow\":false,\"text\":\"7.0\",\"x\":16.298342541436465,\"xref\":\"x\",\"y\":\"MRI Field Strength\",\"yref\":\"y\"},{\"font\":{\"color\":\"rgb(0, 0, 0)\",\"family\":\"Arial\",\"size\":14},\"showarrow\":false,\"text\":\"9.4\",\"x\":45.30386740331492,\"xref\":\"x\",\"y\":\"MRI Field Strength\",\"yref\":\"y\"},{\"font\":{\"color\":\"rgb(0, 0, 0)\",\"family\":\"Arial\",\"size\":14},\"showarrow\":false,\"text\":\"14.0\",\"x\":74.58563535911603,\"xref\":\"x\",\"y\":\"MRI Field Strength\",\"yref\":\"y\"},{\"font\":{\"color\":\"rgb(0, 0, 0)\",\"family\":\"Arial\",\"size\":14},\"showarrow\":false,\"text\":\"14.1\",\"x\":82.87292817679558,\"xref\":\"x\",\"y\":\"MRI Field Strength\",\"yref\":\"y\"},{\"font\":{\"color\":\"rgb(0, 0, 0)\",\"family\":\"Arial\",\"size\":14},\"showarrow\":false,\"text\":\"17.2\",\"x\":92.81767955801105,\"xref\":\"x\",\"y\":\"MRI Field Strength\",\"yref\":\"y\"},{\"font\":{\"color\":\"rgb(0, 0, 0)\",\"family\":\"Arial\",\"size\":14},\"showarrow\":false,\"text\":\"Male\",\"x\":100.0,\"xref\":\"x\",\"y\":\"MRI Field Strength\",\"yref\":\"y\"},{\"font\":{\"color\":\"rgb(0, 0, 0)\",\"family\":\"Arial\",\"size\":14},\"showarrow\":false,\"text\":\"Female\",\"x\":100.0,\"xref\":\"x\",\"y\":\"MRI Field Strength\",\"yref\":\"y\"},{\"font\":{\"color\":\"rgb(0, 0, 0)\",\"family\":\"Arial\",\"size\":14},\"showarrow\":false,\"text\":\"Sprague Dawley\",\"x\":100.0,\"xref\":\"x\",\"y\":\"MRI Field Strength\",\"yref\":\"y\"},{\"font\":{\"color\":\"rgb(0, 0, 0)\",\"family\":\"Arial\",\"size\":14},\"showarrow\":false,\"text\":\"Wistar\",\"x\":100.0,\"xref\":\"x\",\"y\":\"MRI Field Strength\",\"yref\":\"y\"},{\"font\":{\"color\":\"rgb(0, 0, 0)\",\"family\":\"Arial\",\"size\":14},\"showarrow\":false,\"text\":\"Fischer 344\",\"x\":100.0,\"xref\":\"x\",\"y\":\"MRI Field Strength\",\"yref\":\"y\"},{\"font\":{\"color\":\"rgb(0, 0, 0)\",\"family\":\"Arial\",\"size\":14},\"showarrow\":false,\"text\":\"Isoflurane / Medetomidine\",\"x\":100.0,\"xref\":\"x\",\"y\":\"MRI Field Strength\",\"yref\":\"y\"},{\"font\":{\"color\":\"rgb(0, 0, 0)\",\"family\":\"Arial\",\"size\":14},\"showarrow\":false,\"text\":\"Isoflurane\",\"x\":100.0,\"xref\":\"x\",\"y\":\"MRI Field Strength\",\"yref\":\"y\"},{\"font\":{\"color\":\"rgb(0, 0, 0)\",\"family\":\"Arial\",\"size\":14},\"showarrow\":false,\"text\":\"Isoflurane / Alpha-Chloralose\",\"x\":100.0,\"xref\":\"x\",\"y\":\"MRI Field Strength\",\"yref\":\"y\"},{\"font\":{\"color\":\"rgb(0, 0, 0)\",\"family\":\"Arial\",\"size\":14},\"showarrow\":false,\"text\":\"Ketamine / Xylazine\",\"x\":100.0,\"xref\":\"x\",\"y\":\"MRI Field Strength\",\"yref\":\"y\"},{\"font\":{\"color\":\"rgb(0, 0, 0)\",\"family\":\"Arial\",\"size\":14},\"showarrow\":false,\"text\":\"Electric\",\"x\":100.0,\"xref\":\"x\",\"y\":\"MRI Field Strength\",\"yref\":\"y\"},{\"font\":{\"color\":\"rgb(0, 0, 0)\",\"family\":\"Arial\",\"size\":14},\"showarrow\":false,\"text\":\"Light\",\"x\":100.0,\"xref\":\"x\",\"y\":\"MRI Field Strength\",\"yref\":\"y\"},{\"font\":{\"color\":\"rgb(0, 0, 0)\",\"family\":\"Arial\",\"size\":14},\"showarrow\":false,\"text\":\"Thermal\",\"x\":100.0,\"xref\":\"x\",\"y\":\"MRI Field Strength\",\"yref\":\"y\"},{\"font\":{\"color\":\"rgb(0, 0, 0)\",\"family\":\"Arial\",\"size\":14},\"showarrow\":false,\"text\":\"Optogenetic\",\"x\":100.0,\"xref\":\"x\",\"y\":\"MRI Field Strength\",\"yref\":\"y\"},{\"font\":{\"color\":\"rgb(0, 0, 0)\",\"family\":\"Arial\",\"size\":14},\"showarrow\":false,\"text\":\"Mechanical Deflection\",\"x\":100.0,\"xref\":\"x\",\"y\":\"MRI Field Strength\",\"yref\":\"y\"},{\"font\":{\"color\":\"rgb(0, 0, 0)\",\"family\":\"Arial\",\"size\":14},\"showarrow\":false,\"text\":\"Forepaw\",\"x\":100.0,\"xref\":\"x\",\"y\":\"MRI Field Strength\",\"yref\":\"y\"},{\"font\":{\"color\":\"rgb(0, 0, 0)\",\"family\":\"Arial\",\"size\":14},\"showarrow\":false,\"text\":\"Hindpaw\",\"x\":100.0,\"xref\":\"x\",\"y\":\"MRI Field Strength\",\"yref\":\"y\"},{\"font\":{\"color\":\"rgb(0, 0, 0)\",\"family\":\"Arial\",\"size\":14},\"showarrow\":false,\"text\":\"Eye\",\"x\":100.0,\"xref\":\"x\",\"y\":\"MRI Field Strength\",\"yref\":\"y\"},{\"font\":{\"color\":\"rgb(0, 0, 0)\",\"family\":\"Arial\",\"size\":14},\"showarrow\":false,\"text\":\"Whiskers\",\"x\":100.0,\"xref\":\"x\",\"y\":\"MRI Field Strength\",\"yref\":\"y\"},{\"font\":{\"color\":\"rgb(0, 0, 0)\",\"family\":\"Arial\",\"size\":14},\"showarrow\":false,\"text\":\"4.7\",\"x\":0.0,\"xref\":\"x\",\"y\":\"Strain\",\"yref\":\"y\"},{\"font\":{\"color\":\"rgb(0, 0, 0)\",\"family\":\"Arial\",\"size\":14},\"showarrow\":false,\"text\":\"7.0\",\"x\":0.0,\"xref\":\"x\",\"y\":\"Strain\",\"yref\":\"y\"},{\"font\":{\"color\":\"rgb(0, 0, 0)\",\"family\":\"Arial\",\"size\":14},\"showarrow\":false,\"text\":\"9.4\",\"x\":0.0,\"xref\":\"x\",\"y\":\"Strain\",\"yref\":\"y\"},{\"font\":{\"color\":\"rgb(0, 0, 0)\",\"family\":\"Arial\",\"size\":14},\"showarrow\":false,\"text\":\"14.0\",\"x\":0.0,\"xref\":\"x\",\"y\":\"Strain\",\"yref\":\"y\"},{\"font\":{\"color\":\"rgb(0, 0, 0)\",\"family\":\"Arial\",\"size\":14},\"showarrow\":false,\"text\":\"14.1\",\"x\":0.0,\"xref\":\"x\",\"y\":\"Strain\",\"yref\":\"y\"},{\"font\":{\"color\":\"rgb(0, 0, 0)\",\"family\":\"Arial\",\"size\":14},\"showarrow\":false,\"text\":\"17.2\",\"x\":0.0,\"xref\":\"x\",\"y\":\"Strain\",\"yref\":\"y\"},{\"font\":{\"color\":\"rgb(0, 0, 0)\",\"family\":\"Arial\",\"size\":14},\"showarrow\":false,\"text\":\"Male\",\"x\":0.0,\"xref\":\"x\",\"y\":\"Strain\",\"yref\":\"y\"},{\"font\":{\"color\":\"rgb(0, 0, 0)\",\"family\":\"Arial\",\"size\":14},\"showarrow\":false,\"text\":\"Female\",\"x\":0.0,\"xref\":\"x\",\"y\":\"Strain\",\"yref\":\"y\"},{\"font\":{\"color\":\"rgb(0, 0, 0)\",\"family\":\"Arial\",\"size\":14},\"showarrow\":false,\"text\":\"Sprague Dawley\",\"x\":28.176795580110497,\"xref\":\"x\",\"y\":\"Strain\",\"yref\":\"y\"},{\"font\":{\"color\":\"rgb(0, 0, 0)\",\"family\":\"Arial\",\"size\":14},\"showarrow\":false,\"text\":\"Wistar\",\"x\":69.88950276243094,\"xref\":\"x\",\"y\":\"Strain\",\"yref\":\"y\"},{\"font\":{\"color\":\"rgb(0, 0, 0)\",\"family\":\"Arial\",\"size\":14},\"showarrow\":false,\"text\":\"Fischer 344\",\"x\":91.71270718232044,\"xref\":\"x\",\"y\":\"Strain\",\"yref\":\"y\"},{\"font\":{\"color\":\"rgb(0, 0, 0)\",\"family\":\"Arial\",\"size\":14},\"showarrow\":false,\"text\":\"Isoflurane / Medetomidine\",\"x\":100.0,\"xref\":\"x\",\"y\":\"Strain\",\"yref\":\"y\"},{\"font\":{\"color\":\"rgb(0, 0, 0)\",\"family\":\"Arial\",\"size\":14},\"showarrow\":false,\"text\":\"Isoflurane\",\"x\":100.0,\"xref\":\"x\",\"y\":\"Strain\",\"yref\":\"y\"},{\"font\":{\"color\":\"rgb(0, 0, 0)\",\"family\":\"Arial\",\"size\":14},\"showarrow\":false,\"text\":\"Isoflurane / Alpha-Chloralose\",\"x\":100.0,\"xref\":\"x\",\"y\":\"Strain\",\"yref\":\"y\"},{\"font\":{\"color\":\"rgb(0, 0, 0)\",\"family\":\"Arial\",\"size\":14},\"showarrow\":false,\"text\":\"Ketamine / Xylazine\",\"x\":100.0,\"xref\":\"x\",\"y\":\"Strain\",\"yref\":\"y\"},{\"font\":{\"color\":\"rgb(0, 0, 0)\",\"family\":\"Arial\",\"size\":14},\"showarrow\":false,\"text\":\"Electric\",\"x\":100.0,\"xref\":\"x\",\"y\":\"Strain\",\"yref\":\"y\"},{\"font\":{\"color\":\"rgb(0, 0, 0)\",\"family\":\"Arial\",\"size\":14},\"showarrow\":false,\"text\":\"Light\",\"x\":100.0,\"xref\":\"x\",\"y\":\"Strain\",\"yref\":\"y\"},{\"font\":{\"color\":\"rgb(0, 0, 0)\",\"family\":\"Arial\",\"size\":14},\"showarrow\":false,\"text\":\"Thermal\",\"x\":100.0,\"xref\":\"x\",\"y\":\"Strain\",\"yref\":\"y\"},{\"font\":{\"color\":\"rgb(0, 0, 0)\",\"family\":\"Arial\",\"size\":14},\"showarrow\":false,\"text\":\"Optogenetic\",\"x\":100.0,\"xref\":\"x\",\"y\":\"Strain\",\"yref\":\"y\"},{\"font\":{\"color\":\"rgb(0, 0, 0)\",\"family\":\"Arial\",\"size\":14},\"showarrow\":false,\"text\":\"Mechanical Deflection\",\"x\":100.0,\"xref\":\"x\",\"y\":\"Strain\",\"yref\":\"y\"},{\"font\":{\"color\":\"rgb(0, 0, 0)\",\"family\":\"Arial\",\"size\":14},\"showarrow\":false,\"text\":\"Forepaw\",\"x\":100.0,\"xref\":\"x\",\"y\":\"Strain\",\"yref\":\"y\"},{\"font\":{\"color\":\"rgb(0, 0, 0)\",\"family\":\"Arial\",\"size\":14},\"showarrow\":false,\"text\":\"Hindpaw\",\"x\":100.0,\"xref\":\"x\",\"y\":\"Strain\",\"yref\":\"y\"},{\"font\":{\"color\":\"rgb(0, 0, 0)\",\"family\":\"Arial\",\"size\":14},\"showarrow\":false,\"text\":\"Eye\",\"x\":100.0,\"xref\":\"x\",\"y\":\"Strain\",\"yref\":\"y\"},{\"font\":{\"color\":\"rgb(0, 0, 0)\",\"family\":\"Arial\",\"size\":14},\"showarrow\":false,\"text\":\"Whiskers\",\"x\":100.0,\"xref\":\"x\",\"y\":\"Strain\",\"yref\":\"y\"},{\"font\":{\"color\":\"rgb(0, 0, 0)\",\"family\":\"Arial\",\"size\":14},\"showarrow\":false,\"text\":\"4.7\",\"x\":0.0,\"xref\":\"x\",\"y\":\"Sex\",\"yref\":\"y\"},{\"font\":{\"color\":\"rgb(0, 0, 0)\",\"family\":\"Arial\",\"size\":14},\"showarrow\":false,\"text\":\"7.0\",\"x\":0.0,\"xref\":\"x\",\"y\":\"Sex\",\"yref\":\"y\"},{\"font\":{\"color\":\"rgb(0, 0, 0)\",\"family\":\"Arial\",\"size\":14},\"showarrow\":false,\"text\":\"9.4\",\"x\":0.0,\"xref\":\"x\",\"y\":\"Sex\",\"yref\":\"y\"},{\"font\":{\"color\":\"rgb(0, 0, 0)\",\"family\":\"Arial\",\"size\":14},\"showarrow\":false,\"text\":\"14.0\",\"x\":0.0,\"xref\":\"x\",\"y\":\"Sex\",\"yref\":\"y\"},{\"font\":{\"color\":\"rgb(0, 0, 0)\",\"family\":\"Arial\",\"size\":14},\"showarrow\":false,\"text\":\"14.1\",\"x\":0.0,\"xref\":\"x\",\"y\":\"Sex\",\"yref\":\"y\"},{\"font\":{\"color\":\"rgb(0, 0, 0)\",\"family\":\"Arial\",\"size\":14},\"showarrow\":false,\"text\":\"17.2\",\"x\":0.0,\"xref\":\"x\",\"y\":\"Sex\",\"yref\":\"y\"},{\"font\":{\"color\":\"rgb(0, 0, 0)\",\"family\":\"Arial\",\"size\":14},\"showarrow\":false,\"text\":\"Male\",\"x\":32.04419889502763,\"xref\":\"x\",\"y\":\"Sex\",\"yref\":\"y\"},{\"font\":{\"color\":\"rgb(0, 0, 0)\",\"family\":\"Arial\",\"size\":14},\"showarrow\":false,\"text\":\"Female\",\"x\":82.04419889502763,\"xref\":\"x\",\"y\":\"Sex\",\"yref\":\"y\"},{\"font\":{\"color\":\"rgb(0, 0, 0)\",\"family\":\"Arial\",\"size\":14},\"showarrow\":false,\"text\":\"Sprague Dawley\",\"x\":100.0,\"xref\":\"x\",\"y\":\"Sex\",\"yref\":\"y\"},{\"font\":{\"color\":\"rgb(0, 0, 0)\",\"family\":\"Arial\",\"size\":14},\"showarrow\":false,\"text\":\"Wistar\",\"x\":100.0,\"xref\":\"x\",\"y\":\"Sex\",\"yref\":\"y\"},{\"font\":{\"color\":\"rgb(0, 0, 0)\",\"family\":\"Arial\",\"size\":14},\"showarrow\":false,\"text\":\"Fischer 344\",\"x\":100.0,\"xref\":\"x\",\"y\":\"Sex\",\"yref\":\"y\"},{\"font\":{\"color\":\"rgb(0, 0, 0)\",\"family\":\"Arial\",\"size\":14},\"showarrow\":false,\"text\":\"Isoflurane / Medetomidine\",\"x\":100.0,\"xref\":\"x\",\"y\":\"Sex\",\"yref\":\"y\"},{\"font\":{\"color\":\"rgb(0, 0, 0)\",\"family\":\"Arial\",\"size\":14},\"showarrow\":false,\"text\":\"Isoflurane\",\"x\":100.0,\"xref\":\"x\",\"y\":\"Sex\",\"yref\":\"y\"},{\"font\":{\"color\":\"rgb(0, 0, 0)\",\"family\":\"Arial\",\"size\":14},\"showarrow\":false,\"text\":\"Isoflurane / Alpha-Chloralose\",\"x\":100.0,\"xref\":\"x\",\"y\":\"Sex\",\"yref\":\"y\"},{\"font\":{\"color\":\"rgb(0, 0, 0)\",\"family\":\"Arial\",\"size\":14},\"showarrow\":false,\"text\":\"Ketamine / Xylazine\",\"x\":100.0,\"xref\":\"x\",\"y\":\"Sex\",\"yref\":\"y\"},{\"font\":{\"color\":\"rgb(0, 0, 0)\",\"family\":\"Arial\",\"size\":14},\"showarrow\":false,\"text\":\"Electric\",\"x\":100.0,\"xref\":\"x\",\"y\":\"Sex\",\"yref\":\"y\"},{\"font\":{\"color\":\"rgb(0, 0, 0)\",\"family\":\"Arial\",\"size\":14},\"showarrow\":false,\"text\":\"Light\",\"x\":100.0,\"xref\":\"x\",\"y\":\"Sex\",\"yref\":\"y\"},{\"font\":{\"color\":\"rgb(0, 0, 0)\",\"family\":\"Arial\",\"size\":14},\"showarrow\":false,\"text\":\"Thermal\",\"x\":100.0,\"xref\":\"x\",\"y\":\"Sex\",\"yref\":\"y\"},{\"font\":{\"color\":\"rgb(0, 0, 0)\",\"family\":\"Arial\",\"size\":14},\"showarrow\":false,\"text\":\"Optogenetic\",\"x\":100.0,\"xref\":\"x\",\"y\":\"Sex\",\"yref\":\"y\"},{\"font\":{\"color\":\"rgb(0, 0, 0)\",\"family\":\"Arial\",\"size\":14},\"showarrow\":false,\"text\":\"Mechanical Deflection\",\"x\":100.0,\"xref\":\"x\",\"y\":\"Sex\",\"yref\":\"y\"},{\"font\":{\"color\":\"rgb(0, 0, 0)\",\"family\":\"Arial\",\"size\":14},\"showarrow\":false,\"text\":\"Forepaw\",\"x\":100.0,\"xref\":\"x\",\"y\":\"Sex\",\"yref\":\"y\"},{\"font\":{\"color\":\"rgb(0, 0, 0)\",\"family\":\"Arial\",\"size\":14},\"showarrow\":false,\"text\":\"Hindpaw\",\"x\":100.0,\"xref\":\"x\",\"y\":\"Sex\",\"yref\":\"y\"},{\"font\":{\"color\":\"rgb(0, 0, 0)\",\"family\":\"Arial\",\"size\":14},\"showarrow\":false,\"text\":\"Eye\",\"x\":100.0,\"xref\":\"x\",\"y\":\"Sex\",\"yref\":\"y\"},{\"font\":{\"color\":\"rgb(0, 0, 0)\",\"family\":\"Arial\",\"size\":14},\"showarrow\":false,\"text\":\"Whiskers\",\"x\":100.0,\"xref\":\"x\",\"y\":\"Sex\",\"yref\":\"y\"}],\"barmode\":\"stack\",\"showlegend\":false},                        {\"responsive\": true}                    ).then(function(){\n",
       "                            \n",
       "var gd = document.getElementById('af7161d2-60d1-4934-aceb-945039f9680d');\n",
       "var x = new MutationObserver(function (mutations, observer) {{\n",
       "        var display = window.getComputedStyle(gd).display;\n",
       "        if (!display || display === 'none') {{\n",
       "            console.log([gd, 'removed!']);\n",
       "            Plotly.purge(gd);\n",
       "            observer.disconnect();\n",
       "        }}\n",
       "}});\n",
       "\n",
       "// Listen for the removal of the full notebook cells\n",
       "var notebookContainer = gd.closest('#notebook-container');\n",
       "if (notebookContainer) {{\n",
       "    x.observe(notebookContainer, {childList: true});\n",
       "}}\n",
       "\n",
       "// Listen for the clearing of the current output cell\n",
       "var outputEl = gd.closest('.output');\n",
       "if (outputEl) {{\n",
       "    x.observe(outputEl, {childList: true});\n",
       "}}\n",
       "\n",
       "                        })                };                });            </script>        </div>"
      ]
     },
     "metadata": {},
     "output_type": "display_data"
    },
    {
     "data": {
      "text/plain": [
       "<Figure size 640x480 with 0 Axes>"
      ]
     },
     "metadata": {},
     "output_type": "display_data"
    }
   ],
   "source": [
    "# -- Figure 1a --\n",
    "\n",
    "fig = go.Figure()\n",
    "annotations = []\n",
    "\n",
    "# categories = ['MRI field strength', 'stimulation location', 'stimulation type', 'anesthesia', 'strain', 'sex']\n",
    "# colors = ['rgba(204, 0, 0, 0.8)', 'rgba(204, 102, 0, 0.8)', 'rgba(153, 153, 0, 0.8)', 'rgba(0, 153, 153, 0.8)', 'rgba(102, 0, 204, 0.8)', 'rgba(204, 0, 102, 0.8)']\n",
    "# magma = ['rgba(0.135053, 0.068391, 0.315)', 'rgba(0.372116, 0.092816, 0.499053)', 'rgba(0.594508, 0.175701, 0.501241)', 'rgba(0.828886, 0.262229, 0.430644)', 'rgba(0.973381, 0.46152, 0.361965)', 'rgba(0.997341, 0.733545, 0.505167)'] #magma in seaborn\n",
    "\n",
    "categories = ['MRI Field Strength', 'Strain', 'Sex']\n",
    "blues = ['rgba(0.7309496347558632, 0.8394771241830065, 0.9213225682429834)', 'rgba(0.32628988850442137, 0.6186236063052672, 0.802798923490965)', 'rgba(0.044059976931949255, 0.3338869665513264, 0.6244521337946944)']\n",
    "\n",
    "for category, color in zip(categories, blues):\n",
    "    y_label = category\n",
    "    yd = y_label\n",
    "\n",
    "    space = 0\n",
    "    for x_label, xd in metadata[y_label].items():\n",
    "        fig.add_trace(go.Bar(\n",
    "            y=[yd],\n",
    "            x=[xd],\n",
    "            #name= x_label,\n",
    "            orientation='h',\n",
    "            marker=dict(\n",
    "                color=color,\n",
    "                line=dict(color='rgba(58, 71, 80, 1.0)', width=1)\n",
    "            )\n",
    "        ))\n",
    "\n",
    "        annotations.append(dict(\n",
    "                                xref='x', \n",
    "                                yref='y',\n",
    "                                x=space + xd / 2, y=yd,\n",
    "                                text=x_label,\n",
    "                                font=dict(family='Arial', \n",
    "                                          size=14,\n",
    "                                          color='rgb(0, 0, 0)'),\n",
    "                                showarrow=False,\n",
    "                                ))\n",
    "\n",
    "        space += xd\n",
    "\n",
    "\n",
    "layout = go.Layout(\n",
    "    title='Figure 1a. Population parameters',\n",
    "    barmode='stack',\n",
    "    yaxis=dict(title='Categories', showticklabels=True),\n",
    "    xaxis=dict(title='Percentage',tickformat=\".f\", ),\n",
    "    showlegend=True,\n",
    "    annotations=annotations)\n",
    "\n",
    "fig.update_layout(layout, showlegend=False)\n",
    "\n",
    "\n",
    "fig.update_layout(barmode='stack',\n",
    "                 showlegend=False)\n",
    "\n",
    "\n",
    "plt.savefig('/project/4180000.19/multirat_stim/scratch/plots/population/scratch_population_parameters.svg', format='svg', dpi=100)\n",
    "#fig.write_image('/project/4180000.19/multirat_stim/scratch/plots/population/scratch_population_parameters.pmg', format='png')\n",
    "\n",
    "fig.show()\n"
   ]
  },
  {
   "cell_type": "code",
   "execution_count": 2,
   "metadata": {},
   "outputs": [
    {
     "data": {
      "image/png": "[encoded data removed]",
      "text/plain": [
       "<Figure size 500x500 with 1 Axes>"
      ]
     },
     "metadata": {},
     "output_type": "display_data"
    }
   ],
   "source": [
    "#-- Fig 1.b -- \n",
    "\n",
    "fig, axes = plt.subplots(nrows=1, ncols=1, figsize=(5 , 5))\n",
    "\n",
    "magma = [(0.594508, 0.175701, 0.501241), (0.828886, 0.262229, 0.430644), (0.973381, 0.46152, 0.361965), (0.997341, 0.733545, 0.505167)]\n",
    "crest = [(0.48942421, 0.72854938, 0.56751036), (0.34892097, 0.64828676, 0.56513633), (0.24929311, 0.56486397, 0.5586654), (0.15615526, 0.47913212, 0.54850526), (0.11131735, 0.39155635, 0.53422678), (0.14573579, 0.29354139, 0.49847009)]\n",
    "blues = [(0.8584083044982699, 0.9134486735870818, 0.9645674740484429), (0.7309496347558632, 0.8394771241830065, 0.9213225682429834), (0.5356862745098039, 0.746082276047674, 0.8642522106881968), (0.32628988850442137, 0.6186236063052672, 0.802798923490965), (0.16696655132641292, 0.48069204152249134, 0.7291503267973857), (0.044059976931949255, 0.3338869665513264, 0.6244521337946944)]\n",
    "\n",
    "\n",
    "sns.set_palette(sns.color_palette('Blues', n_colors=4))\n",
    "\n",
    "#sns.set_palette(\"colorblind\")\n",
    "\n",
    "ax1 = metadata['Anesthesia'].plot.pie(title='1b. Anesthesia', autopct=\"%.f%%\")\n",
    "ax1.set(xlabel=\"\", ylabel=\"\")\n",
    "\n",
    "#plt.savefig('/project/4180000.19/multirat_stim/scratch/plots/population/fig_1b_anesthesia.png', format='png', dpi=1200)\n",
    "plt.savefig('/project/4180000.19/multirat_stim/scratch/plots/population/fig_1b_anesthesia.svg', format='svg', dpi=1200)\n",
    "\n",
    "\n",
    "\n"
   ]
  },
  {
   "cell_type": "code",
   "execution_count": 5,
   "metadata": {},
   "outputs": [
    {
     "data": {
      "image/png": "[encoded data removed]",
      "text/plain": [
       "<Figure size 1000x500 with 2 Axes>"
      ]
     },
     "metadata": {},
     "output_type": "display_data"
    }
   ],
   "source": [
    "#-- Fig 1. -- \n",
    "\n",
    "plt.figure(figsize=(10, 5))\n",
    "heatmap_data = df.groupby(['func.sensory.stimulation', 'func.sensory.system']).size().unstack(fill_value=0)\n",
    "sns.heatmap(heatmap_data, annot=True, cmap='Blues', fmt='d', cbar=True)\n",
    "plt.xlabel('')\n",
    "plt.ylabel('')\n",
    "plt.xticks(fontsize=12)\n",
    "plt.yticks(fontsize=12)\n",
    "\n",
    "plt.title('1c. Stimulation Type and Stimulation Location')\n",
    "plt.savefig('/project/4180000.19/multirat_stim/scratch/plots/population/fig_1c_stim.png', format='png', dpi=1200)\n",
    "plt.savefig('/project/4180000.19/multirat_stim/scratch/plots/population/fig_1c_stim.svg', format='svg', dpi=1200)\n",
    "\n",
    "plt.show()\n"
   ]
  },
  {
   "cell_type": "code",
   "execution_count": 12,
   "metadata": {},
   "outputs": [
    {
     "name": "stdout",
     "output_type": "stream",
     "text": [
      "[(0.8141176470588235, 0.883921568627451, 0.9498039215686275), (0.5796078431372549, 0.7701960784313725, 0.8737254901960784), (0.2909803921568628, 0.5945098039215686, 0.7890196078431373), (0.09019607843137256, 0.39294117647058824, 0.6705882352941177)]\n"
     ]
    },
    {
     "data": {
      "image/png": "[encoded data removed]",
      "text/plain": [
       "<Figure size 400x100 with 1 Axes>"
      ]
     },
     "metadata": {},
     "output_type": "display_data"
    }
   ],
   "source": [
    "# - display seaborn palette - \n",
    "pal = sns.color_palette('Blues', n_colors=4)\n",
    "print(pal)\n",
    "sns.palplot(pal)"
   ]
  },
  {
   "cell_type": "code",
   "execution_count": 172,
   "metadata": {},
   "outputs": [
    {
     "data": {
      "application/vnd.plotly.v1+json": {
       "config": {
        "plotlyServerURL": "https://plot.ly"
       },
       "data": [
        {
         "marker": {
          "color": "rgba(204, 0, 102, 0.8)",
          "line": {
           "color": "rgba(58, 71, 80, 1.0)",
           "width": 1
          }
         },
         "name": "4.7",
         "orientation": "h",
         "type": "bar",
         "x": [
          11.049723756906078
         ],
         "y": [
          "MRI Field Strength"
         ]
        },
        {
         "marker": {
          "color": "rgba(255, 0, 127, 0.8)",
          "line": {
           "color": "rgba(58, 71, 80, 1.0)",
           "width": 1
          }
         },
         "name": "9.4",
         "orientation": "h",
         "type": "bar",
         "x": [
          47.51381215469613
         ],
         "y": [
          "MRI Field Strength"
         ]
        },
        {
         "marker": {
          "color": "rgba(255, 51, 153, 0.8)",
          "line": {
           "color": "rgba(58, 71, 80, 1.0)",
           "width": 1
          }
         },
         "name": "7.0",
         "orientation": "h",
         "type": "bar",
         "x": [
          10.497237569060774
         ],
         "y": [
          "MRI Field Strength"
         ]
        },
        {
         "marker": {
          "color": "rgba(255, 102, 178, 0.8)",
          "line": {
           "color": "rgba(58, 71, 80, 1.0)",
           "width": 1
          }
         },
         "name": "14.1",
         "orientation": "h",
         "type": "bar",
         "x": [
          5.524861878453039
         ],
         "y": [
          "MRI Field Strength"
         ]
        },
        {
         "marker": {
          "color": "rgba(255, 102, 178, 0.8)",
          "line": {
           "color": "rgba(58, 71, 80, 1.0)",
           "width": 1
          }
         },
         "name": "17.2",
         "orientation": "h",
         "type": "bar",
         "x": [
          14.3646408839779
         ],
         "y": [
          "MRI Field Strength"
         ]
        },
        {
         "marker": {
          "color": "rgba(255, 102, 178, 0.8)",
          "line": {
           "color": "rgba(58, 71, 80, 1.0)",
           "width": 1
          }
         },
         "name": "14.0",
         "orientation": "h",
         "type": "bar",
         "x": [
          11.049723756906078
         ],
         "y": [
          "MRI Field Strength"
         ]
        },
        {
         "marker": {
          "color": "rgba(102, 0, 204, 0.8)",
          "line": {
           "color": "rgba(58, 71, 80, 1.0)",
           "width": 1
          }
         },
         "name": "Forepaw",
         "orientation": "h",
         "type": "bar",
         "x": [
          59.11602209944752
         ],
         "y": [
          "Stimulation Location"
         ]
        },
        {
         "marker": {
          "color": "rgba(127, 0, 255, 0.8)",
          "line": {
           "color": "rgba(58, 71, 80, 1.0)",
           "width": 1
          }
         },
         "name": "Hindpaw",
         "orientation": "h",
         "type": "bar",
         "x": [
          15.469613259668508
         ],
         "y": [
          "Stimulation Location"
         ]
        },
        {
         "marker": {
          "color": "rgba(153, 51, 255, 0.8)",
          "line": {
           "color": "rgba(58, 71, 80, 1.0)",
           "width": 1
          }
         },
         "name": "S1FL",
         "orientation": "h",
         "type": "bar",
         "x": [
          5.524861878453039
         ],
         "y": [
          "Stimulation Location"
         ]
        },
        {
         "marker": {
          "color": "rgba(178, 102, 255, 0.8)",
          "line": {
           "color": "rgba(58, 71, 80, 1.0)",
           "width": 1
          }
         },
         "name": "Whiskers C-Row",
         "orientation": "h",
         "type": "bar",
         "x": [
          5.524861878453039
         ],
         "y": [
          "Stimulation Location"
         ]
        },
        {
         "marker": {
          "color": "rgba(204, 153, 255, 0.8)",
          "line": {
           "color": "rgba(58, 71, 80, 1.0)",
           "width": 1
          }
         },
         "name": "Eye",
         "orientation": "h",
         "type": "bar",
         "x": [
          14.3646408839779
         ],
         "y": [
          "Stimulation Location"
         ]
        },
        {
         "marker": {
          "color": "rgba(0, 153, 153, 0.8)",
          "line": {
           "color": "rgba(58, 71, 80, 1.0)",
           "width": 1
          }
         },
         "name": "Electric",
         "orientation": "h",
         "type": "bar",
         "x": [
          64.08839779005525
         ],
         "y": [
          "Stimulation Type"
         ]
        },
        {
         "marker": {
          "color": "rgba(0, 204, 204, 0.8)",
          "line": {
           "color": "rgba(58, 71, 80, 1.0)",
           "width": 1
          }
         },
         "name": "Optogenetic",
         "orientation": "h",
         "type": "bar",
         "x": [
          5.524861878453039
         ],
         "y": [
          "Stimulation Type"
         ]
        },
        {
         "marker": {
          "color": "rgba(0, 255, 255, 0.6)",
          "line": {
           "color": "rgba(58, 71, 80, 1.0)",
           "width": 1
          }
         },
         "name": "Thermal",
         "orientation": "h",
         "type": "bar",
         "x": [
          10.497237569060774
         ],
         "y": [
          "Stimulation Type"
         ]
        },
        {
         "marker": {
          "color": "rgba(0, 255, 255, 0.6)",
          "line": {
           "color": "rgba(58, 71, 80, 1.0)",
           "width": 1
          }
         },
         "name": "Light",
         "orientation": "h",
         "type": "bar",
         "x": [
          14.3646408839779
         ],
         "y": [
          "Stimulation Type"
         ]
        },
        {
         "marker": {
          "color": "rgba(0, 255, 255, 0.6)",
          "line": {
           "color": "rgba(58, 71, 80, 1.0)",
           "width": 1
          }
         },
         "name": "Mechanical Deflection",
         "orientation": "h",
         "type": "bar",
         "x": [
          5.524861878453039
         ],
         "y": [
          "Stimulation Type"
         ]
        },
        {
         "marker": {
          "color": "rgba(153, 153, 0, 0.8)",
          "line": {
           "color": "rgba(58, 71, 80, 1.0)",
           "width": 1
          }
         },
         "name": "Isoflurane",
         "orientation": "h",
         "type": "bar",
         "x": [
          38.67403314917127
         ],
         "y": [
          "Anesthesia"
         ]
        },
        {
         "marker": {
          "color": "rgba(204, 204, 0, 0.8)",
          "line": {
           "color": "rgba(58, 71, 80, 1.0)",
           "width": 1
          }
         },
         "name": "Isoflurane / Medetomidine",
         "orientation": "h",
         "type": "bar",
         "x": [
          50.82872928176796
         ],
         "y": [
          "Anesthesia"
         ]
        },
        {
         "marker": {
          "color": "rgba(255, 255, 0, 0.8)",
          "line": {
           "color": "rgba(58, 71, 80, 1.0)",
           "width": 1
          }
         },
         "name": "Isoflurane / Alpha-Chloralose",
         "orientation": "h",
         "type": "bar",
         "x": [
          5.524861878453039
         ],
         "y": [
          "Anesthesia"
         ]
        },
        {
         "marker": {
          "color": "rgba(255, 255, 102, 0.8)",
          "line": {
           "color": "rgba(58, 71, 80, 1.0)",
           "width": 1
          }
         },
         "name": "Ketamine / Xylazine",
         "orientation": "h",
         "type": "bar",
         "x": [
          4.972375690607735
         ],
         "y": [
          "Anesthesia"
         ]
        },
        {
         "marker": {
          "color": "rgba(204, 102, 0, 0.8)",
          "line": {
           "color": "rgba(58, 71, 80, 1.0)",
           "width": 1
          }
         },
         "name": "Wistar",
         "orientation": "h",
         "type": "bar",
         "x": [
          27.071823204419886
         ],
         "y": [
          "Strain"
         ]
        },
        {
         "marker": {
          "color": "rgba(255, 128, 0, 0.8)",
          "line": {
           "color": "rgba(58, 71, 80, 1.0)",
           "width": 1
          }
         },
         "name": "Sprague Dawley",
         "orientation": "h",
         "type": "bar",
         "x": [
          56.353591160220994
         ],
         "y": [
          "Strain"
         ]
        },
        {
         "marker": {
          "color": "rgba(255, 153, 51, 0.8)",
          "line": {
           "color": "rgba(58, 71, 80, 1.0)",
           "width": 1
          }
         },
         "name": "Fischer 344",
         "orientation": "h",
         "type": "bar",
         "x": [
          16.574585635359114
         ],
         "y": [
          "Strain"
         ]
        },
        {
         "marker": {
          "color": "rgba(204, 0, 0, 0.8)",
          "line": {
           "color": "rgba(58, 71, 80, 1.0)",
           "width": 1
          }
         },
         "name": "Male",
         "orientation": "h",
         "type": "bar",
         "x": [
          64.08839779005525
         ],
         "y": [
          "Sex"
         ]
        },
        {
         "marker": {
          "color": "rgba(255, 0, 0, 0.8)",
          "line": {
           "color": "rgba(58, 71, 80, 1.0)",
           "width": 1
          }
         },
         "name": "Female",
         "orientation": "h",
         "type": "bar",
         "x": [
          35.91160220994475
         ],
         "y": [
          "Sex"
         ]
        }
       ],
       "layout": {
        "annotations": [
         {
          "font": {
           "color": "rgb(0, 0, 0)",
           "family": "Arial",
           "size": 14
          },
          "showarrow": false,
          "text": "4.7",
          "x": 5.524861878453039,
          "xref": "x",
          "y": "MRI Field Strength",
          "yref": "y"
         },
         {
          "font": {
           "color": "rgb(0, 0, 0)",
           "family": "Arial",
           "size": 14
          },
          "showarrow": false,
          "text": "9.4",
          "x": 34.806629834254146,
          "xref": "x",
          "y": "MRI Field Strength",
          "yref": "y"
         },
         {
          "font": {
           "color": "rgb(0, 0, 0)",
           "family": "Arial",
           "size": 14
          },
          "showarrow": false,
          "text": "7.0",
          "x": 63.812154696132595,
          "xref": "x",
          "y": "MRI Field Strength",
          "yref": "y"
         },
         {
          "font": {
           "color": "rgb(0, 0, 0)",
           "family": "Arial",
           "size": 14
          },
          "showarrow": false,
          "text": "14.1",
          "x": 71.8232044198895,
          "xref": "x",
          "y": "MRI Field Strength",
          "yref": "y"
         },
         {
          "font": {
           "color": "rgb(0, 0, 0)",
           "family": "Arial",
           "size": 14
          },
          "showarrow": false,
          "text": "17.2",
          "x": 81.76795580110497,
          "xref": "x",
          "y": "MRI Field Strength",
          "yref": "y"
         },
         {
          "font": {
           "color": "rgb(0, 0, 0)",
           "family": "Arial",
           "size": 14
          },
          "showarrow": false,
          "text": "14.0",
          "x": 94.47513812154696,
          "xref": "x",
          "y": "MRI Field Strength",
          "yref": "y"
         },
         {
          "font": {
           "color": "rgb(0, 0, 0)",
           "family": "Arial",
           "size": 14
          },
          "showarrow": false,
          "text": "Forepaw",
          "x": 29.55801104972376,
          "xref": "x",
          "y": "Stimulation Location",
          "yref": "y"
         },
         {
          "font": {
           "color": "rgb(0, 0, 0)",
           "family": "Arial",
           "size": 14
          },
          "showarrow": false,
          "text": "Hindpaw",
          "x": 66.85082872928177,
          "xref": "x",
          "y": "Stimulation Location",
          "yref": "y"
         },
         {
          "font": {
           "color": "rgb(0, 0, 0)",
           "family": "Arial",
           "size": 14
          },
          "showarrow": false,
          "text": "S1FL",
          "x": 77.34806629834254,
          "xref": "x",
          "y": "Stimulation Location",
          "yref": "y"
         },
         {
          "font": {
           "color": "rgb(0, 0, 0)",
           "family": "Arial",
           "size": 14
          },
          "showarrow": false,
          "text": "Whiskers C-Row",
          "x": 82.87292817679558,
          "xref": "x",
          "y": "Stimulation Location",
          "yref": "y"
         },
         {
          "font": {
           "color": "rgb(0, 0, 0)",
           "family": "Arial",
           "size": 14
          },
          "showarrow": false,
          "text": "Eye",
          "x": 92.81767955801105,
          "xref": "x",
          "y": "Stimulation Location",
          "yref": "y"
         },
         {
          "font": {
           "color": "rgb(0, 0, 0)",
           "family": "Arial",
           "size": 14
          },
          "showarrow": false,
          "text": "Electric",
          "x": 32.04419889502763,
          "xref": "x",
          "y": "Stimulation Type",
          "yref": "y"
         },
         {
          "font": {
           "color": "rgb(0, 0, 0)",
           "family": "Arial",
           "size": 14
          },
          "showarrow": false,
          "text": "opto.",
          "x": 66.85082872928177,
          "xref": "x",
          "y": "Stimulation Type",
          "yref": "y"
         },
         {
          "font": {
           "color": "rgb(0, 0, 0)",
           "family": "Arial",
           "size": 14
          },
          "showarrow": false,
          "text": "Thermal",
          "x": 74.86187845303868,
          "xref": "x",
          "y": "Stimulation Type",
          "yref": "y"
         },
         {
          "font": {
           "color": "rgb(0, 0, 0)",
           "family": "Arial",
           "size": 14
          },
          "showarrow": false,
          "text": "Light",
          "x": 87.29281767955801,
          "xref": "x",
          "y": "Stimulation Type",
          "yref": "y"
         },
         {
          "font": {
           "color": "rgb(0, 0, 0)",
           "family": "Arial",
           "size": 14
          },
          "showarrow": false,
          "text": "mecha.",
          "x": 97.23756906077348,
          "xref": "x",
          "y": "Stimulation Type",
          "yref": "y"
         },
         {
          "font": {
           "color": "rgb(0, 0, 0)",
           "family": "Arial",
           "size": 14
          },
          "showarrow": false,
          "text": "Isoflurane",
          "x": 19.337016574585636,
          "xref": "x",
          "y": "Anesthesia",
          "yref": "y"
         },
         {
          "font": {
           "color": "rgb(0, 0, 0)",
           "family": "Arial",
           "size": 14
          },
          "showarrow": false,
          "text": "Isoflurane / Medetomidine",
          "x": 64.08839779005525,
          "xref": "x",
          "y": "Anesthesia",
          "yref": "y"
         },
         {
          "font": {
           "color": "rgb(0, 0, 0)",
           "family": "Arial",
           "size": 14
          },
          "showarrow": false,
          "text": "Isoflurane / Alpha-Chloralose",
          "x": 92.26519337016576,
          "xref": "x",
          "y": "Anesthesia",
          "yref": "y"
         },
         {
          "font": {
           "color": "rgb(0, 0, 0)",
           "family": "Arial",
           "size": 14
          },
          "showarrow": false,
          "text": "Ketamine / Xylazine",
          "x": 97.51381215469615,
          "xref": "x",
          "y": "Anesthesia",
          "yref": "y"
         },
         {
          "font": {
           "color": "rgb(0, 0, 0)",
           "family": "Arial",
           "size": 14
          },
          "showarrow": false,
          "text": "Wistar",
          "x": 13.535911602209943,
          "xref": "x",
          "y": "Strain",
          "yref": "y"
         },
         {
          "font": {
           "color": "rgb(0, 0, 0)",
           "family": "Arial",
           "size": 14
          },
          "showarrow": false,
          "text": "Sprague Dawley",
          "x": 55.24861878453038,
          "xref": "x",
          "y": "Strain",
          "yref": "y"
         },
         {
          "font": {
           "color": "rgb(0, 0, 0)",
           "family": "Arial",
           "size": 14
          },
          "showarrow": false,
          "text": "Fischer 344",
          "x": 91.71270718232044,
          "xref": "x",
          "y": "Strain",
          "yref": "y"
         },
         {
          "font": {
           "color": "rgb(0, 0, 0)",
           "family": "Arial",
           "size": 14
          },
          "showarrow": false,
          "text": "Male",
          "x": 32.04419889502763,
          "xref": "x",
          "y": "Sex",
          "yref": "y"
         },
         {
          "font": {
           "color": "rgb(0, 0, 0)",
           "family": "Arial",
           "size": 14
          },
          "showarrow": false,
          "text": "Female",
          "x": 82.04419889502763,
          "xref": "x",
          "y": "Sex",
          "yref": "y"
         }
        ],
        "barmode": "stack",
        "template": {
         "data": {
          "bar": [
           {
            "error_x": {
             "color": "#2a3f5f"
            },
            "error_y": {
             "color": "#2a3f5f"
            },
            "marker": {
             "line": {
              "color": "#E5ECF6",
              "width": 0.5
             },
             "pattern": {
              "fillmode": "overlay",
              "size": 10,
              "solidity": 0.2
             }
            },
            "type": "bar"
           }
          ],
          "barpolar": [
           {
            "marker": {
             "line": {
              "color": "#E5ECF6",
              "width": 0.5
             },
             "pattern": {
              "fillmode": "overlay",
              "size": 10,
              "solidity": 0.2
             }
            },
            "type": "barpolar"
           }
          ],
          "carpet": [
           {
            "aaxis": {
             "endlinecolor": "#2a3f5f",
             "gridcolor": "white",
             "linecolor": "white",
             "minorgridcolor": "white",
             "startlinecolor": "#2a3f5f"
            },
            "baxis": {
             "endlinecolor": "#2a3f5f",
             "gridcolor": "white",
             "linecolor": "white",
             "minorgridcolor": "white",
             "startlinecolor": "#2a3f5f"
            },
            "type": "carpet"
           }
          ],
          "choropleth": [
           {
            "colorbar": {
             "outlinewidth": 0,
             "ticks": ""
            },
            "type": "choropleth"
           }
          ],
          "contour": [
           {
            "colorbar": {
             "outlinewidth": 0,
             "ticks": ""
            },
            "colorscale": [
             [
              0,
              "#0d0887"
             ],
             [
              0.1111111111111111,
              "#46039f"
             ],
             [
              0.2222222222222222,
              "#7201a8"
             ],
             [
              0.3333333333333333,
              "#9c179e"
             ],
             [
              0.4444444444444444,
              "#bd3786"
             ],
             [
              0.5555555555555556,
              "#d8576b"
             ],
             [
              0.6666666666666666,
              "#ed7953"
             ],
             [
              0.7777777777777778,
              "#fb9f3a"
             ],
             [
              0.8888888888888888,
              "#fdca26"
             ],
             [
              1,
              "#f0f921"
             ]
            ],
            "type": "contour"
           }
          ],
          "contourcarpet": [
           {
            "colorbar": {
             "outlinewidth": 0,
             "ticks": ""
            },
            "type": "contourcarpet"
           }
          ],
          "heatmap": [
           {
            "colorbar": {
             "outlinewidth": 0,
             "ticks": ""
            },
            "colorscale": [
             [
              0,
              "#0d0887"
             ],
             [
              0.1111111111111111,
              "#46039f"
             ],
             [
              0.2222222222222222,
              "#7201a8"
             ],
             [
              0.3333333333333333,
              "#9c179e"
             ],
             [
              0.4444444444444444,
              "#bd3786"
             ],
             [
              0.5555555555555556,
              "#d8576b"
             ],
             [
              0.6666666666666666,
              "#ed7953"
             ],
             [
              0.7777777777777778,
              "#fb9f3a"
             ],
             [
              0.8888888888888888,
              "#fdca26"
             ],
             [
              1,
              "#f0f921"
             ]
            ],
            "type": "heatmap"
           }
          ],
          "heatmapgl": [
           {
            "colorbar": {
             "outlinewidth": 0,
             "ticks": ""
            },
            "colorscale": [
             [
              0,
              "#0d0887"
             ],
             [
              0.1111111111111111,
              "#46039f"
             ],
             [
              0.2222222222222222,
              "#7201a8"
             ],
             [
              0.3333333333333333,
              "#9c179e"
             ],
             [
              0.4444444444444444,
              "#bd3786"
             ],
             [
              0.5555555555555556,
              "#d8576b"
             ],
             [
              0.6666666666666666,
              "#ed7953"
             ],
             [
              0.7777777777777778,
              "#fb9f3a"
             ],
             [
              0.8888888888888888,
              "#fdca26"
             ],
             [
              1,
              "#f0f921"
             ]
            ],
            "type": "heatmapgl"
           }
          ],
          "histogram": [
           {
            "marker": {
             "pattern": {
              "fillmode": "overlay",
              "size": 10,
              "solidity": 0.2
             }
            },
            "type": "histogram"
           }
          ],
          "histogram2d": [
           {
            "colorbar": {
             "outlinewidth": 0,
             "ticks": ""
            },
            "colorscale": [
             [
              0,
              "#0d0887"
             ],
             [
              0.1111111111111111,
              "#46039f"
             ],
             [
              0.2222222222222222,
              "#7201a8"
             ],
             [
              0.3333333333333333,
              "#9c179e"
             ],
             [
              0.4444444444444444,
              "#bd3786"
             ],
             [
              0.5555555555555556,
              "#d8576b"
             ],
             [
              0.6666666666666666,
              "#ed7953"
             ],
             [
              0.7777777777777778,
              "#fb9f3a"
             ],
             [
              0.8888888888888888,
              "#fdca26"
             ],
             [
              1,
              "#f0f921"
             ]
            ],
            "type": "histogram2d"
           }
          ],
          "histogram2dcontour": [
           {
            "colorbar": {
             "outlinewidth": 0,
             "ticks": ""
            },
            "colorscale": [
             [
              0,
              "#0d0887"
             ],
             [
              0.1111111111111111,
              "#46039f"
             ],
             [
              0.2222222222222222,
              "#7201a8"
             ],
             [
              0.3333333333333333,
              "#9c179e"
             ],
             [
              0.4444444444444444,
              "#bd3786"
             ],
             [
              0.5555555555555556,
              "#d8576b"
             ],
             [
              0.6666666666666666,
              "#ed7953"
             ],
             [
              0.7777777777777778,
              "#fb9f3a"
             ],
             [
              0.8888888888888888,
              "#fdca26"
             ],
             [
              1,
              "#f0f921"
             ]
            ],
            "type": "histogram2dcontour"
           }
          ],
          "mesh3d": [
           {
            "colorbar": {
             "outlinewidth": 0,
             "ticks": ""
            },
            "type": "mesh3d"
           }
          ],
          "parcoords": [
           {
            "line": {
             "colorbar": {
              "outlinewidth": 0,
              "ticks": ""
             }
            },
            "type": "parcoords"
           }
          ],
          "pie": [
           {
            "automargin": true,
            "type": "pie"
           }
          ],
          "scatter": [
           {
            "fillpattern": {
             "fillmode": "overlay",
             "size": 10,
             "solidity": 0.2
            },
            "type": "scatter"
           }
          ],
          "scatter3d": [
           {
            "line": {
             "colorbar": {
              "outlinewidth": 0,
              "ticks": ""
             }
            },
            "marker": {
             "colorbar": {
              "outlinewidth": 0,
              "ticks": ""
             }
            },
            "type": "scatter3d"
           }
          ],
          "scattercarpet": [
           {
            "marker": {
             "colorbar": {
              "outlinewidth": 0,
              "ticks": ""
             }
            },
            "type": "scattercarpet"
           }
          ],
          "scattergeo": [
           {
            "marker": {
             "colorbar": {
              "outlinewidth": 0,
              "ticks": ""
             }
            },
            "type": "scattergeo"
           }
          ],
          "scattergl": [
           {
            "marker": {
             "colorbar": {
              "outlinewidth": 0,
              "ticks": ""
             }
            },
            "type": "scattergl"
           }
          ],
          "scattermapbox": [
           {
            "marker": {
             "colorbar": {
              "outlinewidth": 0,
              "ticks": ""
             }
            },
            "type": "scattermapbox"
           }
          ],
          "scatterpolar": [
           {
            "marker": {
             "colorbar": {
              "outlinewidth": 0,
              "ticks": ""
             }
            },
            "type": "scatterpolar"
           }
          ],
          "scatterpolargl": [
           {
            "marker": {
             "colorbar": {
              "outlinewidth": 0,
              "ticks": ""
             }
            },
            "type": "scatterpolargl"
           }
          ],
          "scatterternary": [
           {
            "marker": {
             "colorbar": {
              "outlinewidth": 0,
              "ticks": ""
             }
            },
            "type": "scatterternary"
           }
          ],
          "surface": [
           {
            "colorbar": {
             "outlinewidth": 0,
             "ticks": ""
            },
            "colorscale": [
             [
              0,
              "#0d0887"
             ],
             [
              0.1111111111111111,
              "#46039f"
             ],
             [
              0.2222222222222222,
              "#7201a8"
             ],
             [
              0.3333333333333333,
              "#9c179e"
             ],
             [
              0.4444444444444444,
              "#bd3786"
             ],
             [
              0.5555555555555556,
              "#d8576b"
             ],
             [
              0.6666666666666666,
              "#ed7953"
             ],
             [
              0.7777777777777778,
              "#fb9f3a"
             ],
             [
              0.8888888888888888,
              "#fdca26"
             ],
             [
              1,
              "#f0f921"
             ]
            ],
            "type": "surface"
           }
          ],
          "table": [
           {
            "cells": {
             "fill": {
              "color": "#EBF0F8"
             },
             "line": {
              "color": "white"
             }
            },
            "header": {
             "fill": {
              "color": "#C8D4E3"
             },
             "line": {
              "color": "white"
             }
            },
            "type": "table"
           }
          ]
         },
         "layout": {
          "annotationdefaults": {
           "arrowcolor": "#2a3f5f",
           "arrowhead": 0,
           "arrowwidth": 1
          },
          "autotypenumbers": "strict",
          "coloraxis": {
           "colorbar": {
            "outlinewidth": 0,
            "ticks": ""
           }
          },
          "colorscale": {
           "diverging": [
            [
             0,
             "#8e0152"
            ],
            [
             0.1,
             "#c51b7d"
            ],
            [
             0.2,
             "#de77ae"
            ],
            [
             0.3,
             "#f1b6da"
            ],
            [
             0.4,
             "#fde0ef"
            ],
            [
             0.5,
             "#f7f7f7"
            ],
            [
             0.6,
             "#e6f5d0"
            ],
            [
             0.7,
             "#b8e186"
            ],
            [
             0.8,
             "#7fbc41"
            ],
            [
             0.9,
             "#4d9221"
            ],
            [
             1,
             "#276419"
            ]
           ],
           "sequential": [
            [
             0,
             "#0d0887"
            ],
            [
             0.1111111111111111,
             "#46039f"
            ],
            [
             0.2222222222222222,
             "#7201a8"
            ],
            [
             0.3333333333333333,
             "#9c179e"
            ],
            [
             0.4444444444444444,
             "#bd3786"
            ],
            [
             0.5555555555555556,
             "#d8576b"
            ],
            [
             0.6666666666666666,
             "#ed7953"
            ],
            [
             0.7777777777777778,
             "#fb9f3a"
            ],
            [
             0.8888888888888888,
             "#fdca26"
            ],
            [
             1,
             "#f0f921"
            ]
           ],
           "sequentialminus": [
            [
             0,
             "#0d0887"
            ],
            [
             0.1111111111111111,
             "#46039f"
            ],
            [
             0.2222222222222222,
             "#7201a8"
            ],
            [
             0.3333333333333333,
             "#9c179e"
            ],
            [
             0.4444444444444444,
             "#bd3786"
            ],
            [
             0.5555555555555556,
             "#d8576b"
            ],
            [
             0.6666666666666666,
             "#ed7953"
            ],
            [
             0.7777777777777778,
             "#fb9f3a"
            ],
            [
             0.8888888888888888,
             "#fdca26"
            ],
            [
             1,
             "#f0f921"
            ]
           ]
          },
          "colorway": [
           "#636efa",
           "#EF553B",
           "#00cc96",
           "#ab63fa",
           "#FFA15A",
           "#19d3f3",
           "#FF6692",
           "#B6E880",
           "#FF97FF",
           "#FECB52"
          ],
          "font": {
           "color": "#2a3f5f"
          },
          "geo": {
           "bgcolor": "white",
           "lakecolor": "white",
           "landcolor": "#E5ECF6",
           "showlakes": true,
           "showland": true,
           "subunitcolor": "white"
          },
          "hoverlabel": {
           "align": "left"
          },
          "hovermode": "closest",
          "mapbox": {
           "style": "light"
          },
          "paper_bgcolor": "white",
          "plot_bgcolor": "#E5ECF6",
          "polar": {
           "angularaxis": {
            "gridcolor": "white",
            "linecolor": "white",
            "ticks": ""
           },
           "bgcolor": "#E5ECF6",
           "radialaxis": {
            "gridcolor": "white",
            "linecolor": "white",
            "ticks": ""
           }
          },
          "scene": {
           "xaxis": {
            "backgroundcolor": "#E5ECF6",
            "gridcolor": "white",
            "gridwidth": 2,
            "linecolor": "white",
            "showbackground": true,
            "ticks": "",
            "zerolinecolor": "white"
           },
           "yaxis": {
            "backgroundcolor": "#E5ECF6",
            "gridcolor": "white",
            "gridwidth": 2,
            "linecolor": "white",
            "showbackground": true,
            "ticks": "",
            "zerolinecolor": "white"
           },
           "zaxis": {
            "backgroundcolor": "#E5ECF6",
            "gridcolor": "white",
            "gridwidth": 2,
            "linecolor": "white",
            "showbackground": true,
            "ticks": "",
            "zerolinecolor": "white"
           }
          },
          "shapedefaults": {
           "line": {
            "color": "#2a3f5f"
           }
          },
          "ternary": {
           "aaxis": {
            "gridcolor": "white",
            "linecolor": "white",
            "ticks": ""
           },
           "baxis": {
            "gridcolor": "white",
            "linecolor": "white",
            "ticks": ""
           },
           "bgcolor": "#E5ECF6",
           "caxis": {
            "gridcolor": "white",
            "linecolor": "white",
            "ticks": ""
           }
          },
          "title": {
           "x": 0.05
          },
          "xaxis": {
           "automargin": true,
           "gridcolor": "white",
           "linecolor": "white",
           "ticks": "",
           "title": {
            "standoff": 15
           },
           "zerolinecolor": "white",
           "zerolinewidth": 2
          },
          "yaxis": {
           "automargin": true,
           "gridcolor": "white",
           "linecolor": "white",
           "ticks": "",
           "title": {
            "standoff": 15
           },
           "zerolinecolor": "white",
           "zerolinewidth": 2
          }
         }
        },
        "title": {
         "text": "Figure 1a. Population parameters"
        }
       }
      },
      "text/html": [
       "<div>                            <div id=\"eeadae85-2038-4b9c-bfd4-e6a71f57558a\" class=\"plotly-graph-div\" style=\"height:525px; width:100%;\"></div>            <script type=\"text/javascript\">                require([\"plotly\"], function(Plotly) {                    window.PLOTLYENV=window.PLOTLYENV || {};                                    if (document.getElementById(\"eeadae85-2038-4b9c-bfd4-e6a71f57558a\")) {                    Plotly.newPlot(                        \"eeadae85-2038-4b9c-bfd4-e6a71f57558a\",                        [{\"marker\":{\"color\":\"rgba(204, 0, 102, 0.8)\",\"line\":{\"color\":\"rgba(58, 71, 80, 1.0)\",\"width\":1}},\"name\":\"4.7\",\"orientation\":\"h\",\"x\":[11.049723756906078],\"y\":[\"MRI Field Strength\"],\"type\":\"bar\"},{\"marker\":{\"color\":\"rgba(255, 0, 127, 0.8)\",\"line\":{\"color\":\"rgba(58, 71, 80, 1.0)\",\"width\":1}},\"name\":\"9.4\",\"orientation\":\"h\",\"x\":[47.51381215469613],\"y\":[\"MRI Field Strength\"],\"type\":\"bar\"},{\"marker\":{\"color\":\"rgba(255, 51, 153, 0.8)\",\"line\":{\"color\":\"rgba(58, 71, 80, 1.0)\",\"width\":1}},\"name\":\"7.0\",\"orientation\":\"h\",\"x\":[10.497237569060774],\"y\":[\"MRI Field Strength\"],\"type\":\"bar\"},{\"marker\":{\"color\":\"rgba(255, 102, 178, 0.8)\",\"line\":{\"color\":\"rgba(58, 71, 80, 1.0)\",\"width\":1}},\"name\":\"14.1\",\"orientation\":\"h\",\"x\":[5.524861878453039],\"y\":[\"MRI Field Strength\"],\"type\":\"bar\"},{\"marker\":{\"color\":\"rgba(255, 102, 178, 0.8)\",\"line\":{\"color\":\"rgba(58, 71, 80, 1.0)\",\"width\":1}},\"name\":\"17.2\",\"orientation\":\"h\",\"x\":[14.3646408839779],\"y\":[\"MRI Field Strength\"],\"type\":\"bar\"},{\"marker\":{\"color\":\"rgba(255, 102, 178, 0.8)\",\"line\":{\"color\":\"rgba(58, 71, 80, 1.0)\",\"width\":1}},\"name\":\"14.0\",\"orientation\":\"h\",\"x\":[11.049723756906078],\"y\":[\"MRI Field Strength\"],\"type\":\"bar\"},{\"marker\":{\"color\":\"rgba(102, 0, 204, 0.8)\",\"line\":{\"color\":\"rgba(58, 71, 80, 1.0)\",\"width\":1}},\"name\":\"Forepaw\",\"orientation\":\"h\",\"x\":[59.11602209944752],\"y\":[\"Stimulation Location\"],\"type\":\"bar\"},{\"marker\":{\"color\":\"rgba(127, 0, 255, 0.8)\",\"line\":{\"color\":\"rgba(58, 71, 80, 1.0)\",\"width\":1}},\"name\":\"Hindpaw\",\"orientation\":\"h\",\"x\":[15.469613259668508],\"y\":[\"Stimulation Location\"],\"type\":\"bar\"},{\"marker\":{\"color\":\"rgba(153, 51, 255, 0.8)\",\"line\":{\"color\":\"rgba(58, 71, 80, 1.0)\",\"width\":1}},\"name\":\"S1FL\",\"orientation\":\"h\",\"x\":[5.524861878453039],\"y\":[\"Stimulation Location\"],\"type\":\"bar\"},{\"marker\":{\"color\":\"rgba(178, 102, 255, 0.8)\",\"line\":{\"color\":\"rgba(58, 71, 80, 1.0)\",\"width\":1}},\"name\":\"Whiskers C-Row\",\"orientation\":\"h\",\"x\":[5.524861878453039],\"y\":[\"Stimulation Location\"],\"type\":\"bar\"},{\"marker\":{\"color\":\"rgba(204, 153, 255, 0.8)\",\"line\":{\"color\":\"rgba(58, 71, 80, 1.0)\",\"width\":1}},\"name\":\"Eye\",\"orientation\":\"h\",\"x\":[14.3646408839779],\"y\":[\"Stimulation Location\"],\"type\":\"bar\"},{\"marker\":{\"color\":\"rgba(0, 153, 153, 0.8)\",\"line\":{\"color\":\"rgba(58, 71, 80, 1.0)\",\"width\":1}},\"name\":\"Electric\",\"orientation\":\"h\",\"x\":[64.08839779005525],\"y\":[\"Stimulation Type\"],\"type\":\"bar\"},{\"marker\":{\"color\":\"rgba(0, 204, 204, 0.8)\",\"line\":{\"color\":\"rgba(58, 71, 80, 1.0)\",\"width\":1}},\"name\":\"Optogenetic\",\"orientation\":\"h\",\"x\":[5.524861878453039],\"y\":[\"Stimulation Type\"],\"type\":\"bar\"},{\"marker\":{\"color\":\"rgba(0, 255, 255, 0.6)\",\"line\":{\"color\":\"rgba(58, 71, 80, 1.0)\",\"width\":1}},\"name\":\"Thermal\",\"orientation\":\"h\",\"x\":[10.497237569060774],\"y\":[\"Stimulation Type\"],\"type\":\"bar\"},{\"marker\":{\"color\":\"rgba(0, 255, 255, 0.6)\",\"line\":{\"color\":\"rgba(58, 71, 80, 1.0)\",\"width\":1}},\"name\":\"Light\",\"orientation\":\"h\",\"x\":[14.3646408839779],\"y\":[\"Stimulation Type\"],\"type\":\"bar\"},{\"marker\":{\"color\":\"rgba(0, 255, 255, 0.6)\",\"line\":{\"color\":\"rgba(58, 71, 80, 1.0)\",\"width\":1}},\"name\":\"Mechanical Deflection\",\"orientation\":\"h\",\"x\":[5.524861878453039],\"y\":[\"Stimulation Type\"],\"type\":\"bar\"},{\"marker\":{\"color\":\"rgba(153, 153, 0, 0.8)\",\"line\":{\"color\":\"rgba(58, 71, 80, 1.0)\",\"width\":1}},\"name\":\"Isoflurane\",\"orientation\":\"h\",\"x\":[38.67403314917127],\"y\":[\"Anesthesia\"],\"type\":\"bar\"},{\"marker\":{\"color\":\"rgba(204, 204, 0, 0.8)\",\"line\":{\"color\":\"rgba(58, 71, 80, 1.0)\",\"width\":1}},\"name\":\"Isoflurane / Medetomidine\",\"orientation\":\"h\",\"x\":[50.82872928176796],\"y\":[\"Anesthesia\"],\"type\":\"bar\"},{\"marker\":{\"color\":\"rgba(255, 255, 0, 0.8)\",\"line\":{\"color\":\"rgba(58, 71, 80, 1.0)\",\"width\":1}},\"name\":\"Isoflurane / Alpha-Chloralose\",\"orientation\":\"h\",\"x\":[5.524861878453039],\"y\":[\"Anesthesia\"],\"type\":\"bar\"},{\"marker\":{\"color\":\"rgba(255, 255, 102, 0.8)\",\"line\":{\"color\":\"rgba(58, 71, 80, 1.0)\",\"width\":1}},\"name\":\"Ketamine / Xylazine\",\"orientation\":\"h\",\"x\":[4.972375690607735],\"y\":[\"Anesthesia\"],\"type\":\"bar\"},{\"marker\":{\"color\":\"rgba(204, 102, 0, 0.8)\",\"line\":{\"color\":\"rgba(58, 71, 80, 1.0)\",\"width\":1}},\"name\":\"Wistar\",\"orientation\":\"h\",\"x\":[27.071823204419886],\"y\":[\"Strain\"],\"type\":\"bar\"},{\"marker\":{\"color\":\"rgba(255, 128, 0, 0.8)\",\"line\":{\"color\":\"rgba(58, 71, 80, 1.0)\",\"width\":1}},\"name\":\"Sprague Dawley\",\"orientation\":\"h\",\"x\":[56.353591160220994],\"y\":[\"Strain\"],\"type\":\"bar\"},{\"marker\":{\"color\":\"rgba(255, 153, 51, 0.8)\",\"line\":{\"color\":\"rgba(58, 71, 80, 1.0)\",\"width\":1}},\"name\":\"Fischer 344\",\"orientation\":\"h\",\"x\":[16.574585635359114],\"y\":[\"Strain\"],\"type\":\"bar\"},{\"marker\":{\"color\":\"rgba(204, 0, 0, 0.8)\",\"line\":{\"color\":\"rgba(58, 71, 80, 1.0)\",\"width\":1}},\"name\":\"Male\",\"orientation\":\"h\",\"x\":[64.08839779005525],\"y\":[\"Sex\"],\"type\":\"bar\"},{\"marker\":{\"color\":\"rgba(255, 0, 0, 0.8)\",\"line\":{\"color\":\"rgba(58, 71, 80, 1.0)\",\"width\":1}},\"name\":\"Female\",\"orientation\":\"h\",\"x\":[35.91160220994475],\"y\":[\"Sex\"],\"type\":\"bar\"}],                        {\"template\":{\"data\":{\"histogram2dcontour\":[{\"type\":\"histogram2dcontour\",\"colorbar\":{\"outlinewidth\":0,\"ticks\":\"\"},\"colorscale\":[[0.0,\"#0d0887\"],[0.1111111111111111,\"#46039f\"],[0.2222222222222222,\"#7201a8\"],[0.3333333333333333,\"#9c179e\"],[0.4444444444444444,\"#bd3786\"],[0.5555555555555556,\"#d8576b\"],[0.6666666666666666,\"#ed7953\"],[0.7777777777777778,\"#fb9f3a\"],[0.8888888888888888,\"#fdca26\"],[1.0,\"#f0f921\"]]}],\"choropleth\":[{\"type\":\"choropleth\",\"colorbar\":{\"outlinewidth\":0,\"ticks\":\"\"}}],\"histogram2d\":[{\"type\":\"histogram2d\",\"colorbar\":{\"outlinewidth\":0,\"ticks\":\"\"},\"colorscale\":[[0.0,\"#0d0887\"],[0.1111111111111111,\"#46039f\"],[0.2222222222222222,\"#7201a8\"],[0.3333333333333333,\"#9c179e\"],[0.4444444444444444,\"#bd3786\"],[0.5555555555555556,\"#d8576b\"],[0.6666666666666666,\"#ed7953\"],[0.7777777777777778,\"#fb9f3a\"],[0.8888888888888888,\"#fdca26\"],[1.0,\"#f0f921\"]]}],\"heatmap\":[{\"type\":\"heatmap\",\"colorbar\":{\"outlinewidth\":0,\"ticks\":\"\"},\"colorscale\":[[0.0,\"#0d0887\"],[0.1111111111111111,\"#46039f\"],[0.2222222222222222,\"#7201a8\"],[0.3333333333333333,\"#9c179e\"],[0.4444444444444444,\"#bd3786\"],[0.5555555555555556,\"#d8576b\"],[0.6666666666666666,\"#ed7953\"],[0.7777777777777778,\"#fb9f3a\"],[0.8888888888888888,\"#fdca26\"],[1.0,\"#f0f921\"]]}],\"heatmapgl\":[{\"type\":\"heatmapgl\",\"colorbar\":{\"outlinewidth\":0,\"ticks\":\"\"},\"colorscale\":[[0.0,\"#0d0887\"],[0.1111111111111111,\"#46039f\"],[0.2222222222222222,\"#7201a8\"],[0.3333333333333333,\"#9c179e\"],[0.4444444444444444,\"#bd3786\"],[0.5555555555555556,\"#d8576b\"],[0.6666666666666666,\"#ed7953\"],[0.7777777777777778,\"#fb9f3a\"],[0.8888888888888888,\"#fdca26\"],[1.0,\"#f0f921\"]]}],\"contourcarpet\":[{\"type\":\"contourcarpet\",\"colorbar\":{\"outlinewidth\":0,\"ticks\":\"\"}}],\"contour\":[{\"type\":\"contour\",\"colorbar\":{\"outlinewidth\":0,\"ticks\":\"\"},\"colorscale\":[[0.0,\"#0d0887\"],[0.1111111111111111,\"#46039f\"],[0.2222222222222222,\"#7201a8\"],[0.3333333333333333,\"#9c179e\"],[0.4444444444444444,\"#bd3786\"],[0.5555555555555556,\"#d8576b\"],[0.6666666666666666,\"#ed7953\"],[0.7777777777777778,\"#fb9f3a\"],[0.8888888888888888,\"#fdca26\"],[1.0,\"#f0f921\"]]}],\"surface\":[{\"type\":\"surface\",\"colorbar\":{\"outlinewidth\":0,\"ticks\":\"\"},\"colorscale\":[[0.0,\"#0d0887\"],[0.1111111111111111,\"#46039f\"],[0.2222222222222222,\"#7201a8\"],[0.3333333333333333,\"#9c179e\"],[0.4444444444444444,\"#bd3786\"],[0.5555555555555556,\"#d8576b\"],[0.6666666666666666,\"#ed7953\"],[0.7777777777777778,\"#fb9f3a\"],[0.8888888888888888,\"#fdca26\"],[1.0,\"#f0f921\"]]}],\"mesh3d\":[{\"type\":\"mesh3d\",\"colorbar\":{\"outlinewidth\":0,\"ticks\":\"\"}}],\"scatter\":[{\"fillpattern\":{\"fillmode\":\"overlay\",\"size\":10,\"solidity\":0.2},\"type\":\"scatter\"}],\"parcoords\":[{\"type\":\"parcoords\",\"line\":{\"colorbar\":{\"outlinewidth\":0,\"ticks\":\"\"}}}],\"scatterpolargl\":[{\"type\":\"scatterpolargl\",\"marker\":{\"colorbar\":{\"outlinewidth\":0,\"ticks\":\"\"}}}],\"bar\":[{\"error_x\":{\"color\":\"#2a3f5f\"},\"error_y\":{\"color\":\"#2a3f5f\"},\"marker\":{\"line\":{\"color\":\"#E5ECF6\",\"width\":0.5},\"pattern\":{\"fillmode\":\"overlay\",\"size\":10,\"solidity\":0.2}},\"type\":\"bar\"}],\"scattergeo\":[{\"type\":\"scattergeo\",\"marker\":{\"colorbar\":{\"outlinewidth\":0,\"ticks\":\"\"}}}],\"scatterpolar\":[{\"type\":\"scatterpolar\",\"marker\":{\"colorbar\":{\"outlinewidth\":0,\"ticks\":\"\"}}}],\"histogram\":[{\"marker\":{\"pattern\":{\"fillmode\":\"overlay\",\"size\":10,\"solidity\":0.2}},\"type\":\"histogram\"}],\"scattergl\":[{\"type\":\"scattergl\",\"marker\":{\"colorbar\":{\"outlinewidth\":0,\"ticks\":\"\"}}}],\"scatter3d\":[{\"type\":\"scatter3d\",\"line\":{\"colorbar\":{\"outlinewidth\":0,\"ticks\":\"\"}},\"marker\":{\"colorbar\":{\"outlinewidth\":0,\"ticks\":\"\"}}}],\"scattermapbox\":[{\"type\":\"scattermapbox\",\"marker\":{\"colorbar\":{\"outlinewidth\":0,\"ticks\":\"\"}}}],\"scatterternary\":[{\"type\":\"scatterternary\",\"marker\":{\"colorbar\":{\"outlinewidth\":0,\"ticks\":\"\"}}}],\"scattercarpet\":[{\"type\":\"scattercarpet\",\"marker\":{\"colorbar\":{\"outlinewidth\":0,\"ticks\":\"\"}}}],\"carpet\":[{\"aaxis\":{\"endlinecolor\":\"#2a3f5f\",\"gridcolor\":\"white\",\"linecolor\":\"white\",\"minorgridcolor\":\"white\",\"startlinecolor\":\"#2a3f5f\"},\"baxis\":{\"endlinecolor\":\"#2a3f5f\",\"gridcolor\":\"white\",\"linecolor\":\"white\",\"minorgridcolor\":\"white\",\"startlinecolor\":\"#2a3f5f\"},\"type\":\"carpet\"}],\"table\":[{\"cells\":{\"fill\":{\"color\":\"#EBF0F8\"},\"line\":{\"color\":\"white\"}},\"header\":{\"fill\":{\"color\":\"#C8D4E3\"},\"line\":{\"color\":\"white\"}},\"type\":\"table\"}],\"barpolar\":[{\"marker\":{\"line\":{\"color\":\"#E5ECF6\",\"width\":0.5},\"pattern\":{\"fillmode\":\"overlay\",\"size\":10,\"solidity\":0.2}},\"type\":\"barpolar\"}],\"pie\":[{\"automargin\":true,\"type\":\"pie\"}]},\"layout\":{\"autotypenumbers\":\"strict\",\"colorway\":[\"#636efa\",\"#EF553B\",\"#00cc96\",\"#ab63fa\",\"#FFA15A\",\"#19d3f3\",\"#FF6692\",\"#B6E880\",\"#FF97FF\",\"#FECB52\"],\"font\":{\"color\":\"#2a3f5f\"},\"hovermode\":\"closest\",\"hoverlabel\":{\"align\":\"left\"},\"paper_bgcolor\":\"white\",\"plot_bgcolor\":\"#E5ECF6\",\"polar\":{\"bgcolor\":\"#E5ECF6\",\"angularaxis\":{\"gridcolor\":\"white\",\"linecolor\":\"white\",\"ticks\":\"\"},\"radialaxis\":{\"gridcolor\":\"white\",\"linecolor\":\"white\",\"ticks\":\"\"}},\"ternary\":{\"bgcolor\":\"#E5ECF6\",\"aaxis\":{\"gridcolor\":\"white\",\"linecolor\":\"white\",\"ticks\":\"\"},\"baxis\":{\"gridcolor\":\"white\",\"linecolor\":\"white\",\"ticks\":\"\"},\"caxis\":{\"gridcolor\":\"white\",\"linecolor\":\"white\",\"ticks\":\"\"}},\"coloraxis\":{\"colorbar\":{\"outlinewidth\":0,\"ticks\":\"\"}},\"colorscale\":{\"sequential\":[[0.0,\"#0d0887\"],[0.1111111111111111,\"#46039f\"],[0.2222222222222222,\"#7201a8\"],[0.3333333333333333,\"#9c179e\"],[0.4444444444444444,\"#bd3786\"],[0.5555555555555556,\"#d8576b\"],[0.6666666666666666,\"#ed7953\"],[0.7777777777777778,\"#fb9f3a\"],[0.8888888888888888,\"#fdca26\"],[1.0,\"#f0f921\"]],\"sequentialminus\":[[0.0,\"#0d0887\"],[0.1111111111111111,\"#46039f\"],[0.2222222222222222,\"#7201a8\"],[0.3333333333333333,\"#9c179e\"],[0.4444444444444444,\"#bd3786\"],[0.5555555555555556,\"#d8576b\"],[0.6666666666666666,\"#ed7953\"],[0.7777777777777778,\"#fb9f3a\"],[0.8888888888888888,\"#fdca26\"],[1.0,\"#f0f921\"]],\"diverging\":[[0,\"#8e0152\"],[0.1,\"#c51b7d\"],[0.2,\"#de77ae\"],[0.3,\"#f1b6da\"],[0.4,\"#fde0ef\"],[0.5,\"#f7f7f7\"],[0.6,\"#e6f5d0\"],[0.7,\"#b8e186\"],[0.8,\"#7fbc41\"],[0.9,\"#4d9221\"],[1,\"#276419\"]]},\"xaxis\":{\"gridcolor\":\"white\",\"linecolor\":\"white\",\"ticks\":\"\",\"title\":{\"standoff\":15},\"zerolinecolor\":\"white\",\"automargin\":true,\"zerolinewidth\":2},\"yaxis\":{\"gridcolor\":\"white\",\"linecolor\":\"white\",\"ticks\":\"\",\"title\":{\"standoff\":15},\"zerolinecolor\":\"white\",\"automargin\":true,\"zerolinewidth\":2},\"scene\":{\"xaxis\":{\"backgroundcolor\":\"#E5ECF6\",\"gridcolor\":\"white\",\"linecolor\":\"white\",\"showbackground\":true,\"ticks\":\"\",\"zerolinecolor\":\"white\",\"gridwidth\":2},\"yaxis\":{\"backgroundcolor\":\"#E5ECF6\",\"gridcolor\":\"white\",\"linecolor\":\"white\",\"showbackground\":true,\"ticks\":\"\",\"zerolinecolor\":\"white\",\"gridwidth\":2},\"zaxis\":{\"backgroundcolor\":\"#E5ECF6\",\"gridcolor\":\"white\",\"linecolor\":\"white\",\"showbackground\":true,\"ticks\":\"\",\"zerolinecolor\":\"white\",\"gridwidth\":2}},\"shapedefaults\":{\"line\":{\"color\":\"#2a3f5f\"}},\"annotationdefaults\":{\"arrowcolor\":\"#2a3f5f\",\"arrowhead\":0,\"arrowwidth\":1},\"geo\":{\"bgcolor\":\"white\",\"landcolor\":\"#E5ECF6\",\"subunitcolor\":\"white\",\"showland\":true,\"showlakes\":true,\"lakecolor\":\"white\"},\"title\":{\"x\":0.05},\"mapbox\":{\"style\":\"light\"}}},\"annotations\":[{\"font\":{\"color\":\"rgb(0, 0, 0)\",\"family\":\"Arial\",\"size\":14},\"showarrow\":false,\"text\":\"4.7\",\"x\":5.524861878453039,\"xref\":\"x\",\"y\":\"MRI Field Strength\",\"yref\":\"y\"},{\"font\":{\"color\":\"rgb(0, 0, 0)\",\"family\":\"Arial\",\"size\":14},\"showarrow\":false,\"text\":\"9.4\",\"x\":34.806629834254146,\"xref\":\"x\",\"y\":\"MRI Field Strength\",\"yref\":\"y\"},{\"font\":{\"color\":\"rgb(0, 0, 0)\",\"family\":\"Arial\",\"size\":14},\"showarrow\":false,\"text\":\"7.0\",\"x\":63.812154696132595,\"xref\":\"x\",\"y\":\"MRI Field Strength\",\"yref\":\"y\"},{\"font\":{\"color\":\"rgb(0, 0, 0)\",\"family\":\"Arial\",\"size\":14},\"showarrow\":false,\"text\":\"14.1\",\"x\":71.8232044198895,\"xref\":\"x\",\"y\":\"MRI Field Strength\",\"yref\":\"y\"},{\"font\":{\"color\":\"rgb(0, 0, 0)\",\"family\":\"Arial\",\"size\":14},\"showarrow\":false,\"text\":\"17.2\",\"x\":81.76795580110497,\"xref\":\"x\",\"y\":\"MRI Field Strength\",\"yref\":\"y\"},{\"font\":{\"color\":\"rgb(0, 0, 0)\",\"family\":\"Arial\",\"size\":14},\"showarrow\":false,\"text\":\"14.0\",\"x\":94.47513812154696,\"xref\":\"x\",\"y\":\"MRI Field Strength\",\"yref\":\"y\"},{\"font\":{\"color\":\"rgb(0, 0, 0)\",\"family\":\"Arial\",\"size\":14},\"showarrow\":false,\"text\":\"Forepaw\",\"x\":29.55801104972376,\"xref\":\"x\",\"y\":\"Stimulation Location\",\"yref\":\"y\"},{\"font\":{\"color\":\"rgb(0, 0, 0)\",\"family\":\"Arial\",\"size\":14},\"showarrow\":false,\"text\":\"Hindpaw\",\"x\":66.85082872928177,\"xref\":\"x\",\"y\":\"Stimulation Location\",\"yref\":\"y\"},{\"font\":{\"color\":\"rgb(0, 0, 0)\",\"family\":\"Arial\",\"size\":14},\"showarrow\":false,\"text\":\"S1FL\",\"x\":77.34806629834254,\"xref\":\"x\",\"y\":\"Stimulation Location\",\"yref\":\"y\"},{\"font\":{\"color\":\"rgb(0, 0, 0)\",\"family\":\"Arial\",\"size\":14},\"showarrow\":false,\"text\":\"Whiskers C-Row\",\"x\":82.87292817679558,\"xref\":\"x\",\"y\":\"Stimulation Location\",\"yref\":\"y\"},{\"font\":{\"color\":\"rgb(0, 0, 0)\",\"family\":\"Arial\",\"size\":14},\"showarrow\":false,\"text\":\"Eye\",\"x\":92.81767955801105,\"xref\":\"x\",\"y\":\"Stimulation Location\",\"yref\":\"y\"},{\"font\":{\"color\":\"rgb(0, 0, 0)\",\"family\":\"Arial\",\"size\":14},\"showarrow\":false,\"text\":\"Electric\",\"x\":32.04419889502763,\"xref\":\"x\",\"y\":\"Stimulation Type\",\"yref\":\"y\"},{\"font\":{\"color\":\"rgb(0, 0, 0)\",\"family\":\"Arial\",\"size\":14},\"showarrow\":false,\"text\":\"opto.\",\"x\":66.85082872928177,\"xref\":\"x\",\"y\":\"Stimulation Type\",\"yref\":\"y\"},{\"font\":{\"color\":\"rgb(0, 0, 0)\",\"family\":\"Arial\",\"size\":14},\"showarrow\":false,\"text\":\"Thermal\",\"x\":74.86187845303868,\"xref\":\"x\",\"y\":\"Stimulation Type\",\"yref\":\"y\"},{\"font\":{\"color\":\"rgb(0, 0, 0)\",\"family\":\"Arial\",\"size\":14},\"showarrow\":false,\"text\":\"Light\",\"x\":87.29281767955801,\"xref\":\"x\",\"y\":\"Stimulation Type\",\"yref\":\"y\"},{\"font\":{\"color\":\"rgb(0, 0, 0)\",\"family\":\"Arial\",\"size\":14},\"showarrow\":false,\"text\":\"mecha.\",\"x\":97.23756906077348,\"xref\":\"x\",\"y\":\"Stimulation Type\",\"yref\":\"y\"},{\"font\":{\"color\":\"rgb(0, 0, 0)\",\"family\":\"Arial\",\"size\":14},\"showarrow\":false,\"text\":\"Isoflurane\",\"x\":19.337016574585636,\"xref\":\"x\",\"y\":\"Anesthesia\",\"yref\":\"y\"},{\"font\":{\"color\":\"rgb(0, 0, 0)\",\"family\":\"Arial\",\"size\":14},\"showarrow\":false,\"text\":\"Isoflurane / Medetomidine\",\"x\":64.08839779005525,\"xref\":\"x\",\"y\":\"Anesthesia\",\"yref\":\"y\"},{\"font\":{\"color\":\"rgb(0, 0, 0)\",\"family\":\"Arial\",\"size\":14},\"showarrow\":false,\"text\":\"Isoflurane / Alpha-Chloralose\",\"x\":92.26519337016576,\"xref\":\"x\",\"y\":\"Anesthesia\",\"yref\":\"y\"},{\"font\":{\"color\":\"rgb(0, 0, 0)\",\"family\":\"Arial\",\"size\":14},\"showarrow\":false,\"text\":\"Ketamine / Xylazine\",\"x\":97.51381215469615,\"xref\":\"x\",\"y\":\"Anesthesia\",\"yref\":\"y\"},{\"font\":{\"color\":\"rgb(0, 0, 0)\",\"family\":\"Arial\",\"size\":14},\"showarrow\":false,\"text\":\"Wistar\",\"x\":13.535911602209943,\"xref\":\"x\",\"y\":\"Strain\",\"yref\":\"y\"},{\"font\":{\"color\":\"rgb(0, 0, 0)\",\"family\":\"Arial\",\"size\":14},\"showarrow\":false,\"text\":\"Sprague Dawley\",\"x\":55.24861878453038,\"xref\":\"x\",\"y\":\"Strain\",\"yref\":\"y\"},{\"font\":{\"color\":\"rgb(0, 0, 0)\",\"family\":\"Arial\",\"size\":14},\"showarrow\":false,\"text\":\"Fischer 344\",\"x\":91.71270718232044,\"xref\":\"x\",\"y\":\"Strain\",\"yref\":\"y\"},{\"font\":{\"color\":\"rgb(0, 0, 0)\",\"family\":\"Arial\",\"size\":14},\"showarrow\":false,\"text\":\"Male\",\"x\":32.04419889502763,\"xref\":\"x\",\"y\":\"Sex\",\"yref\":\"y\"},{\"font\":{\"color\":\"rgb(0, 0, 0)\",\"family\":\"Arial\",\"size\":14},\"showarrow\":false,\"text\":\"Female\",\"x\":82.04419889502763,\"xref\":\"x\",\"y\":\"Sex\",\"yref\":\"y\"}],\"barmode\":\"stack\",\"title\":{\"text\":\"Figure 1a. Population parameters\"}},                        {\"responsive\": true}                    ).then(function(){\n",
       "                            \n",
       "var gd = document.getElementById('eeadae85-2038-4b9c-bfd4-e6a71f57558a');\n",
       "var x = new MutationObserver(function (mutations, observer) {{\n",
       "        var display = window.getComputedStyle(gd).display;\n",
       "        if (!display || display === 'none') {{\n",
       "            console.log([gd, 'removed!']);\n",
       "            Plotly.purge(gd);\n",
       "            observer.disconnect();\n",
       "        }}\n",
       "}});\n",
       "\n",
       "// Listen for the removal of the full notebook cells\n",
       "var notebookContainer = gd.closest('#notebook-container');\n",
       "if (notebookContainer) {{\n",
       "    x.observe(notebookContainer, {childList: true});\n",
       "}}\n",
       "\n",
       "// Listen for the clearing of the current output cell\n",
       "var outputEl = gd.closest('.output');\n",
       "if (outputEl) {{\n",
       "    x.observe(outputEl, {childList: true});\n",
       "}}\n",
       "\n",
       "                        })                };                });            </script>        </div>"
      ]
     },
     "metadata": {},
     "output_type": "display_data"
    },
    {
     "data": {
      "text/plain": [
       "<Figure size 640x480 with 0 Axes>"
      ]
     },
     "metadata": {},
     "output_type": "display_data"
    }
   ],
   "source": [
    "# -- old version of plot 1a -- \n",
    "\n",
    "import plotly.graph_objects as go\n",
    "\n",
    "annotations = []\n",
    "fig = go.Figure()\n",
    "\n",
    "#---------------------------- MRI field strength -------------------------------------- \n",
    "\n",
    "y_label = 'MRI Field Strength'     #refers to the column name of metadata[]\n",
    "yd = y_label                         #define the name of the bar line\n",
    "\n",
    "x_label = 4.7\n",
    "xd = metadata[y_label][x_label]\n",
    "space = 0\n",
    "\n",
    "fig.add_trace(go.Bar(\n",
    "    y = [yd],\n",
    "    x = [xd],\n",
    "    name = x_label,\n",
    "    orientation='h',\n",
    "    marker=dict(\n",
    "        color='rgba(204, 0, 102, 0.8)',\n",
    "        line=dict(color='rgba(58, 71, 80, 1.0)', width=1)\n",
    "    )\n",
    "))\n",
    "\n",
    "annotations.append(dict(xref='x', yref='y',\n",
    "                                    x = space + xd/2, y = yd,\n",
    "                                    text = x_label,\n",
    "                                    font=dict(family='Arial', size=14,\n",
    "                                              color='rgb(0, 0, 0)'),\n",
    "                                    showarrow=False))\n",
    "\n",
    "\n",
    "space = space + xd\n",
    "x_label = 9.4\n",
    "xd = metadata[y_label][x_label]\n",
    "\n",
    "fig.add_trace(go.Bar(\n",
    "    y = [yd],\n",
    "    x = [xd],\n",
    "    name = x_label,\n",
    "    orientation='h',\n",
    "    marker=dict(\n",
    "        color='rgba(255, 0, 127, 0.8)',\n",
    "        line=dict(color='rgba(58, 71, 80, 1.0)', width=1)\n",
    "    )\n",
    "))\n",
    "\n",
    "annotations.append(dict(xref='x', yref='y',\n",
    "                                    x= space + xd / 2, y= yd,\n",
    "                                    text = x_label,\n",
    "                                    font=dict(family='Arial', size=14,\n",
    "                                              color='rgb(0, 0, 0)'),\n",
    "                                    showarrow=False))\n",
    "\n",
    "\n",
    "space = space + xd\n",
    "x_label = 7.0\n",
    "xd = metadata[y_label][x_label]\n",
    "\n",
    "fig.add_trace(go.Bar(\n",
    "    y = [yd],\n",
    "    x = [xd],\n",
    "    name = x_label,\n",
    "    orientation='h',\n",
    "    marker=dict(\n",
    "        color='rgba(255, 51, 153, 0.8)',\n",
    "        line=dict(color='rgba(58, 71, 80, 1.0)', width=1)\n",
    "    )\n",
    "))\n",
    "\n",
    "annotations.append(dict(xref='x', yref='y',\n",
    "                                    x= space + xd / 2, y= yd,\n",
    "                                    text = x_label,\n",
    "                                    font=dict(family='Arial', size=14,\n",
    "                                              color='rgb(0, 0, 0)'),\n",
    "                                    showarrow=False))\n",
    "\n",
    "\n",
    "space = space + xd\n",
    "x_label = 14.1\n",
    "xd = metadata[y_label][x_label]\n",
    "\n",
    "fig.add_trace(go.Bar(\n",
    "    y = [yd],\n",
    "    x = [xd],\n",
    "    name = x_label,\n",
    "    orientation='h',\n",
    "    marker=dict(\n",
    "        color='rgba(255, 102, 178, 0.8)',\n",
    "        line=dict(color='rgba(58, 71, 80, 1.0)', width=1)\n",
    "    )\n",
    "))\n",
    "\n",
    "annotations.append(dict(xref='x', yref='y',\n",
    "                                    x= space + xd / 2, y= yd,\n",
    "                                    text = x_label,\n",
    "                                    font=dict(family='Arial', size=14,\n",
    "                                              color='rgb(0, 0, 0)'),\n",
    "                                    showarrow=False))\n",
    "\n",
    "\n",
    "space = space + xd\n",
    "x_label = 17.2\n",
    "xd = metadata[y_label][x_label]\n",
    "\n",
    "fig.add_trace(go.Bar(\n",
    "    y = [yd],\n",
    "    x = [xd],\n",
    "    name = x_label,\n",
    "    orientation='h',\n",
    "    marker=dict(\n",
    "        color='rgba(255, 102, 178, 0.8)',\n",
    "        line=dict(color='rgba(58, 71, 80, 1.0)', width=1)\n",
    "    )\n",
    "))\n",
    "\n",
    "annotations.append(dict(xref='x', yref='y',\n",
    "                                    x= space + xd / 2, y= yd,\n",
    "                                    text = x_label,\n",
    "                                    font=dict(family='Arial', size=14,\n",
    "                                              color='rgb(0, 0, 0)'),\n",
    "                                    showarrow=False))\n",
    "\n",
    "space = space + xd\n",
    "x_label = 14.0\n",
    "xd = metadata[y_label][x_label]\n",
    "\n",
    "fig.add_trace(go.Bar(\n",
    "    y = [yd],\n",
    "    x = [xd],\n",
    "    name = x_label,\n",
    "    orientation='h',\n",
    "    marker=dict(\n",
    "        color='rgba(255, 102, 178, 0.8)',\n",
    "        line=dict(color='rgba(58, 71, 80, 1.0)', width=1)\n",
    "    )\n",
    "))\n",
    "\n",
    "annotations.append(dict(xref='x', yref='y',\n",
    "                                    x= space + xd / 2, y= yd,\n",
    "                                    text = x_label,\n",
    "                                    font=dict(family='Arial', size=14,\n",
    "                                              color='rgb(0, 0, 0)'),\n",
    "                                    showarrow=False))\n",
    "\n",
    "\n",
    "\n",
    "#--------------------------- stimulation location -------------------------------------- \n",
    "\n",
    "y_label = 'Stimulation Location'     #refers to the column name of metadata[]\n",
    "yd = y_label                         #define the name of the bar line\n",
    "\n",
    "x_label = 'Forepaw'\n",
    "xd = metadata[y_label][x_label]\n",
    "space = 0\n",
    "\n",
    "fig.add_trace(go.Bar(\n",
    "    y = [yd],\n",
    "    x = [xd],\n",
    "    name = x_label,\n",
    "    orientation='h',\n",
    "    marker=dict(\n",
    "        color='rgba(102, 0, 204, 0.8)',\n",
    "        line=dict(color='rgba(58, 71, 80, 1.0)', width=1)\n",
    "    )\n",
    "))\n",
    "\n",
    "annotations.append(dict(xref='x', yref='y',\n",
    "                                    x = space + xd/2, y = yd,\n",
    "                                    text = x_label,\n",
    "                                    font=dict(family='Arial', size=14,\n",
    "                                              color='rgb(0, 0, 0)'),\n",
    "                                    showarrow=False))\n",
    "\n",
    "space = space + xd\n",
    "x_label = 'Hindpaw'\n",
    "xd = metadata[y_label][x_label]\n",
    "\n",
    "\n",
    "fig.add_trace(go.Bar(\n",
    "    y = [yd],\n",
    "    x = [xd],\n",
    "    name = x_label,\n",
    "    orientation='h',\n",
    "    marker=dict(\n",
    "        color='rgba(127, 0, 255, 0.8)',\n",
    "        line=dict(color='rgba(58, 71, 80, 1.0)', width=1)\n",
    "    )\n",
    "))\n",
    "\n",
    "annotations.append(dict(xref='x', yref='y',\n",
    "                                    x= space + xd / 2, y= yd,\n",
    "                                    text = x_label,\n",
    "                                    font=dict(family='Arial', size=14,\n",
    "                                              color='rgb(0, 0, 0)'),\n",
    "                                    showarrow=False))\n",
    "\n",
    "space = space + xd\n",
    "x_label = 'S1FL'\n",
    "xd = metadata[y_label][x_label]\n",
    "\n",
    "\n",
    "fig.add_trace(go.Bar(\n",
    "    y = [yd],\n",
    "    x = [xd],\n",
    "    name = x_label,\n",
    "    orientation='h',\n",
    "    marker=dict(\n",
    "        color='rgba(153, 51, 255, 0.8)',\n",
    "        line=dict(color='rgba(58, 71, 80, 1.0)', width=1)\n",
    "    )\n",
    "))\n",
    "\n",
    "annotations.append(dict(xref='x', yref='y',\n",
    "                                    x= space + xd / 2, y= yd,\n",
    "                                    text = x_label,\n",
    "                                    font=dict(family='Arial', size=14,\n",
    "                                              color='rgb(0, 0, 0)'),\n",
    "                                    showarrow=False))\n",
    "\n",
    "space = space + xd\n",
    "x_label = 'Whiskers C-Row'\n",
    "xd = metadata[y_label][x_label]\n",
    "\n",
    "\n",
    "fig.add_trace(go.Bar(\n",
    "    y = [yd],\n",
    "    x = [xd],\n",
    "    name = x_label,\n",
    "    orientation='h',\n",
    "    marker=dict(\n",
    "        color='rgba(178, 102, 255, 0.8)',\n",
    "        line=dict(color='rgba(58, 71, 80, 1.0)', width=1)\n",
    "    )\n",
    "))\n",
    "\n",
    "annotations.append(dict(xref='x', yref='y',\n",
    "                                    x= space + xd / 2, y= yd,\n",
    "                                    text = x_label,\n",
    "                                    font=dict(family='Arial', size=14,\n",
    "                                              color='rgb(0, 0, 0)'),\n",
    "                                    showarrow=False))\n",
    "\n",
    "space = space + xd\n",
    "x_label = 'Eye'\n",
    "xd = metadata[y_label][x_label]\n",
    "\n",
    "\n",
    "fig.add_trace(go.Bar(\n",
    "    y = [yd],\n",
    "    x = [xd],\n",
    "    name = x_label,\n",
    "    orientation='h',\n",
    "    marker=dict(\n",
    "        color='rgba(204, 153, 255, 0.8)',\n",
    "        line=dict(color='rgba(58, 71, 80, 1.0)', width=1)\n",
    "    )\n",
    "))\n",
    "\n",
    "annotations.append(dict(xref='x', yref='y',\n",
    "                                    x= space + xd / 2, y= yd,\n",
    "                                    text = x_label,\n",
    "                                    font=dict(family='Arial', size=14,\n",
    "                                              color='rgb(0, 0, 0)'),\n",
    "                                    showarrow=False))\n",
    "\n",
    "\n",
    "#----------------------------- stimulation type -------------------------------------- \n",
    "\n",
    "y_label = 'Stimulation Type'     #refers to the column name of metadata[]\n",
    "yd = y_label                      #define the name of the bar line\n",
    "\n",
    "x_label = 'Electric'\n",
    "xd = metadata[y_label][x_label]\n",
    "space = 0\n",
    "\n",
    "fig.add_trace(go.Bar(\n",
    "    y = [yd],\n",
    "    x = [xd],\n",
    "    name = x_label,\n",
    "    orientation='h',\n",
    "    marker=dict(\n",
    "        color='rgba(0, 153, 153, 0.8)',\n",
    "        line=dict(color='rgba(58, 71, 80, 1.0)', width=1)\n",
    "    )\n",
    "))\n",
    "\n",
    "annotations.append(dict(xref='x', yref='y',\n",
    "                                    x = space + xd/2, y = yd,\n",
    "                                    text = x_label,\n",
    "                                    font=dict(family='Arial', size=14,\n",
    "                                              color='rgb(0, 0, 0)'),\n",
    "                                    showarrow=False))\n",
    "\n",
    "\n",
    "\n",
    "space = space + xd\n",
    "x_label = 'Optogenetic'\n",
    "xd = metadata[y_label][x_label]\n",
    "\n",
    "\n",
    "fig.add_trace(go.Bar(\n",
    "    y = [yd],\n",
    "    x = [xd],\n",
    "    name = x_label,\n",
    "    orientation='h',\n",
    "    marker=dict(\n",
    "        color='rgba(0, 204, 204, 0.8)',\n",
    "        line=dict(color='rgba(58, 71, 80, 1.0)', width=1)\n",
    "    )\n",
    "))\n",
    "\n",
    "annotations.append(dict(xref='x', yref='y',\n",
    "                                    x= space + xd / 2, y= yd,\n",
    "                                    text = 'opto.',\n",
    "                                    font=dict(family='Arial', size=14,\n",
    "                                              color='rgb(0, 0, 0)'),\n",
    "                                    showarrow=False))\n",
    "\n",
    "\n",
    "space = space + xd\n",
    "x_label = 'Thermal'\n",
    "xd = metadata[y_label][x_label]\n",
    "\n",
    "\n",
    "fig.add_trace(go.Bar(\n",
    "    y = [yd],\n",
    "    x = [xd],\n",
    "    name = x_label,\n",
    "    orientation='h',\n",
    "    marker=dict(\n",
    "        color='rgba(0, 255, 255, 0.6)',\n",
    "        line=dict(color='rgba(58, 71, 80, 1.0)', width=1)\n",
    "    )\n",
    "))\n",
    "\n",
    "annotations.append(dict(xref='x', yref='y',\n",
    "                                    x= space + xd / 2, y= yd,\n",
    "                                    text = x_label,\n",
    "                                    font=dict(family='Arial', size=14,\n",
    "                                              color='rgb(0, 0, 0)'),\n",
    "                                    showarrow=False))\n",
    "\n",
    "space = space + xd\n",
    "x_label = 'Light'\n",
    "xd = metadata[y_label][x_label]\n",
    "\n",
    "\n",
    "fig.add_trace(go.Bar(\n",
    "    y = [yd],\n",
    "    x = [xd],\n",
    "    name = x_label,\n",
    "    orientation='h',\n",
    "    marker=dict(\n",
    "        color='rgba(0, 255, 255, 0.6)',\n",
    "        line=dict(color='rgba(58, 71, 80, 1.0)', width=1)\n",
    "    )\n",
    "))\n",
    "\n",
    "annotations.append(dict(xref='x', yref='y',\n",
    "                                    x= space + xd / 2, y= yd,\n",
    "                                    text = x_label,\n",
    "                                    font=dict(family='Arial', size=14,\n",
    "                                              color='rgb(0, 0, 0)'),\n",
    "                                    showarrow=False))\n",
    "\n",
    "space = space + xd\n",
    "x_label = 'Mechanical Deflection'\n",
    "xd = metadata[y_label][x_label]\n",
    "\n",
    "\n",
    "fig.add_trace(go.Bar(\n",
    "    y = [yd],\n",
    "    x = [xd],\n",
    "    name = x_label,\n",
    "    orientation='h',\n",
    "    marker=dict(\n",
    "        color='rgba(0, 255, 255, 0.6)',\n",
    "        line=dict(color='rgba(58, 71, 80, 1.0)', width=1)\n",
    "    )\n",
    "))\n",
    "\n",
    "annotations.append(dict(xref='x', yref='y',\n",
    "                                    x= space + xd / 2, y= yd,\n",
    "                                    text = 'mecha.',\n",
    "                                    font=dict(family='Arial', size=14,\n",
    "                                              color='rgb(0, 0, 0)'),\n",
    "                                    showarrow=False))\n",
    "\n",
    "\n",
    "#-------------------------------- anesthesia -------------------------------------- \n",
    "\n",
    "y_label = 'Anesthesia'        #refers to the column name of metadata[]\n",
    "yd = y_label                  #define the name of the bar line\n",
    "\n",
    "x_label = 'Isoflurane'\n",
    "xd = metadata[y_label][x_label]\n",
    "space = 0\n",
    "\n",
    "fig.add_trace(go.Bar(\n",
    "    y = [yd],\n",
    "    x = [xd],\n",
    "    name = x_label,\n",
    "    orientation='h',\n",
    "    marker=dict(\n",
    "        color='rgba(153, 153, 0, 0.8)',\n",
    "        line=dict(color='rgba(58, 71, 80, 1.0)', width=1)\n",
    "    )\n",
    "))\n",
    "\n",
    "annotations.append(dict(xref='x', yref='y',\n",
    "                                    x = space + xd/2, y = yd,\n",
    "                                    text = x_label,\n",
    "                                    font=dict(family='Arial', size=14,\n",
    "                                              color='rgb(0, 0, 0)'),\n",
    "                                    showarrow=False))\n",
    "\n",
    "space = space + xd\n",
    "x_label = 'Isoflurane / Medetomidine'\n",
    "xd = metadata[y_label][x_label]\n",
    "\n",
    "fig.add_trace(go.Bar(\n",
    "    y = [yd],\n",
    "    x = [xd],\n",
    "    name = x_label,\n",
    "    orientation='h',\n",
    "    marker=dict(\n",
    "        color='rgba(204, 204, 0, 0.8)',\n",
    "        line=dict(color='rgba(58, 71, 80, 1.0)', width=1)\n",
    "    )\n",
    "))\n",
    "\n",
    "annotations.append(dict(xref='x', yref='y',\n",
    "                                    x = space + xd/2, y = yd,\n",
    "                                    text = x_label,\n",
    "                                    font=dict(family='Arial', size=14,\n",
    "                                              color='rgb(0, 0, 0)'),\n",
    "                                    showarrow=False))\n",
    "\n",
    "space = space + xd\n",
    "x_label = 'Isoflurane / Alpha-Chloralose'\n",
    "xd = metadata[y_label][x_label]\n",
    "\n",
    "fig.add_trace(go.Bar(\n",
    "    y = [yd],\n",
    "    x = [xd],\n",
    "    name = x_label,\n",
    "    orientation='h',\n",
    "    marker=dict(\n",
    "        color='rgba(255, 255, 0, 0.8)',\n",
    "        line=dict(color='rgba(58, 71, 80, 1.0)', width=1)\n",
    "    )\n",
    "))\n",
    "\n",
    "annotations.append(dict(xref='x', yref='y',\n",
    "                                    x = space + xd/2, y = yd,\n",
    "                                    text = x_label,\n",
    "                                    font=dict(family='Arial', size=14,\n",
    "                                              color='rgb(0, 0, 0)'),\n",
    "                                    showarrow=False))\n",
    "\n",
    "space = space + xd\n",
    "x_label = 'Ketamine / Xylazine'\n",
    "xd = metadata[y_label][x_label]\n",
    "\n",
    "fig.add_trace(go.Bar(\n",
    "    y = [yd],\n",
    "    x = [xd],\n",
    "    name = x_label,\n",
    "    orientation='h',\n",
    "    marker=dict(\n",
    "        color='rgba(255, 255, 102, 0.8)',\n",
    "        line=dict(color='rgba(58, 71, 80, 1.0)', width=1)\n",
    "    )\n",
    "))\n",
    "\n",
    "annotations.append(dict(xref='x', yref='y',\n",
    "                                    x = space + xd/2, y = yd,\n",
    "                                    text = x_label,\n",
    "                                    font=dict(family='Arial', size=14,\n",
    "                                              color='rgb(0, 0, 0)'),\n",
    "                                    showarrow=False))\n",
    "\n",
    "\n",
    "#---------------------------------- strain -------------------------------------- \n",
    "\n",
    "y_label = 'Strain'     #refers to the column name of metadata[]\n",
    "yd = y_label        #define the name of the bar line\n",
    "\n",
    "x_label = 'Wistar'\n",
    "xd = metadata[y_label][x_label]\n",
    "space = 0\n",
    "\n",
    "fig.add_trace(go.Bar(\n",
    "    y = [yd],\n",
    "    x = [xd],\n",
    "    name = x_label,\n",
    "    orientation='h',\n",
    "    marker=dict(\n",
    "        color='rgba(204, 102, 0, 0.8)',\n",
    "        line=dict(color='rgba(58, 71, 80, 1.0)', width=1)\n",
    "    )\n",
    "))\n",
    "\n",
    "annotations.append(dict(xref='x', yref='y',\n",
    "                                    x = space + xd/2, y = yd,\n",
    "                                    text = x_label,\n",
    "                                    font=dict(family='Arial', size=14,\n",
    "                                              color='rgb(0, 0, 0)'),\n",
    "                                    showarrow=False))\n",
    "\n",
    "space = space + xd\n",
    "x_label = 'Sprague Dawley'\n",
    "xd = metadata[y_label][x_label]\n",
    "\n",
    "fig.add_trace(go.Bar(\n",
    "    y = [yd],\n",
    "    x = [xd],\n",
    "    name = x_label,\n",
    "    orientation='h',\n",
    "    marker=dict(\n",
    "        color='rgba(255, 128, 0, 0.8)',\n",
    "        line=dict(color='rgba(58, 71, 80, 1.0)', width=1)\n",
    "    )\n",
    "))\n",
    "\n",
    "annotations.append(dict(xref='x', yref='y',\n",
    "                                    x = space + xd/2, y = yd,\n",
    "                                    text = x_label,\n",
    "                                    font=dict(family='Arial', size=14,\n",
    "                                              color='rgb(0, 0, 0)'),\n",
    "                                    showarrow=False))\n",
    "\n",
    "space = space + xd\n",
    "x_label = 'Fischer 344'\n",
    "xd = metadata[y_label][x_label]\n",
    "\n",
    "fig.add_trace(go.Bar(\n",
    "    y = [yd],\n",
    "    x = [xd],\n",
    "    name = x_label,\n",
    "    orientation='h',\n",
    "    marker=dict(\n",
    "        color='rgba(255, 153, 51, 0.8)',\n",
    "        line=dict(color='rgba(58, 71, 80, 1.0)', width=1)\n",
    "    )\n",
    "))\n",
    "\n",
    "annotations.append(dict(xref='x', yref='y',\n",
    "                                    x = space + xd/2, y = yd,\n",
    "                                    text = x_label,\n",
    "                                    font=dict(family='Arial', size=14,\n",
    "                                              color='rgb(0, 0, 0)'),\n",
    "                                    showarrow=False))\n",
    "\n",
    "\n",
    "#---------------------------------- Sex -------------------------------------- \n",
    "\n",
    "y_label = 'Sex'     #refers to the column name of metadata[]\n",
    "yd = y_label        #define the name of the bar line\n",
    "\n",
    "x_label = 'Male'\n",
    "xd = metadata[y_label][x_label]\n",
    "space = 0\n",
    "\n",
    "fig.add_trace(go.Bar(\n",
    "    y = [yd],\n",
    "    x = [xd],\n",
    "    name = x_label,\n",
    "    orientation='h',\n",
    "    marker=dict(\n",
    "        color='rgba(204, 0, 0, 0.8)',\n",
    "        line=dict(color='rgba(58, 71, 80, 1.0)', width=1)\n",
    "    )\n",
    "))\n",
    "\n",
    "annotations.append(dict(xref='x', yref='y',\n",
    "                                    x = space + xd/2, y = yd,\n",
    "                                    text = x_label,\n",
    "                                    font=dict(family='Arial', size=14,\n",
    "                                              color='rgb(0, 0, 0)'),\n",
    "                                    showarrow=False))\n",
    "\n",
    "\n",
    "space = space + xd\n",
    "x_label = 'Female'\n",
    "xd = metadata[y_label][x_label]\n",
    "\n",
    "\n",
    "fig.add_trace(go.Bar(\n",
    "    y = [yd],\n",
    "    x = [xd],\n",
    "    name = x_label,\n",
    "    orientation='h',\n",
    "    marker=dict(\n",
    "        color='rgba(255, 0, 0, 0.8)',\n",
    "        line=dict(color='rgba(58, 71, 80, 1.0)', width=1)\n",
    "    )\n",
    "))\n",
    "\n",
    "annotations.append(dict(xref='x', yref='y',\n",
    "                                    x= space + xd / 2, y= yd,\n",
    "                                    text = x_label,\n",
    "                                    font=dict(family='Arial', size=14,\n",
    "                                              color='rgb(0, 0, 0)'),\n",
    "                                    showarrow=False))\n",
    "\n",
    "\n",
    "\n",
    "#---------------------------------- Plot -------------------------------------- \n",
    "\n",
    "fig.update_layout(annotations=annotations)\n",
    "fig.update_layout(barmode='stack', title='Figure 1a. Population parameters')\n",
    "\n",
    "plt.savefig('/project/4180000.19/multirat_stim/scratch/plots/population/population_parameters.png', format='png', dpi=1200) \n",
    "#fig.write_image('/project/4180000.19/multirat_stim/scratch/plots/population/scratch_population_parameters.png', format='png')\n",
    "\n",
    "fig.show()\n",
    "\n"
   ]
  }
 ],
 "metadata": {
  "kernelspec": {
   "display_name": "Python 3",
   "language": "python",
   "name": "python3"
  },
  "language_info": {
   "codemirror_mode": {
    "name": "ipython",
    "version": 3
   },
   "file_extension": ".py",
   "mimetype": "text/x-python",
   "name": "python",
   "nbconvert_exporter": "python",
   "pygments_lexer": "ipython3",
   "version": "3.9.2"
  },
  "orig_nbformat": 4
 },
 "nbformat": 4,
 "nbformat_minor": 2
}
