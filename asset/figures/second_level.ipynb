{
 "cells": [
  {
   "cell_type": "code",
   "execution_count": 5,
   "metadata": {},
   "outputs": [],
   "source": [
    "# Import Libraries\n",
    "import matplotlib.pyplot as plt\n",
    "import matplotlib.image as mpimg\n",
    "import numpy as np\n",
    "import nibabel as nib\n",
    "import pandas as pd\n",
    "import glob "
   ]
  },
  {
   "cell_type": "code",
   "execution_count": 11,
   "metadata": {},
   "outputs": [
    {
     "name": "stdout",
     "output_type": "stream",
     "text": [
      "['/project/4180000.19/multirat_stim/scratch/rabies_test/first_level/glover/model/model_sub-0200100_ses-1.csv']\n",
      "['/project/4180000.19/multirat_stim/scratch/rabies_test/second_level/glover/image/stat_map_dataset-02018_z_score.png', '/project/4180000.19/multirat_stim/scratch/rabies_test/second_level/glover/image/stat_map_dataset-02003_z_score.png', '/project/4180000.19/multirat_stim/scratch/rabies_test/second_level/glover/image/stat_map_dataset-02004_z_score.png', '/project/4180000.19/multirat_stim/scratch/rabies_test/second_level/glover/image/stat_map_dataset-02005_z_score.png', '/project/4180000.19/multirat_stim/scratch/rabies_test/second_level/glover/image/stat_map_dataset-02014_z_score.png', '/project/4180000.19/multirat_stim/scratch/rabies_test/second_level/glover/image/stat_map_dataset-02001_z_score.png', '/project/4180000.19/multirat_stim/scratch/rabies_test/second_level/glover/image/stat_map_dataset-02002_z_score.png', '/project/4180000.19/multirat_stim/scratch/rabies_test/second_level/glover/image/stat_map_dataset-02013_z_score.png', '/project/4180000.19/multirat_stim/scratch/rabies_test/second_level/glover/image/stat_map_dataset-02006_z_score.png', '/project/4180000.19/multirat_stim/scratch/rabies_test/second_level/glover/image/stat_map_dataset-02007_z_score.png', '/project/4180000.19/multirat_stim/scratch/rabies_test/second_level/glover/image/stat_map_dataset-02008_z_score.png', '/project/4180000.19/multirat_stim/scratch/rabies_test/second_level/glover/image/stat_map_dataset-02009_z_score.png', '/project/4180000.19/multirat_stim/scratch/rabies_test/second_level/glover/image/stat_map_dataset-02011_z_score.png', '/project/4180000.19/multirat_stim/scratch/rabies_test/second_level/glover/image/stat_map_dataset-02012_z_score.png', '/project/4180000.19/multirat_stim/scratch/rabies_test/second_level/glover/image/stat_map_dataset-02015_z_score.png', '/project/4180000.19/multirat_stim/scratch/rabies_test/second_level/glover/image/stat_map_dataset-02016_z_score.png', '/project/4180000.19/multirat_stim/scratch/rabies_test/second_level/glover/image/stat_map_dataset-02017_z_score.png', '/project/4180000.19/multirat_stim/scratch/rabies_test/second_level/glover/image/stat_map_dataset-02019_z_score.png']\n"
     ]
    }
   ],
   "source": [
    "# Load data \n",
    "analysis_folder = '/project/4180000.19/multirat_stim/scratch/rabies_test/'\n",
    "model_path = analysis_folder+'first_level/glover/model/'\n",
    "second_level_path = analysis_folder+'second_level/glover/image/'\n",
    "\n",
    "list_model = glob.glob(model_path+'*')\n",
    "list_map = glob.glob(second_level_path+'*')\n",
    "print(list_model)\n",
    "print(list_map)\n"
   ]
  },
  {
   "cell_type": "code",
   "execution_count": null,
   "metadata": {},
   "outputs": [],
   "source": [
    "import matplotlib.pyplot as plt\n",
    "\n",
    "fig = plt.figure(figsize=(20, 10))\n",
    "gs = fig.add_gridspec(nrows=3, ncols=2, hspace=0.5, wspace=0.01, height_ratios=[2, 4, 4], width_ratios=[1, 1])\n",
    "\n",
    "# Define the HRF models and images\n",
    "hrf_models = [glover_hrf_model, spm_hrf_model]\n",
    "hrf_first_level_images = [glover_hrf_first, spm_hrf_first]\n",
    "hrf_second_level_images = [glover_hrf_second, spm_hrf_second]\n",
    "hrf_model_titles = ['Default glover HRF Model', 'Default spm HRF Model']\n",
    "hrf_first_level_titles = ['First Level Analysis', 'First Level Analysis']\n",
    "hrf_second_level_titles = ['Second Level Analysis', 'Second Level Analysis']\n",
    "\n",
    "# Loop through the subplots and plot the data\n",
    "for i in range(2):\n",
    "    row = i // 2\n",
    "    col = i % 2\n",
    "\n",
    "    ax = fig.add_subplot(gs[row, col])\n",
    "    ax.plot(hrf_models[i])\n",
    "    ax.set_ylabel('HRF amplitude')\n",
    "    ax.set_xlabel('Time (s)')\n",
    "    ax.set_title(hrf_model_titles[i])\n",
    "    ax.set_axis_off()\n",
    "\n",
    "\n",
    "for i in range(2):\n",
    "    row = 1\n",
    "    col = i\n",
    "\n",
    "    ax = fig.add_subplot(gs[row, col])\n",
    "    ax.imshow(hrf_first_level_images[i])\n",
    "    ax.set_title(hrf_first_level_titles[i])\n",
    "    ax.set_axis_off()\n",
    "\n",
    "\n",
    "for i in range(2):\n",
    "    row = 2\n",
    "    col = i\n",
    "\n",
    "    ax = fig.add_subplot(gs[row, col])\n",
    "    ax.imshow(hrf_second_level_images[i])\n",
    "    ax.set_title(hrf_second_level_titles[i])\n",
    "    ax.set_axis_off()\n",
    "\n",
    "\n",
    "plt.show()\n"
   ]
  },
  {
   "cell_type": "code",
   "execution_count": 12,
   "metadata": {},
   "outputs": [
    {
     "ename": "NameError",
     "evalue": "name 'glover_hrf_model' is not defined",
     "output_type": "error",
     "traceback": [
      "\u001b[0;31m---------------------------------------------------------------------------\u001b[0m",
      "\u001b[0;31mNameError\u001b[0m                                 Traceback (most recent call last)",
      "Cell \u001b[0;32mIn[12], line 8\u001b[0m\n\u001b[1;32m      6\u001b[0m \u001b[39m# Create Three Axes Objects\u001b[39;00m\n\u001b[1;32m      7\u001b[0m ax1 \u001b[39m=\u001b[39m fig\u001b[39m.\u001b[39madd_subplot(gs[\u001b[39m0\u001b[39m, \u001b[39m0\u001b[39m])\n\u001b[0;32m----> 8\u001b[0m ax1\u001b[39m.\u001b[39mplot(glover_hrf_model)\n\u001b[1;32m      9\u001b[0m ax1\u001b[39m.\u001b[39mset_ylabel(\u001b[39m'\u001b[39m\u001b[39mHRF amplitude\u001b[39m\u001b[39m'\u001b[39m)\n\u001b[1;32m     10\u001b[0m ax1\u001b[39m.\u001b[39mset_xlabel(\u001b[39m'\u001b[39m\u001b[39mTime (s)\u001b[39m\u001b[39m'\u001b[39m)\n",
      "\u001b[0;31mNameError\u001b[0m: name 'glover_hrf_model' is not defined"
     ]
    },
    {
     "data": {
      "image/png": "[encoded data removed]",
      "text/plain": [
       "<Figure size 2000x1000 with 1 Axes>"
      ]
     },
     "metadata": {},
     "output_type": "display_data"
    }
   ],
   "source": [
    "# Compare default HRF\n",
    "\n",
    "fig = plt.figure(figsize=(20, 10))\n",
    "gs = fig.add_gridspec(nrows=3, ncols=2, hspace=0.5, wspace=0.01, height_ratios=[2, 4, 4], width_ratios=[1, 1])  #hspace (height space) and wspace (width space)\n",
    "\n",
    "# Create Three Axes Objects\n",
    "ax1 = fig.add_subplot(gs[0, 0])\n",
    "ax1.plot(glover_hrf_model)\n",
    "ax1.set_ylabel('HRF amplitude')\n",
    "ax1.set_xlabel('Time (s)')\n",
    "ax1.set_title('Default glover HRF Model')\n",
    "ax1.set_axis_off()\n",
    "\n",
    "ax3 = fig.add_subplot(gs[1, 0])\n",
    "ax3.imshow(glover_hrf_first)\n",
    "ax3.set_title('First Level Analysis')\n",
    "ax3.set_axis_off()"
   ]
  }
 ],
 "metadata": {
  "kernelspec": {
   "display_name": "MultiRatStim",
   "language": "python",
   "name": "python3"
  },
  "language_info": {
   "codemirror_mode": {
    "name": "ipython",
    "version": 3
   },
   "file_extension": ".py",
   "mimetype": "text/x-python",
   "name": "python",
   "nbconvert_exporter": "python",
   "pygments_lexer": "ipython3",
   "version": "3.9.2"
  },
  "orig_nbformat": 4
 },
 "nbformat": 4,
 "nbformat_minor": 2
}
