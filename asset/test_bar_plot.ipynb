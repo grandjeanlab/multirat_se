{
 "cells": [
  {
   "cell_type": "code",
   "execution_count": 4,
   "metadata": {},
   "outputs": [
    {
     "name": "stdout",
     "output_type": "stream",
     "text": [
      "male                              0.000000\n",
      "female                            0.000000\n",
      "Wistar                            0.000000\n",
      "Sprague Dawley                    0.000000\n",
      "Fischer 344                       0.000000\n",
      "isoflurane                       31.055901\n",
      "ketamine / xylazine               5.590062\n",
      "isoflurane / medetomidine        57.142857\n",
      "isoflurane / alpha-chloralose     6.211180\n",
      "electric                          0.000000\n",
      "optogenetic                       0.000000\n",
      "thermal                           0.000000\n",
      "electrical                        0.000000\n",
      "mechanical deflection             0.000000\n",
      "light                             0.000000\n",
      "forepaw                           0.000000\n",
      "hindpaw                           0.000000\n",
      "S1FL                              0.000000\n",
      "whiskers C-Row                    0.000000\n",
      "eye                               0.000000\n",
      "9.4                               0.000000\n",
      "7.0                               0.000000\n",
      "14.1                              0.000000\n",
      "4.7                               0.000000\n",
      "17.2                              0.000000\n",
      "Name: anesthesia, dtype: float64\n"
     ]
    }
   ],
   "source": [
    "#Set up table for figure --> using metadata_stand.tsv\n",
    "\n",
    "import os\n",
    "import matplotlib.pyplot as plt\n",
    "import matplotlib.colors as mcolors\n",
    "import numpy as np\n",
    "import pandas as pd\n",
    "\n",
    "\n",
    "init_folder='/home/traaffneu/margal/code/multirat_se/scripts/'\n",
    "df_path='/home/traaffneu/margal/code/multirat_se/asset/table/metadata_stand.tsv'\n",
    "\n",
    "df = pd.read_csv(df_path, sep='\\t')\n",
    "\n",
    "metadata = pd.concat([df['rat.sex'].value_counts(sort=False),\n",
    "                    df['rat.strain'].value_counts(sort=False), \n",
    "                    df['anesthesia.induction'].value_counts(sort=False), \n",
    "                    df['func.sensory.stimulation'].value_counts(sort=False), \n",
    "                    df['func.sensory.system'].value_counts(sort=False), \n",
    "                    df['MRI.field.strength'].value_counts(sort=False)], axis=1)\n",
    "\n",
    "metadata = metadata/metadata.sum()*100\n",
    "metadata = metadata.rename(columns={\"rat.sex\":\"sex\", \n",
    "                                    \"rat.strain\":\"strain\", \n",
    "                                    \"anesthesia.induction\":\"anesthesia\",\n",
    "                                    \"func.sensory.stimulation\":\"stimulation type\", \n",
    "                                    \"func.sensory.system\":\"stimulation location\",\n",
    "                                    \"MRI.field.strength\":\"MRI field strength\"})\n",
    "\n",
    "metadata = metadata.fillna(0)\n",
    "#print(metadata)\n",
    "print(metadata['anesthesia'])\n",
    "\n",
    "metadata_T = metadata.T\n",
    "metadata_T.reset_index(level=0, inplace=True) \n",
    "\n",
    "#print(metadata_T)\n"
   ]
  },
  {
   "cell_type": "code",
   "execution_count": 10,
   "metadata": {},
   "outputs": [
    {
     "data": {
      "application/vnd.plotly.v1+json": {
       "config": {
        "plotlyServerURL": "https://plot.ly"
       },
       "data": [
        {
         "marker": {
          "color": "rgba(255, 153, 153, 0.8)",
          "line": {
           "color": "rgba(58, 71, 80, 1.0)",
           "width": 1
          }
         },
         "name": "4.7",
         "orientation": "h",
         "type": "bar",
         "x": [
          12.422360248447205
         ],
         "y": [
          "MRI field strength"
         ]
        },
        {
         "marker": {
          "color": "rgba(255, 153, 153, 0.8)",
          "line": {
           "color": "rgba(58, 71, 80, 1.0)",
           "width": 1
          }
         },
         "name": "9.4",
         "orientation": "h",
         "type": "bar",
         "x": [
          53.41614906832298
         ],
         "y": [
          "MRI field strength"
         ]
        },
        {
         "marker": {
          "color": "rgba(255, 153, 153, 0.8)",
          "line": {
           "color": "rgba(58, 71, 80, 1.0)",
           "width": 1
          }
         },
         "name": "7.0",
         "orientation": "h",
         "type": "bar",
         "x": [
          11.801242236024844
         ],
         "y": [
          "MRI field strength"
         ]
        },
        {
         "marker": {
          "color": "rgba(255, 153, 153, 0.8)",
          "line": {
           "color": "rgba(58, 71, 80, 1.0)",
           "width": 1
          }
         },
         "name": "14.1",
         "orientation": "h",
         "type": "bar",
         "x": [
          6.211180124223603
         ],
         "y": [
          "MRI field strength"
         ]
        },
        {
         "marker": {
          "color": "rgba(255, 153, 153, 0.8)",
          "line": {
           "color": "rgba(58, 71, 80, 1.0)",
           "width": 1
          }
         },
         "name": "17.2",
         "orientation": "h",
         "type": "bar",
         "x": [
          16.149068322981368
         ],
         "y": [
          "MRI field strength"
         ]
        },
        {
         "marker": {
          "color": "rgba(127, 0, 255, 0.8)",
          "line": {
           "color": "rgba(58, 71, 80, 1.0)",
           "width": 1
          }
         },
         "name": "forepaw",
         "orientation": "h",
         "type": "bar",
         "x": [
          54.037267080745345
         ],
         "y": [
          "stimulation location"
         ]
        },
        {
         "marker": {
          "color": "rgba(127, 0, 255, 0.8)",
          "line": {
           "color": "rgba(58, 71, 80, 1.0)",
           "width": 1
          }
         },
         "name": "hindpaw",
         "orientation": "h",
         "type": "bar",
         "x": [
          17.391304347826086
         ],
         "y": [
          "stimulation location"
         ]
        },
        {
         "marker": {
          "color": "rgba(127, 0, 255, 0.8)",
          "line": {
           "color": "rgba(58, 71, 80, 1.0)",
           "width": 1
          }
         },
         "name": "S1FL",
         "orientation": "h",
         "type": "bar",
         "x": [
          6.211180124223603
         ],
         "y": [
          "stimulation location"
         ]
        },
        {
         "marker": {
          "color": "rgba(127, 0, 255, 0.8)",
          "line": {
           "color": "rgba(58, 71, 80, 1.0)",
           "width": 1
          }
         },
         "name": "whiskers C-Row",
         "orientation": "h",
         "type": "bar",
         "x": [
          6.211180124223603
         ],
         "y": [
          "stimulation location"
         ]
        },
        {
         "marker": {
          "color": "rgba(127, 0, 255, 0.8)",
          "line": {
           "color": "rgba(58, 71, 80, 1.0)",
           "width": 1
          }
         },
         "name": "eye",
         "orientation": "h",
         "type": "bar",
         "x": [
          16.149068322981368
         ],
         "y": [
          "stimulation location"
         ]
        },
        {
         "marker": {
          "color": "rgba(0, 153, 153, 0.8)",
          "line": {
           "color": "rgba(58, 71, 80, 1.0)",
           "width": 1
          }
         },
         "name": "electric",
         "orientation": "h",
         "type": "bar",
         "x": [
          53.41614906832298
         ],
         "y": [
          "stimulation type"
         ]
        },
        {
         "marker": {
          "color": "rgba(0, 204, 204, 0.8)",
          "line": {
           "color": "rgba(58, 71, 80, 1.0)",
           "width": 1
          }
         },
         "name": "optogenetic",
         "orientation": "h",
         "type": "bar",
         "x": [
          6.211180124223603
         ],
         "y": [
          "stimulation type"
         ]
        },
        {
         "marker": {
          "color": "rgba(0, 255, 255, 0.6)",
          "line": {
           "color": "rgba(58, 71, 80, 1.0)",
           "width": 1
          }
         },
         "name": "thermal",
         "orientation": "h",
         "type": "bar",
         "x": [
          11.801242236024844
         ],
         "y": [
          "stimulation type"
         ]
        },
        {
         "marker": {
          "color": "rgba(0, 255, 255, 0.6)",
          "line": {
           "color": "rgba(58, 71, 80, 1.0)",
           "width": 1
          }
         },
         "name": "light",
         "orientation": "h",
         "type": "bar",
         "x": [
          16.149068322981368
         ],
         "y": [
          "stimulation type"
         ]
        },
        {
         "marker": {
          "color": "rgba(0, 255, 255, 0.6)",
          "line": {
           "color": "rgba(58, 71, 80, 1.0)",
           "width": 1
          }
         },
         "name": "mechanical deflection",
         "orientation": "h",
         "type": "bar",
         "x": [
          6.211180124223603
         ],
         "y": [
          "stimulation type"
         ]
        },
        {
         "marker": {
          "color": "rgba(204, 102, 0, 0.8)",
          "line": {
           "color": "rgba(58, 71, 80, 1.0)",
           "width": 1
          }
         },
         "name": "isoflurane",
         "orientation": "h",
         "type": "bar",
         "x": [
          31.05590062111801
         ],
         "y": [
          "anesthesia"
         ]
        },
        {
         "marker": {
          "color": "rgba(204, 102, 0, 0.8)",
          "line": {
           "color": "rgba(58, 71, 80, 1.0)",
           "width": 1
          }
         },
         "name": "isoflurane / medetomidine",
         "orientation": "h",
         "type": "bar",
         "x": [
          57.14285714285714
         ],
         "y": [
          "anesthesia"
         ]
        },
        {
         "marker": {
          "color": "rgba(204, 102, 0, 0.8)",
          "line": {
           "color": "rgba(58, 71, 80, 1.0)",
           "width": 1
          }
         },
         "name": "isoflurane / alpha-chloralose",
         "orientation": "h",
         "type": "bar",
         "x": [
          6.211180124223603
         ],
         "y": [
          "anesthesia"
         ]
        },
        {
         "marker": {
          "color": "rgba(204, 102, 0, 0.8)",
          "line": {
           "color": "rgba(58, 71, 80, 1.0)",
           "width": 1
          }
         },
         "name": "ketamine / xylazine",
         "orientation": "h",
         "type": "bar",
         "x": [
          5.590062111801243
         ],
         "y": [
          "anesthesia"
         ]
        },
        {
         "marker": {
          "color": "rgba(204, 0, 0, 0.8)",
          "line": {
           "color": "rgba(58, 71, 80, 1.0)",
           "width": 1
          }
         },
         "name": "Wistar",
         "orientation": "h",
         "type": "bar",
         "x": [
          30.434782608695656
         ],
         "y": [
          "strain"
         ]
        },
        {
         "marker": {
          "color": "rgba(204, 0, 0, 0.8)",
          "line": {
           "color": "rgba(58, 71, 80, 1.0)",
           "width": 1
          }
         },
         "name": "Sprague Dawley",
         "orientation": "h",
         "type": "bar",
         "x": [
          50.931677018633536
         ],
         "y": [
          "strain"
         ]
        },
        {
         "marker": {
          "color": "rgba(204, 0, 0, 0.8)",
          "line": {
           "color": "rgba(58, 71, 80, 1.0)",
           "width": 1
          }
         },
         "name": "Fischer 344",
         "orientation": "h",
         "type": "bar",
         "x": [
          18.633540372670808
         ],
         "y": [
          "strain"
         ]
        },
        {
         "marker": {
          "color": "rgba(153, 0, 76, 0.8)",
          "line": {
           "color": "rgba(58, 71, 80, 1.0)",
           "width": 1
          }
         },
         "name": "male",
         "orientation": "h",
         "type": "bar",
         "x": [
          59.62732919254658
         ],
         "y": [
          "sex"
         ]
        },
        {
         "marker": {
          "color": "rgba(204, 0, 102, 0.8)",
          "line": {
           "color": "rgba(58, 71, 80, 1.0)",
           "width": 1
          }
         },
         "name": "female",
         "orientation": "h",
         "type": "bar",
         "x": [
          40.37267080745342
         ],
         "y": [
          "sex"
         ]
        }
       ],
       "layout": {
        "annotations": [
         {
          "font": {
           "color": "rgb(0, 0, 0)",
           "family": "Arial",
           "size": 14
          },
          "showarrow": false,
          "text": "4.7",
          "x": 6.211180124223603,
          "xref": "x",
          "y": "MRI field strength",
          "yref": "y"
         },
         {
          "font": {
           "color": "rgb(0, 0, 0)",
           "family": "Arial",
           "size": 14
          },
          "showarrow": false,
          "text": "9.4",
          "x": 39.130434782608695,
          "xref": "x",
          "y": "MRI field strength",
          "yref": "y"
         },
         {
          "font": {
           "color": "rgb(0, 0, 0)",
           "family": "Arial",
           "size": 14
          },
          "showarrow": false,
          "text": "7.0",
          "x": 71.73913043478261,
          "xref": "x",
          "y": "MRI field strength",
          "yref": "y"
         },
         {
          "font": {
           "color": "rgb(0, 0, 0)",
           "family": "Arial",
           "size": 14
          },
          "showarrow": false,
          "text": "14.1",
          "x": 80.74534161490683,
          "xref": "x",
          "y": "MRI field strength",
          "yref": "y"
         },
         {
          "font": {
           "color": "rgb(0, 0, 0)",
           "family": "Arial",
           "size": 14
          },
          "showarrow": false,
          "text": "17.2",
          "x": 91.92546583850933,
          "xref": "x",
          "y": "MRI field strength",
          "yref": "y"
         },
         {
          "font": {
           "color": "rgb(0, 0, 0)",
           "family": "Arial",
           "size": 14
          },
          "showarrow": false,
          "text": "forepaw",
          "x": 27.018633540372672,
          "xref": "x",
          "y": "stimulation location",
          "yref": "y"
         },
         {
          "font": {
           "color": "rgb(0, 0, 0)",
           "family": "Arial",
           "size": 14
          },
          "showarrow": false,
          "text": "hindpaw",
          "x": 62.732919254658384,
          "xref": "x",
          "y": "stimulation location",
          "yref": "y"
         },
         {
          "font": {
           "color": "rgb(0, 0, 0)",
           "family": "Arial",
           "size": 14
          },
          "showarrow": false,
          "text": "S1FL",
          "x": 74.53416149068323,
          "xref": "x",
          "y": "stimulation location",
          "yref": "y"
         },
         {
          "font": {
           "color": "rgb(0, 0, 0)",
           "family": "Arial",
           "size": 14
          },
          "showarrow": false,
          "text": "whiskers C-Row",
          "x": 80.74534161490683,
          "xref": "x",
          "y": "stimulation location",
          "yref": "y"
         },
         {
          "font": {
           "color": "rgb(0, 0, 0)",
           "family": "Arial",
           "size": 14
          },
          "showarrow": false,
          "text": "eye",
          "x": 91.92546583850933,
          "xref": "x",
          "y": "stimulation location",
          "yref": "y"
         },
         {
          "font": {
           "color": "rgb(0, 0, 0)",
           "family": "Arial",
           "size": 14
          },
          "showarrow": false,
          "text": "electric",
          "x": 26.70807453416149,
          "xref": "x",
          "y": "stimulation type",
          "yref": "y"
         },
         {
          "font": {
           "color": "rgb(0, 0, 0)",
           "family": "Arial",
           "size": 14
          },
          "showarrow": false,
          "text": "optogenetic",
          "x": 56.52173913043478,
          "xref": "x",
          "y": "stimulation type",
          "yref": "y"
         },
         {
          "font": {
           "color": "rgb(0, 0, 0)",
           "family": "Arial",
           "size": 14
          },
          "showarrow": false,
          "text": "thermal",
          "x": 65.527950310559,
          "xref": "x",
          "y": "stimulation type",
          "yref": "y"
         },
         {
          "font": {
           "color": "rgb(0, 0, 0)",
           "family": "Arial",
           "size": 14
          },
          "showarrow": false,
          "text": "light",
          "x": 79.50310559006212,
          "xref": "x",
          "y": "stimulation type",
          "yref": "y"
         },
         {
          "font": {
           "color": "rgb(0, 0, 0)",
           "family": "Arial",
           "size": 14
          },
          "showarrow": false,
          "text": "mechanical deflection",
          "x": 90.6832298136646,
          "xref": "x",
          "y": "stimulation type",
          "yref": "y"
         },
         {
          "font": {
           "color": "rgb(0, 0, 0)",
           "family": "Arial",
           "size": 14
          },
          "showarrow": false,
          "text": "isoflurane",
          "x": 15.527950310559005,
          "xref": "x",
          "y": "anesthesia",
          "yref": "y"
         },
         {
          "font": {
           "color": "rgb(0, 0, 0)",
           "family": "Arial",
           "size": 14
          },
          "showarrow": false,
          "text": "isoflurane / medetomidine",
          "x": 59.62732919254658,
          "xref": "x",
          "y": "anesthesia",
          "yref": "y"
         },
         {
          "font": {
           "color": "rgb(0, 0, 0)",
           "family": "Arial",
           "size": 14
          },
          "showarrow": false,
          "text": "isoflurane / alpha-chloralose",
          "x": 91.30434782608695,
          "xref": "x",
          "y": "anesthesia",
          "yref": "y"
         },
         {
          "font": {
           "color": "rgb(0, 0, 0)",
           "family": "Arial",
           "size": 14
          },
          "showarrow": false,
          "text": "ketamine / xylazine",
          "x": 97.20496894409938,
          "xref": "x",
          "y": "anesthesia",
          "yref": "y"
         },
         {
          "font": {
           "color": "rgb(0, 0, 0)",
           "family": "Arial",
           "size": 14
          },
          "showarrow": false,
          "text": "Wistar",
          "x": 15.217391304347828,
          "xref": "x",
          "y": "strain",
          "yref": "y"
         },
         {
          "font": {
           "color": "rgb(0, 0, 0)",
           "family": "Arial",
           "size": 14
          },
          "showarrow": false,
          "text": "Sprague Dawley",
          "x": 55.900621118012424,
          "xref": "x",
          "y": "strain",
          "yref": "y"
         },
         {
          "font": {
           "color": "rgb(0, 0, 0)",
           "family": "Arial",
           "size": 14
          },
          "showarrow": false,
          "text": "Fischer 344",
          "x": 90.6832298136646,
          "xref": "x",
          "y": "strain",
          "yref": "y"
         },
         {
          "font": {
           "color": "rgb(0, 0, 0)",
           "family": "Arial",
           "size": 14
          },
          "showarrow": false,
          "text": "male",
          "x": 29.81366459627329,
          "xref": "x",
          "y": "sex",
          "yref": "y"
         },
         {
          "font": {
           "color": "rgb(0, 0, 0)",
           "family": "Arial",
           "size": 14
          },
          "showarrow": false,
          "text": "female",
          "x": 79.8136645962733,
          "xref": "x",
          "y": "sex",
          "yref": "y"
         }
        ],
        "barmode": "stack",
        "template": {
         "data": {
          "bar": [
           {
            "error_x": {
             "color": "#2a3f5f"
            },
            "error_y": {
             "color": "#2a3f5f"
            },
            "marker": {
             "line": {
              "color": "#E5ECF6",
              "width": 0.5
             },
             "pattern": {
              "fillmode": "overlay",
              "size": 10,
              "solidity": 0.2
             }
            },
            "type": "bar"
           }
          ],
          "barpolar": [
           {
            "marker": {
             "line": {
              "color": "#E5ECF6",
              "width": 0.5
             },
             "pattern": {
              "fillmode": "overlay",
              "size": 10,
              "solidity": 0.2
             }
            },
            "type": "barpolar"
           }
          ],
          "carpet": [
           {
            "aaxis": {
             "endlinecolor": "#2a3f5f",
             "gridcolor": "white",
             "linecolor": "white",
             "minorgridcolor": "white",
             "startlinecolor": "#2a3f5f"
            },
            "baxis": {
             "endlinecolor": "#2a3f5f",
             "gridcolor": "white",
             "linecolor": "white",
             "minorgridcolor": "white",
             "startlinecolor": "#2a3f5f"
            },
            "type": "carpet"
           }
          ],
          "choropleth": [
           {
            "colorbar": {
             "outlinewidth": 0,
             "ticks": ""
            },
            "type": "choropleth"
           }
          ],
          "contour": [
           {
            "colorbar": {
             "outlinewidth": 0,
             "ticks": ""
            },
            "colorscale": [
             [
              0,
              "#0d0887"
             ],
             [
              0.1111111111111111,
              "#46039f"
             ],
             [
              0.2222222222222222,
              "#7201a8"
             ],
             [
              0.3333333333333333,
              "#9c179e"
             ],
             [
              0.4444444444444444,
              "#bd3786"
             ],
             [
              0.5555555555555556,
              "#d8576b"
             ],
             [
              0.6666666666666666,
              "#ed7953"
             ],
             [
              0.7777777777777778,
              "#fb9f3a"
             ],
             [
              0.8888888888888888,
              "#fdca26"
             ],
             [
              1,
              "#f0f921"
             ]
            ],
            "type": "contour"
           }
          ],
          "contourcarpet": [
           {
            "colorbar": {
             "outlinewidth": 0,
             "ticks": ""
            },
            "type": "contourcarpet"
           }
          ],
          "heatmap": [
           {
            "colorbar": {
             "outlinewidth": 0,
             "ticks": ""
            },
            "colorscale": [
             [
              0,
              "#0d0887"
             ],
             [
              0.1111111111111111,
              "#46039f"
             ],
             [
              0.2222222222222222,
              "#7201a8"
             ],
             [
              0.3333333333333333,
              "#9c179e"
             ],
             [
              0.4444444444444444,
              "#bd3786"
             ],
             [
              0.5555555555555556,
              "#d8576b"
             ],
             [
              0.6666666666666666,
              "#ed7953"
             ],
             [
              0.7777777777777778,
              "#fb9f3a"
             ],
             [
              0.8888888888888888,
              "#fdca26"
             ],
             [
              1,
              "#f0f921"
             ]
            ],
            "type": "heatmap"
           }
          ],
          "heatmapgl": [
           {
            "colorbar": {
             "outlinewidth": 0,
             "ticks": ""
            },
            "colorscale": [
             [
              0,
              "#0d0887"
             ],
             [
              0.1111111111111111,
              "#46039f"
             ],
             [
              0.2222222222222222,
              "#7201a8"
             ],
             [
              0.3333333333333333,
              "#9c179e"
             ],
             [
              0.4444444444444444,
              "#bd3786"
             ],
             [
              0.5555555555555556,
              "#d8576b"
             ],
             [
              0.6666666666666666,
              "#ed7953"
             ],
             [
              0.7777777777777778,
              "#fb9f3a"
             ],
             [
              0.8888888888888888,
              "#fdca26"
             ],
             [
              1,
              "#f0f921"
             ]
            ],
            "type": "heatmapgl"
           }
          ],
          "histogram": [
           {
            "marker": {
             "pattern": {
              "fillmode": "overlay",
              "size": 10,
              "solidity": 0.2
             }
            },
            "type": "histogram"
           }
          ],
          "histogram2d": [
           {
            "colorbar": {
             "outlinewidth": 0,
             "ticks": ""
            },
            "colorscale": [
             [
              0,
              "#0d0887"
             ],
             [
              0.1111111111111111,
              "#46039f"
             ],
             [
              0.2222222222222222,
              "#7201a8"
             ],
             [
              0.3333333333333333,
              "#9c179e"
             ],
             [
              0.4444444444444444,
              "#bd3786"
             ],
             [
              0.5555555555555556,
              "#d8576b"
             ],
             [
              0.6666666666666666,
              "#ed7953"
             ],
             [
              0.7777777777777778,
              "#fb9f3a"
             ],
             [
              0.8888888888888888,
              "#fdca26"
             ],
             [
              1,
              "#f0f921"
             ]
            ],
            "type": "histogram2d"
           }
          ],
          "histogram2dcontour": [
           {
            "colorbar": {
             "outlinewidth": 0,
             "ticks": ""
            },
            "colorscale": [
             [
              0,
              "#0d0887"
             ],
             [
              0.1111111111111111,
              "#46039f"
             ],
             [
              0.2222222222222222,
              "#7201a8"
             ],
             [
              0.3333333333333333,
              "#9c179e"
             ],
             [
              0.4444444444444444,
              "#bd3786"
             ],
             [
              0.5555555555555556,
              "#d8576b"
             ],
             [
              0.6666666666666666,
              "#ed7953"
             ],
             [
              0.7777777777777778,
              "#fb9f3a"
             ],
             [
              0.8888888888888888,
              "#fdca26"
             ],
             [
              1,
              "#f0f921"
             ]
            ],
            "type": "histogram2dcontour"
           }
          ],
          "mesh3d": [
           {
            "colorbar": {
             "outlinewidth": 0,
             "ticks": ""
            },
            "type": "mesh3d"
           }
          ],
          "parcoords": [
           {
            "line": {
             "colorbar": {
              "outlinewidth": 0,
              "ticks": ""
             }
            },
            "type": "parcoords"
           }
          ],
          "pie": [
           {
            "automargin": true,
            "type": "pie"
           }
          ],
          "scatter": [
           {
            "fillpattern": {
             "fillmode": "overlay",
             "size": 10,
             "solidity": 0.2
            },
            "type": "scatter"
           }
          ],
          "scatter3d": [
           {
            "line": {
             "colorbar": {
              "outlinewidth": 0,
              "ticks": ""
             }
            },
            "marker": {
             "colorbar": {
              "outlinewidth": 0,
              "ticks": ""
             }
            },
            "type": "scatter3d"
           }
          ],
          "scattercarpet": [
           {
            "marker": {
             "colorbar": {
              "outlinewidth": 0,
              "ticks": ""
             }
            },
            "type": "scattercarpet"
           }
          ],
          "scattergeo": [
           {
            "marker": {
             "colorbar": {
              "outlinewidth": 0,
              "ticks": ""
             }
            },
            "type": "scattergeo"
           }
          ],
          "scattergl": [
           {
            "marker": {
             "colorbar": {
              "outlinewidth": 0,
              "ticks": ""
             }
            },
            "type": "scattergl"
           }
          ],
          "scattermapbox": [
           {
            "marker": {
             "colorbar": {
              "outlinewidth": 0,
              "ticks": ""
             }
            },
            "type": "scattermapbox"
           }
          ],
          "scatterpolar": [
           {
            "marker": {
             "colorbar": {
              "outlinewidth": 0,
              "ticks": ""
             }
            },
            "type": "scatterpolar"
           }
          ],
          "scatterpolargl": [
           {
            "marker": {
             "colorbar": {
              "outlinewidth": 0,
              "ticks": ""
             }
            },
            "type": "scatterpolargl"
           }
          ],
          "scatterternary": [
           {
            "marker": {
             "colorbar": {
              "outlinewidth": 0,
              "ticks": ""
             }
            },
            "type": "scatterternary"
           }
          ],
          "surface": [
           {
            "colorbar": {
             "outlinewidth": 0,
             "ticks": ""
            },
            "colorscale": [
             [
              0,
              "#0d0887"
             ],
             [
              0.1111111111111111,
              "#46039f"
             ],
             [
              0.2222222222222222,
              "#7201a8"
             ],
             [
              0.3333333333333333,
              "#9c179e"
             ],
             [
              0.4444444444444444,
              "#bd3786"
             ],
             [
              0.5555555555555556,
              "#d8576b"
             ],
             [
              0.6666666666666666,
              "#ed7953"
             ],
             [
              0.7777777777777778,
              "#fb9f3a"
             ],
             [
              0.8888888888888888,
              "#fdca26"
             ],
             [
              1,
              "#f0f921"
             ]
            ],
            "type": "surface"
           }
          ],
          "table": [
           {
            "cells": {
             "fill": {
              "color": "#EBF0F8"
             },
             "line": {
              "color": "white"
             }
            },
            "header": {
             "fill": {
              "color": "#C8D4E3"
             },
             "line": {
              "color": "white"
             }
            },
            "type": "table"
           }
          ]
         },
         "layout": {
          "annotationdefaults": {
           "arrowcolor": "#2a3f5f",
           "arrowhead": 0,
           "arrowwidth": 1
          },
          "autotypenumbers": "strict",
          "coloraxis": {
           "colorbar": {
            "outlinewidth": 0,
            "ticks": ""
           }
          },
          "colorscale": {
           "diverging": [
            [
             0,
             "#8e0152"
            ],
            [
             0.1,
             "#c51b7d"
            ],
            [
             0.2,
             "#de77ae"
            ],
            [
             0.3,
             "#f1b6da"
            ],
            [
             0.4,
             "#fde0ef"
            ],
            [
             0.5,
             "#f7f7f7"
            ],
            [
             0.6,
             "#e6f5d0"
            ],
            [
             0.7,
             "#b8e186"
            ],
            [
             0.8,
             "#7fbc41"
            ],
            [
             0.9,
             "#4d9221"
            ],
            [
             1,
             "#276419"
            ]
           ],
           "sequential": [
            [
             0,
             "#0d0887"
            ],
            [
             0.1111111111111111,
             "#46039f"
            ],
            [
             0.2222222222222222,
             "#7201a8"
            ],
            [
             0.3333333333333333,
             "#9c179e"
            ],
            [
             0.4444444444444444,
             "#bd3786"
            ],
            [
             0.5555555555555556,
             "#d8576b"
            ],
            [
             0.6666666666666666,
             "#ed7953"
            ],
            [
             0.7777777777777778,
             "#fb9f3a"
            ],
            [
             0.8888888888888888,
             "#fdca26"
            ],
            [
             1,
             "#f0f921"
            ]
           ],
           "sequentialminus": [
            [
             0,
             "#0d0887"
            ],
            [
             0.1111111111111111,
             "#46039f"
            ],
            [
             0.2222222222222222,
             "#7201a8"
            ],
            [
             0.3333333333333333,
             "#9c179e"
            ],
            [
             0.4444444444444444,
             "#bd3786"
            ],
            [
             0.5555555555555556,
             "#d8576b"
            ],
            [
             0.6666666666666666,
             "#ed7953"
            ],
            [
             0.7777777777777778,
             "#fb9f3a"
            ],
            [
             0.8888888888888888,
             "#fdca26"
            ],
            [
             1,
             "#f0f921"
            ]
           ]
          },
          "colorway": [
           "#636efa",
           "#EF553B",
           "#00cc96",
           "#ab63fa",
           "#FFA15A",
           "#19d3f3",
           "#FF6692",
           "#B6E880",
           "#FF97FF",
           "#FECB52"
          ],
          "font": {
           "color": "#2a3f5f"
          },
          "geo": {
           "bgcolor": "white",
           "lakecolor": "white",
           "landcolor": "#E5ECF6",
           "showlakes": true,
           "showland": true,
           "subunitcolor": "white"
          },
          "hoverlabel": {
           "align": "left"
          },
          "hovermode": "closest",
          "mapbox": {
           "style": "light"
          },
          "paper_bgcolor": "white",
          "plot_bgcolor": "#E5ECF6",
          "polar": {
           "angularaxis": {
            "gridcolor": "white",
            "linecolor": "white",
            "ticks": ""
           },
           "bgcolor": "#E5ECF6",
           "radialaxis": {
            "gridcolor": "white",
            "linecolor": "white",
            "ticks": ""
           }
          },
          "scene": {
           "xaxis": {
            "backgroundcolor": "#E5ECF6",
            "gridcolor": "white",
            "gridwidth": 2,
            "linecolor": "white",
            "showbackground": true,
            "ticks": "",
            "zerolinecolor": "white"
           },
           "yaxis": {
            "backgroundcolor": "#E5ECF6",
            "gridcolor": "white",
            "gridwidth": 2,
            "linecolor": "white",
            "showbackground": true,
            "ticks": "",
            "zerolinecolor": "white"
           },
           "zaxis": {
            "backgroundcolor": "#E5ECF6",
            "gridcolor": "white",
            "gridwidth": 2,
            "linecolor": "white",
            "showbackground": true,
            "ticks": "",
            "zerolinecolor": "white"
           }
          },
          "shapedefaults": {
           "line": {
            "color": "#2a3f5f"
           }
          },
          "ternary": {
           "aaxis": {
            "gridcolor": "white",
            "linecolor": "white",
            "ticks": ""
           },
           "baxis": {
            "gridcolor": "white",
            "linecolor": "white",
            "ticks": ""
           },
           "bgcolor": "#E5ECF6",
           "caxis": {
            "gridcolor": "white",
            "linecolor": "white",
            "ticks": ""
           }
          },
          "title": {
           "x": 0.05
          },
          "xaxis": {
           "automargin": true,
           "gridcolor": "white",
           "linecolor": "white",
           "ticks": "",
           "title": {
            "standoff": 15
           },
           "zerolinecolor": "white",
           "zerolinewidth": 2
          },
          "yaxis": {
           "automargin": true,
           "gridcolor": "white",
           "linecolor": "white",
           "ticks": "",
           "title": {
            "standoff": 15
           },
           "zerolinecolor": "white",
           "zerolinewidth": 2
          }
         }
        }
       }
      },
      "text/html": [
       "<div>                            <div id=\"e777ac31-4d7a-4bb1-b8c9-647acfe7cf0d\" class=\"plotly-graph-div\" style=\"height:525px; width:100%;\"></div>            <script type=\"text/javascript\">                require([\"plotly\"], function(Plotly) {                    window.PLOTLYENV=window.PLOTLYENV || {};                                    if (document.getElementById(\"e777ac31-4d7a-4bb1-b8c9-647acfe7cf0d\")) {                    Plotly.newPlot(                        \"e777ac31-4d7a-4bb1-b8c9-647acfe7cf0d\",                        [{\"marker\":{\"color\":\"rgba(255, 153, 153, 0.8)\",\"line\":{\"color\":\"rgba(58, 71, 80, 1.0)\",\"width\":1}},\"name\":\"4.7\",\"orientation\":\"h\",\"x\":[12.422360248447205],\"y\":[\"MRI field strength\"],\"type\":\"bar\"},{\"marker\":{\"color\":\"rgba(255, 153, 153, 0.8)\",\"line\":{\"color\":\"rgba(58, 71, 80, 1.0)\",\"width\":1}},\"name\":\"9.4\",\"orientation\":\"h\",\"x\":[53.41614906832298],\"y\":[\"MRI field strength\"],\"type\":\"bar\"},{\"marker\":{\"color\":\"rgba(255, 153, 153, 0.8)\",\"line\":{\"color\":\"rgba(58, 71, 80, 1.0)\",\"width\":1}},\"name\":\"7.0\",\"orientation\":\"h\",\"x\":[11.801242236024844],\"y\":[\"MRI field strength\"],\"type\":\"bar\"},{\"marker\":{\"color\":\"rgba(255, 153, 153, 0.8)\",\"line\":{\"color\":\"rgba(58, 71, 80, 1.0)\",\"width\":1}},\"name\":\"14.1\",\"orientation\":\"h\",\"x\":[6.211180124223603],\"y\":[\"MRI field strength\"],\"type\":\"bar\"},{\"marker\":{\"color\":\"rgba(255, 153, 153, 0.8)\",\"line\":{\"color\":\"rgba(58, 71, 80, 1.0)\",\"width\":1}},\"name\":\"17.2\",\"orientation\":\"h\",\"x\":[16.149068322981368],\"y\":[\"MRI field strength\"],\"type\":\"bar\"},{\"marker\":{\"color\":\"rgba(127, 0, 255, 0.8)\",\"line\":{\"color\":\"rgba(58, 71, 80, 1.0)\",\"width\":1}},\"name\":\"forepaw\",\"orientation\":\"h\",\"x\":[54.037267080745345],\"y\":[\"stimulation location\"],\"type\":\"bar\"},{\"marker\":{\"color\":\"rgba(127, 0, 255, 0.8)\",\"line\":{\"color\":\"rgba(58, 71, 80, 1.0)\",\"width\":1}},\"name\":\"hindpaw\",\"orientation\":\"h\",\"x\":[17.391304347826086],\"y\":[\"stimulation location\"],\"type\":\"bar\"},{\"marker\":{\"color\":\"rgba(127, 0, 255, 0.8)\",\"line\":{\"color\":\"rgba(58, 71, 80, 1.0)\",\"width\":1}},\"name\":\"S1FL\",\"orientation\":\"h\",\"x\":[6.211180124223603],\"y\":[\"stimulation location\"],\"type\":\"bar\"},{\"marker\":{\"color\":\"rgba(127, 0, 255, 0.8)\",\"line\":{\"color\":\"rgba(58, 71, 80, 1.0)\",\"width\":1}},\"name\":\"whiskers C-Row\",\"orientation\":\"h\",\"x\":[6.211180124223603],\"y\":[\"stimulation location\"],\"type\":\"bar\"},{\"marker\":{\"color\":\"rgba(127, 0, 255, 0.8)\",\"line\":{\"color\":\"rgba(58, 71, 80, 1.0)\",\"width\":1}},\"name\":\"eye\",\"orientation\":\"h\",\"x\":[16.149068322981368],\"y\":[\"stimulation location\"],\"type\":\"bar\"},{\"marker\":{\"color\":\"rgba(0, 153, 153, 0.8)\",\"line\":{\"color\":\"rgba(58, 71, 80, 1.0)\",\"width\":1}},\"name\":\"electric\",\"orientation\":\"h\",\"x\":[53.41614906832298],\"y\":[\"stimulation type\"],\"type\":\"bar\"},{\"marker\":{\"color\":\"rgba(0, 204, 204, 0.8)\",\"line\":{\"color\":\"rgba(58, 71, 80, 1.0)\",\"width\":1}},\"name\":\"optogenetic\",\"orientation\":\"h\",\"x\":[6.211180124223603],\"y\":[\"stimulation type\"],\"type\":\"bar\"},{\"marker\":{\"color\":\"rgba(0, 255, 255, 0.6)\",\"line\":{\"color\":\"rgba(58, 71, 80, 1.0)\",\"width\":1}},\"name\":\"thermal\",\"orientation\":\"h\",\"x\":[11.801242236024844],\"y\":[\"stimulation type\"],\"type\":\"bar\"},{\"marker\":{\"color\":\"rgba(0, 255, 255, 0.6)\",\"line\":{\"color\":\"rgba(58, 71, 80, 1.0)\",\"width\":1}},\"name\":\"light\",\"orientation\":\"h\",\"x\":[16.149068322981368],\"y\":[\"stimulation type\"],\"type\":\"bar\"},{\"marker\":{\"color\":\"rgba(0, 255, 255, 0.6)\",\"line\":{\"color\":\"rgba(58, 71, 80, 1.0)\",\"width\":1}},\"name\":\"mechanical deflection\",\"orientation\":\"h\",\"x\":[6.211180124223603],\"y\":[\"stimulation type\"],\"type\":\"bar\"},{\"marker\":{\"color\":\"rgba(204, 102, 0, 0.8)\",\"line\":{\"color\":\"rgba(58, 71, 80, 1.0)\",\"width\":1}},\"name\":\"isoflurane\",\"orientation\":\"h\",\"x\":[31.05590062111801],\"y\":[\"anesthesia\"],\"type\":\"bar\"},{\"marker\":{\"color\":\"rgba(204, 102, 0, 0.8)\",\"line\":{\"color\":\"rgba(58, 71, 80, 1.0)\",\"width\":1}},\"name\":\"isoflurane / medetomidine\",\"orientation\":\"h\",\"x\":[57.14285714285714],\"y\":[\"anesthesia\"],\"type\":\"bar\"},{\"marker\":{\"color\":\"rgba(204, 102, 0, 0.8)\",\"line\":{\"color\":\"rgba(58, 71, 80, 1.0)\",\"width\":1}},\"name\":\"isoflurane / alpha-chloralose\",\"orientation\":\"h\",\"x\":[6.211180124223603],\"y\":[\"anesthesia\"],\"type\":\"bar\"},{\"marker\":{\"color\":\"rgba(204, 102, 0, 0.8)\",\"line\":{\"color\":\"rgba(58, 71, 80, 1.0)\",\"width\":1}},\"name\":\"ketamine / xylazine\",\"orientation\":\"h\",\"x\":[5.590062111801243],\"y\":[\"anesthesia\"],\"type\":\"bar\"},{\"marker\":{\"color\":\"rgba(204, 0, 0, 0.8)\",\"line\":{\"color\":\"rgba(58, 71, 80, 1.0)\",\"width\":1}},\"name\":\"Wistar\",\"orientation\":\"h\",\"x\":[30.434782608695656],\"y\":[\"strain\"],\"type\":\"bar\"},{\"marker\":{\"color\":\"rgba(204, 0, 0, 0.8)\",\"line\":{\"color\":\"rgba(58, 71, 80, 1.0)\",\"width\":1}},\"name\":\"Sprague Dawley\",\"orientation\":\"h\",\"x\":[50.931677018633536],\"y\":[\"strain\"],\"type\":\"bar\"},{\"marker\":{\"color\":\"rgba(204, 0, 0, 0.8)\",\"line\":{\"color\":\"rgba(58, 71, 80, 1.0)\",\"width\":1}},\"name\":\"Fischer 344\",\"orientation\":\"h\",\"x\":[18.633540372670808],\"y\":[\"strain\"],\"type\":\"bar\"},{\"marker\":{\"color\":\"rgba(153, 0, 76, 0.8)\",\"line\":{\"color\":\"rgba(58, 71, 80, 1.0)\",\"width\":1}},\"name\":\"male\",\"orientation\":\"h\",\"x\":[59.62732919254658],\"y\":[\"sex\"],\"type\":\"bar\"},{\"marker\":{\"color\":\"rgba(204, 0, 102, 0.8)\",\"line\":{\"color\":\"rgba(58, 71, 80, 1.0)\",\"width\":1}},\"name\":\"female\",\"orientation\":\"h\",\"x\":[40.37267080745342],\"y\":[\"sex\"],\"type\":\"bar\"}],                        {\"template\":{\"data\":{\"histogram2dcontour\":[{\"type\":\"histogram2dcontour\",\"colorbar\":{\"outlinewidth\":0,\"ticks\":\"\"},\"colorscale\":[[0.0,\"#0d0887\"],[0.1111111111111111,\"#46039f\"],[0.2222222222222222,\"#7201a8\"],[0.3333333333333333,\"#9c179e\"],[0.4444444444444444,\"#bd3786\"],[0.5555555555555556,\"#d8576b\"],[0.6666666666666666,\"#ed7953\"],[0.7777777777777778,\"#fb9f3a\"],[0.8888888888888888,\"#fdca26\"],[1.0,\"#f0f921\"]]}],\"choropleth\":[{\"type\":\"choropleth\",\"colorbar\":{\"outlinewidth\":0,\"ticks\":\"\"}}],\"histogram2d\":[{\"type\":\"histogram2d\",\"colorbar\":{\"outlinewidth\":0,\"ticks\":\"\"},\"colorscale\":[[0.0,\"#0d0887\"],[0.1111111111111111,\"#46039f\"],[0.2222222222222222,\"#7201a8\"],[0.3333333333333333,\"#9c179e\"],[0.4444444444444444,\"#bd3786\"],[0.5555555555555556,\"#d8576b\"],[0.6666666666666666,\"#ed7953\"],[0.7777777777777778,\"#fb9f3a\"],[0.8888888888888888,\"#fdca26\"],[1.0,\"#f0f921\"]]}],\"heatmap\":[{\"type\":\"heatmap\",\"colorbar\":{\"outlinewidth\":0,\"ticks\":\"\"},\"colorscale\":[[0.0,\"#0d0887\"],[0.1111111111111111,\"#46039f\"],[0.2222222222222222,\"#7201a8\"],[0.3333333333333333,\"#9c179e\"],[0.4444444444444444,\"#bd3786\"],[0.5555555555555556,\"#d8576b\"],[0.6666666666666666,\"#ed7953\"],[0.7777777777777778,\"#fb9f3a\"],[0.8888888888888888,\"#fdca26\"],[1.0,\"#f0f921\"]]}],\"heatmapgl\":[{\"type\":\"heatmapgl\",\"colorbar\":{\"outlinewidth\":0,\"ticks\":\"\"},\"colorscale\":[[0.0,\"#0d0887\"],[0.1111111111111111,\"#46039f\"],[0.2222222222222222,\"#7201a8\"],[0.3333333333333333,\"#9c179e\"],[0.4444444444444444,\"#bd3786\"],[0.5555555555555556,\"#d8576b\"],[0.6666666666666666,\"#ed7953\"],[0.7777777777777778,\"#fb9f3a\"],[0.8888888888888888,\"#fdca26\"],[1.0,\"#f0f921\"]]}],\"contourcarpet\":[{\"type\":\"contourcarpet\",\"colorbar\":{\"outlinewidth\":0,\"ticks\":\"\"}}],\"contour\":[{\"type\":\"contour\",\"colorbar\":{\"outlinewidth\":0,\"ticks\":\"\"},\"colorscale\":[[0.0,\"#0d0887\"],[0.1111111111111111,\"#46039f\"],[0.2222222222222222,\"#7201a8\"],[0.3333333333333333,\"#9c179e\"],[0.4444444444444444,\"#bd3786\"],[0.5555555555555556,\"#d8576b\"],[0.6666666666666666,\"#ed7953\"],[0.7777777777777778,\"#fb9f3a\"],[0.8888888888888888,\"#fdca26\"],[1.0,\"#f0f921\"]]}],\"surface\":[{\"type\":\"surface\",\"colorbar\":{\"outlinewidth\":0,\"ticks\":\"\"},\"colorscale\":[[0.0,\"#0d0887\"],[0.1111111111111111,\"#46039f\"],[0.2222222222222222,\"#7201a8\"],[0.3333333333333333,\"#9c179e\"],[0.4444444444444444,\"#bd3786\"],[0.5555555555555556,\"#d8576b\"],[0.6666666666666666,\"#ed7953\"],[0.7777777777777778,\"#fb9f3a\"],[0.8888888888888888,\"#fdca26\"],[1.0,\"#f0f921\"]]}],\"mesh3d\":[{\"type\":\"mesh3d\",\"colorbar\":{\"outlinewidth\":0,\"ticks\":\"\"}}],\"scatter\":[{\"fillpattern\":{\"fillmode\":\"overlay\",\"size\":10,\"solidity\":0.2},\"type\":\"scatter\"}],\"parcoords\":[{\"type\":\"parcoords\",\"line\":{\"colorbar\":{\"outlinewidth\":0,\"ticks\":\"\"}}}],\"scatterpolargl\":[{\"type\":\"scatterpolargl\",\"marker\":{\"colorbar\":{\"outlinewidth\":0,\"ticks\":\"\"}}}],\"bar\":[{\"error_x\":{\"color\":\"#2a3f5f\"},\"error_y\":{\"color\":\"#2a3f5f\"},\"marker\":{\"line\":{\"color\":\"#E5ECF6\",\"width\":0.5},\"pattern\":{\"fillmode\":\"overlay\",\"size\":10,\"solidity\":0.2}},\"type\":\"bar\"}],\"scattergeo\":[{\"type\":\"scattergeo\",\"marker\":{\"colorbar\":{\"outlinewidth\":0,\"ticks\":\"\"}}}],\"scatterpolar\":[{\"type\":\"scatterpolar\",\"marker\":{\"colorbar\":{\"outlinewidth\":0,\"ticks\":\"\"}}}],\"histogram\":[{\"marker\":{\"pattern\":{\"fillmode\":\"overlay\",\"size\":10,\"solidity\":0.2}},\"type\":\"histogram\"}],\"scattergl\":[{\"type\":\"scattergl\",\"marker\":{\"colorbar\":{\"outlinewidth\":0,\"ticks\":\"\"}}}],\"scatter3d\":[{\"type\":\"scatter3d\",\"line\":{\"colorbar\":{\"outlinewidth\":0,\"ticks\":\"\"}},\"marker\":{\"colorbar\":{\"outlinewidth\":0,\"ticks\":\"\"}}}],\"scattermapbox\":[{\"type\":\"scattermapbox\",\"marker\":{\"colorbar\":{\"outlinewidth\":0,\"ticks\":\"\"}}}],\"scatterternary\":[{\"type\":\"scatterternary\",\"marker\":{\"colorbar\":{\"outlinewidth\":0,\"ticks\":\"\"}}}],\"scattercarpet\":[{\"type\":\"scattercarpet\",\"marker\":{\"colorbar\":{\"outlinewidth\":0,\"ticks\":\"\"}}}],\"carpet\":[{\"aaxis\":{\"endlinecolor\":\"#2a3f5f\",\"gridcolor\":\"white\",\"linecolor\":\"white\",\"minorgridcolor\":\"white\",\"startlinecolor\":\"#2a3f5f\"},\"baxis\":{\"endlinecolor\":\"#2a3f5f\",\"gridcolor\":\"white\",\"linecolor\":\"white\",\"minorgridcolor\":\"white\",\"startlinecolor\":\"#2a3f5f\"},\"type\":\"carpet\"}],\"table\":[{\"cells\":{\"fill\":{\"color\":\"#EBF0F8\"},\"line\":{\"color\":\"white\"}},\"header\":{\"fill\":{\"color\":\"#C8D4E3\"},\"line\":{\"color\":\"white\"}},\"type\":\"table\"}],\"barpolar\":[{\"marker\":{\"line\":{\"color\":\"#E5ECF6\",\"width\":0.5},\"pattern\":{\"fillmode\":\"overlay\",\"size\":10,\"solidity\":0.2}},\"type\":\"barpolar\"}],\"pie\":[{\"automargin\":true,\"type\":\"pie\"}]},\"layout\":{\"autotypenumbers\":\"strict\",\"colorway\":[\"#636efa\",\"#EF553B\",\"#00cc96\",\"#ab63fa\",\"#FFA15A\",\"#19d3f3\",\"#FF6692\",\"#B6E880\",\"#FF97FF\",\"#FECB52\"],\"font\":{\"color\":\"#2a3f5f\"},\"hovermode\":\"closest\",\"hoverlabel\":{\"align\":\"left\"},\"paper_bgcolor\":\"white\",\"plot_bgcolor\":\"#E5ECF6\",\"polar\":{\"bgcolor\":\"#E5ECF6\",\"angularaxis\":{\"gridcolor\":\"white\",\"linecolor\":\"white\",\"ticks\":\"\"},\"radialaxis\":{\"gridcolor\":\"white\",\"linecolor\":\"white\",\"ticks\":\"\"}},\"ternary\":{\"bgcolor\":\"#E5ECF6\",\"aaxis\":{\"gridcolor\":\"white\",\"linecolor\":\"white\",\"ticks\":\"\"},\"baxis\":{\"gridcolor\":\"white\",\"linecolor\":\"white\",\"ticks\":\"\"},\"caxis\":{\"gridcolor\":\"white\",\"linecolor\":\"white\",\"ticks\":\"\"}},\"coloraxis\":{\"colorbar\":{\"outlinewidth\":0,\"ticks\":\"\"}},\"colorscale\":{\"sequential\":[[0.0,\"#0d0887\"],[0.1111111111111111,\"#46039f\"],[0.2222222222222222,\"#7201a8\"],[0.3333333333333333,\"#9c179e\"],[0.4444444444444444,\"#bd3786\"],[0.5555555555555556,\"#d8576b\"],[0.6666666666666666,\"#ed7953\"],[0.7777777777777778,\"#fb9f3a\"],[0.8888888888888888,\"#fdca26\"],[1.0,\"#f0f921\"]],\"sequentialminus\":[[0.0,\"#0d0887\"],[0.1111111111111111,\"#46039f\"],[0.2222222222222222,\"#7201a8\"],[0.3333333333333333,\"#9c179e\"],[0.4444444444444444,\"#bd3786\"],[0.5555555555555556,\"#d8576b\"],[0.6666666666666666,\"#ed7953\"],[0.7777777777777778,\"#fb9f3a\"],[0.8888888888888888,\"#fdca26\"],[1.0,\"#f0f921\"]],\"diverging\":[[0,\"#8e0152\"],[0.1,\"#c51b7d\"],[0.2,\"#de77ae\"],[0.3,\"#f1b6da\"],[0.4,\"#fde0ef\"],[0.5,\"#f7f7f7\"],[0.6,\"#e6f5d0\"],[0.7,\"#b8e186\"],[0.8,\"#7fbc41\"],[0.9,\"#4d9221\"],[1,\"#276419\"]]},\"xaxis\":{\"gridcolor\":\"white\",\"linecolor\":\"white\",\"ticks\":\"\",\"title\":{\"standoff\":15},\"zerolinecolor\":\"white\",\"automargin\":true,\"zerolinewidth\":2},\"yaxis\":{\"gridcolor\":\"white\",\"linecolor\":\"white\",\"ticks\":\"\",\"title\":{\"standoff\":15},\"zerolinecolor\":\"white\",\"automargin\":true,\"zerolinewidth\":2},\"scene\":{\"xaxis\":{\"backgroundcolor\":\"#E5ECF6\",\"gridcolor\":\"white\",\"linecolor\":\"white\",\"showbackground\":true,\"ticks\":\"\",\"zerolinecolor\":\"white\",\"gridwidth\":2},\"yaxis\":{\"backgroundcolor\":\"#E5ECF6\",\"gridcolor\":\"white\",\"linecolor\":\"white\",\"showbackground\":true,\"ticks\":\"\",\"zerolinecolor\":\"white\",\"gridwidth\":2},\"zaxis\":{\"backgroundcolor\":\"#E5ECF6\",\"gridcolor\":\"white\",\"linecolor\":\"white\",\"showbackground\":true,\"ticks\":\"\",\"zerolinecolor\":\"white\",\"gridwidth\":2}},\"shapedefaults\":{\"line\":{\"color\":\"#2a3f5f\"}},\"annotationdefaults\":{\"arrowcolor\":\"#2a3f5f\",\"arrowhead\":0,\"arrowwidth\":1},\"geo\":{\"bgcolor\":\"white\",\"landcolor\":\"#E5ECF6\",\"subunitcolor\":\"white\",\"showland\":true,\"showlakes\":true,\"lakecolor\":\"white\"},\"title\":{\"x\":0.05},\"mapbox\":{\"style\":\"light\"}}},\"annotations\":[{\"font\":{\"color\":\"rgb(0, 0, 0)\",\"family\":\"Arial\",\"size\":14},\"showarrow\":false,\"text\":\"4.7\",\"x\":6.211180124223603,\"xref\":\"x\",\"y\":\"MRI field strength\",\"yref\":\"y\"},{\"font\":{\"color\":\"rgb(0, 0, 0)\",\"family\":\"Arial\",\"size\":14},\"showarrow\":false,\"text\":\"9.4\",\"x\":39.130434782608695,\"xref\":\"x\",\"y\":\"MRI field strength\",\"yref\":\"y\"},{\"font\":{\"color\":\"rgb(0, 0, 0)\",\"family\":\"Arial\",\"size\":14},\"showarrow\":false,\"text\":\"7.0\",\"x\":71.73913043478261,\"xref\":\"x\",\"y\":\"MRI field strength\",\"yref\":\"y\"},{\"font\":{\"color\":\"rgb(0, 0, 0)\",\"family\":\"Arial\",\"size\":14},\"showarrow\":false,\"text\":\"14.1\",\"x\":80.74534161490683,\"xref\":\"x\",\"y\":\"MRI field strength\",\"yref\":\"y\"},{\"font\":{\"color\":\"rgb(0, 0, 0)\",\"family\":\"Arial\",\"size\":14},\"showarrow\":false,\"text\":\"17.2\",\"x\":91.92546583850933,\"xref\":\"x\",\"y\":\"MRI field strength\",\"yref\":\"y\"},{\"font\":{\"color\":\"rgb(0, 0, 0)\",\"family\":\"Arial\",\"size\":14},\"showarrow\":false,\"text\":\"forepaw\",\"x\":27.018633540372672,\"xref\":\"x\",\"y\":\"stimulation location\",\"yref\":\"y\"},{\"font\":{\"color\":\"rgb(0, 0, 0)\",\"family\":\"Arial\",\"size\":14},\"showarrow\":false,\"text\":\"hindpaw\",\"x\":62.732919254658384,\"xref\":\"x\",\"y\":\"stimulation location\",\"yref\":\"y\"},{\"font\":{\"color\":\"rgb(0, 0, 0)\",\"family\":\"Arial\",\"size\":14},\"showarrow\":false,\"text\":\"S1FL\",\"x\":74.53416149068323,\"xref\":\"x\",\"y\":\"stimulation location\",\"yref\":\"y\"},{\"font\":{\"color\":\"rgb(0, 0, 0)\",\"family\":\"Arial\",\"size\":14},\"showarrow\":false,\"text\":\"whiskers C-Row\",\"x\":80.74534161490683,\"xref\":\"x\",\"y\":\"stimulation location\",\"yref\":\"y\"},{\"font\":{\"color\":\"rgb(0, 0, 0)\",\"family\":\"Arial\",\"size\":14},\"showarrow\":false,\"text\":\"eye\",\"x\":91.92546583850933,\"xref\":\"x\",\"y\":\"stimulation location\",\"yref\":\"y\"},{\"font\":{\"color\":\"rgb(0, 0, 0)\",\"family\":\"Arial\",\"size\":14},\"showarrow\":false,\"text\":\"electric\",\"x\":26.70807453416149,\"xref\":\"x\",\"y\":\"stimulation type\",\"yref\":\"y\"},{\"font\":{\"color\":\"rgb(0, 0, 0)\",\"family\":\"Arial\",\"size\":14},\"showarrow\":false,\"text\":\"optogenetic\",\"x\":56.52173913043478,\"xref\":\"x\",\"y\":\"stimulation type\",\"yref\":\"y\"},{\"font\":{\"color\":\"rgb(0, 0, 0)\",\"family\":\"Arial\",\"size\":14},\"showarrow\":false,\"text\":\"thermal\",\"x\":65.527950310559,\"xref\":\"x\",\"y\":\"stimulation type\",\"yref\":\"y\"},{\"font\":{\"color\":\"rgb(0, 0, 0)\",\"family\":\"Arial\",\"size\":14},\"showarrow\":false,\"text\":\"light\",\"x\":79.50310559006212,\"xref\":\"x\",\"y\":\"stimulation type\",\"yref\":\"y\"},{\"font\":{\"color\":\"rgb(0, 0, 0)\",\"family\":\"Arial\",\"size\":14},\"showarrow\":false,\"text\":\"mechanical deflection\",\"x\":90.6832298136646,\"xref\":\"x\",\"y\":\"stimulation type\",\"yref\":\"y\"},{\"font\":{\"color\":\"rgb(0, 0, 0)\",\"family\":\"Arial\",\"size\":14},\"showarrow\":false,\"text\":\"isoflurane\",\"x\":15.527950310559005,\"xref\":\"x\",\"y\":\"anesthesia\",\"yref\":\"y\"},{\"font\":{\"color\":\"rgb(0, 0, 0)\",\"family\":\"Arial\",\"size\":14},\"showarrow\":false,\"text\":\"isoflurane / medetomidine\",\"x\":59.62732919254658,\"xref\":\"x\",\"y\":\"anesthesia\",\"yref\":\"y\"},{\"font\":{\"color\":\"rgb(0, 0, 0)\",\"family\":\"Arial\",\"size\":14},\"showarrow\":false,\"text\":\"isoflurane / alpha-chloralose\",\"x\":91.30434782608695,\"xref\":\"x\",\"y\":\"anesthesia\",\"yref\":\"y\"},{\"font\":{\"color\":\"rgb(0, 0, 0)\",\"family\":\"Arial\",\"size\":14},\"showarrow\":false,\"text\":\"ketamine / xylazine\",\"x\":97.20496894409938,\"xref\":\"x\",\"y\":\"anesthesia\",\"yref\":\"y\"},{\"font\":{\"color\":\"rgb(0, 0, 0)\",\"family\":\"Arial\",\"size\":14},\"showarrow\":false,\"text\":\"Wistar\",\"x\":15.217391304347828,\"xref\":\"x\",\"y\":\"strain\",\"yref\":\"y\"},{\"font\":{\"color\":\"rgb(0, 0, 0)\",\"family\":\"Arial\",\"size\":14},\"showarrow\":false,\"text\":\"Sprague Dawley\",\"x\":55.900621118012424,\"xref\":\"x\",\"y\":\"strain\",\"yref\":\"y\"},{\"font\":{\"color\":\"rgb(0, 0, 0)\",\"family\":\"Arial\",\"size\":14},\"showarrow\":false,\"text\":\"Fischer 344\",\"x\":90.6832298136646,\"xref\":\"x\",\"y\":\"strain\",\"yref\":\"y\"},{\"font\":{\"color\":\"rgb(0, 0, 0)\",\"family\":\"Arial\",\"size\":14},\"showarrow\":false,\"text\":\"male\",\"x\":29.81366459627329,\"xref\":\"x\",\"y\":\"sex\",\"yref\":\"y\"},{\"font\":{\"color\":\"rgb(0, 0, 0)\",\"family\":\"Arial\",\"size\":14},\"showarrow\":false,\"text\":\"female\",\"x\":79.8136645962733,\"xref\":\"x\",\"y\":\"sex\",\"yref\":\"y\"}],\"barmode\":\"stack\"},                        {\"responsive\": true}                    ).then(function(){\n",
       "                            \n",
       "var gd = document.getElementById('e777ac31-4d7a-4bb1-b8c9-647acfe7cf0d');\n",
       "var x = new MutationObserver(function (mutations, observer) {{\n",
       "        var display = window.getComputedStyle(gd).display;\n",
       "        if (!display || display === 'none') {{\n",
       "            console.log([gd, 'removed!']);\n",
       "            Plotly.purge(gd);\n",
       "            observer.disconnect();\n",
       "        }}\n",
       "}});\n",
       "\n",
       "// Listen for the removal of the full notebook cells\n",
       "var notebookContainer = gd.closest('#notebook-container');\n",
       "if (notebookContainer) {{\n",
       "    x.observe(notebookContainer, {childList: true});\n",
       "}}\n",
       "\n",
       "// Listen for the clearing of the current output cell\n",
       "var outputEl = gd.closest('.output');\n",
       "if (outputEl) {{\n",
       "    x.observe(outputEl, {childList: true});\n",
       "}}\n",
       "\n",
       "                        })                };                });            </script>        </div>"
      ]
     },
     "metadata": {},
     "output_type": "display_data"
    }
   ],
   "source": [
    "#--------------------------------------------------------------------------------------------------------------\n",
    "# ---------------------- Metadata_stand.tsv --> Stacked bar chart horizontal with labels ----------------------\n",
    "# ---------------------------- https://plotly.com/python/horizontal-bar-charts/  ------------------------------\n",
    "#--------------------------------------------------------------------------------------------------------------\n",
    "\n",
    "import plotly.graph_objects as go\n",
    "\n",
    "annotations = []\n",
    "fig = go.Figure()\n",
    "\n",
    "#---------------------------- MRI field strength -------------------------------------- \n",
    "\n",
    "y_label = 'MRI field strength'     #refers to the column name of metadata[]\n",
    "yd = y_label                         #define the name of the bar line\n",
    "\n",
    "x_label = 4.7\n",
    "xd = metadata[y_label][x_label]\n",
    "space = 0\n",
    "\n",
    "fig.add_trace(go.Bar(\n",
    "    y = [yd],\n",
    "    x = [xd],\n",
    "    name = x_label,\n",
    "    orientation='h',\n",
    "    marker=dict(\n",
    "        color='rgba(255, 153, 153, 0.8)',\n",
    "        line=dict(color='rgba(58, 71, 80, 1.0)', width=1)\n",
    "    )\n",
    "))\n",
    "\n",
    "annotations.append(dict(xref='x', yref='y',\n",
    "                                    x = space + xd/2, y = yd,\n",
    "                                    text = x_label,\n",
    "                                    font=dict(family='Arial', size=14,\n",
    "                                              color='rgb(0, 0, 0)'),\n",
    "                                    showarrow=False))\n",
    "\n",
    "\n",
    "space = space + xd\n",
    "x_label = 9.4\n",
    "xd = metadata[y_label][x_label]\n",
    "\n",
    "fig.add_trace(go.Bar(\n",
    "    y = [yd],\n",
    "    x = [xd],\n",
    "    name = x_label,\n",
    "    orientation='h',\n",
    "    marker=dict(\n",
    "        color='rgba(255, 153, 153, 0.8)',\n",
    "        line=dict(color='rgba(58, 71, 80, 1.0)', width=1)\n",
    "    )\n",
    "))\n",
    "\n",
    "annotations.append(dict(xref='x', yref='y',\n",
    "                                    x= space + xd / 2, y= yd,\n",
    "                                    text = x_label,\n",
    "                                    font=dict(family='Arial', size=14,\n",
    "                                              color='rgb(0, 0, 0)'),\n",
    "                                    showarrow=False))\n",
    "\n",
    "\n",
    "space = space + xd\n",
    "x_label = 7.0\n",
    "xd = metadata[y_label][x_label]\n",
    "\n",
    "fig.add_trace(go.Bar(\n",
    "    y = [yd],\n",
    "    x = [xd],\n",
    "    name = x_label,\n",
    "    orientation='h',\n",
    "    marker=dict(\n",
    "        color='rgba(255, 153, 153, 0.8)',\n",
    "        line=dict(color='rgba(58, 71, 80, 1.0)', width=1)\n",
    "    )\n",
    "))\n",
    "\n",
    "annotations.append(dict(xref='x', yref='y',\n",
    "                                    x= space + xd / 2, y= yd,\n",
    "                                    text = x_label,\n",
    "                                    font=dict(family='Arial', size=14,\n",
    "                                              color='rgb(0, 0, 0)'),\n",
    "                                    showarrow=False))\n",
    "\n",
    "\n",
    "space = space + xd\n",
    "x_label = 14.1\n",
    "xd = metadata[y_label][x_label]\n",
    "\n",
    "fig.add_trace(go.Bar(\n",
    "    y = [yd],\n",
    "    x = [xd],\n",
    "    name = x_label,\n",
    "    orientation='h',\n",
    "    marker=dict(\n",
    "        color='rgba(255, 153, 153, 0.8)',\n",
    "        line=dict(color='rgba(58, 71, 80, 1.0)', width=1)\n",
    "    )\n",
    "))\n",
    "\n",
    "annotations.append(dict(xref='x', yref='y',\n",
    "                                    x= space + xd / 2, y= yd,\n",
    "                                    text = x_label,\n",
    "                                    font=dict(family='Arial', size=14,\n",
    "                                              color='rgb(0, 0, 0)'),\n",
    "                                    showarrow=False))\n",
    "\n",
    "\n",
    "space = space + xd\n",
    "x_label = 17.2\n",
    "xd = metadata[y_label][x_label]\n",
    "\n",
    "fig.add_trace(go.Bar(\n",
    "    y = [yd],\n",
    "    x = [xd],\n",
    "    name = x_label,\n",
    "    orientation='h',\n",
    "    marker=dict(\n",
    "        color='rgba(255, 153, 153, 0.8)',\n",
    "        line=dict(color='rgba(58, 71, 80, 1.0)', width=1)\n",
    "    )\n",
    "))\n",
    "\n",
    "annotations.append(dict(xref='x', yref='y',\n",
    "                                    x= space + xd / 2, y= yd,\n",
    "                                    text = x_label,\n",
    "                                    font=dict(family='Arial', size=14,\n",
    "                                              color='rgb(0, 0, 0)'),\n",
    "                                    showarrow=False))\n",
    "\n",
    "\n",
    "#--------------------------- stimulation location -------------------------------------- \n",
    "\n",
    "y_label = 'stimulation location'     #refers to the column name of metadata[]\n",
    "yd = y_label                         #define the name of the bar line\n",
    "\n",
    "x_label = 'forepaw'\n",
    "xd = metadata[y_label][x_label]\n",
    "space = 0\n",
    "\n",
    "fig.add_trace(go.Bar(\n",
    "    y = [yd],\n",
    "    x = [xd],\n",
    "    name = x_label,\n",
    "    orientation='h',\n",
    "    marker=dict(\n",
    "        color='rgba(127, 0, 255, 0.8)',\n",
    "        line=dict(color='rgba(58, 71, 80, 1.0)', width=1)\n",
    "    )\n",
    "))\n",
    "\n",
    "annotations.append(dict(xref='x', yref='y',\n",
    "                                    x = space + xd/2, y = yd,\n",
    "                                    text = x_label,\n",
    "                                    font=dict(family='Arial', size=14,\n",
    "                                              color='rgb(0, 0, 0)'),\n",
    "                                    showarrow=False))\n",
    "\n",
    "space = space + xd\n",
    "x_label = 'hindpaw'\n",
    "xd = metadata[y_label][x_label]\n",
    "\n",
    "\n",
    "fig.add_trace(go.Bar(\n",
    "    y = [yd],\n",
    "    x = [xd],\n",
    "    name = x_label,\n",
    "    orientation='h',\n",
    "    marker=dict(\n",
    "        color='rgba(127, 0, 255, 0.8)',\n",
    "        line=dict(color='rgba(58, 71, 80, 1.0)', width=1)\n",
    "    )\n",
    "))\n",
    "\n",
    "annotations.append(dict(xref='x', yref='y',\n",
    "                                    x= space + xd / 2, y= yd,\n",
    "                                    text = x_label,\n",
    "                                    font=dict(family='Arial', size=14,\n",
    "                                              color='rgb(0, 0, 0)'),\n",
    "                                    showarrow=False))\n",
    "\n",
    "space = space + xd\n",
    "x_label = 'S1FL'\n",
    "xd = metadata[y_label][x_label]\n",
    "\n",
    "\n",
    "fig.add_trace(go.Bar(\n",
    "    y = [yd],\n",
    "    x = [xd],\n",
    "    name = x_label,\n",
    "    orientation='h',\n",
    "    marker=dict(\n",
    "        color='rgba(127, 0, 255, 0.8)',\n",
    "        line=dict(color='rgba(58, 71, 80, 1.0)', width=1)\n",
    "    )\n",
    "))\n",
    "\n",
    "annotations.append(dict(xref='x', yref='y',\n",
    "                                    x= space + xd / 2, y= yd,\n",
    "                                    text = x_label,\n",
    "                                    font=dict(family='Arial', size=14,\n",
    "                                              color='rgb(0, 0, 0)'),\n",
    "                                    showarrow=False))\n",
    "\n",
    "space = space + xd\n",
    "x_label = 'whiskers C-Row'\n",
    "xd = metadata[y_label][x_label]\n",
    "\n",
    "\n",
    "fig.add_trace(go.Bar(\n",
    "    y = [yd],\n",
    "    x = [xd],\n",
    "    name = x_label,\n",
    "    orientation='h',\n",
    "    marker=dict(\n",
    "        color='rgba(127, 0, 255, 0.8)',\n",
    "        line=dict(color='rgba(58, 71, 80, 1.0)', width=1)\n",
    "    )\n",
    "))\n",
    "\n",
    "annotations.append(dict(xref='x', yref='y',\n",
    "                                    x= space + xd / 2, y= yd,\n",
    "                                    text = x_label,\n",
    "                                    font=dict(family='Arial', size=14,\n",
    "                                              color='rgb(0, 0, 0)'),\n",
    "                                    showarrow=False))\n",
    "\n",
    "space = space + xd\n",
    "x_label = 'eye'\n",
    "xd = metadata[y_label][x_label]\n",
    "\n",
    "\n",
    "fig.add_trace(go.Bar(\n",
    "    y = [yd],\n",
    "    x = [xd],\n",
    "    name = x_label,\n",
    "    orientation='h',\n",
    "    marker=dict(\n",
    "        color='rgba(127, 0, 255, 0.8)',\n",
    "        line=dict(color='rgba(58, 71, 80, 1.0)', width=1)\n",
    "    )\n",
    "))\n",
    "\n",
    "annotations.append(dict(xref='x', yref='y',\n",
    "                                    x= space + xd / 2, y= yd,\n",
    "                                    text = x_label,\n",
    "                                    font=dict(family='Arial', size=14,\n",
    "                                              color='rgb(0, 0, 0)'),\n",
    "                                    showarrow=False))\n",
    "\n",
    "\n",
    "#----------------------------- stimulation type -------------------------------------- \n",
    "\n",
    "#in metadata replace electrical by electric\n",
    "\n",
    "y_label = 'stimulation type'     #refers to the column name of metadata[]\n",
    "yd = y_label                      #define the name of the bar line\n",
    "\n",
    "x_label = 'electric'\n",
    "xd = metadata[y_label][x_label]\n",
    "space = 0\n",
    "\n",
    "fig.add_trace(go.Bar(\n",
    "    y = [yd],\n",
    "    x = [xd],\n",
    "    name = x_label,\n",
    "    orientation='h',\n",
    "    marker=dict(\n",
    "        color='rgba(0, 153, 153, 0.8)',\n",
    "        line=dict(color='rgba(58, 71, 80, 1.0)', width=1)\n",
    "    )\n",
    "))\n",
    "\n",
    "annotations.append(dict(xref='x', yref='y',\n",
    "                                    x = space + xd/2, y = yd,\n",
    "                                    text = x_label,\n",
    "                                    font=dict(family='Arial', size=14,\n",
    "                                              color='rgb(0, 0, 0)'),\n",
    "                                    showarrow=False))\n",
    "\n",
    "\n",
    "\n",
    "space = space + xd\n",
    "x_label = 'optogenetic'\n",
    "xd = metadata[y_label][x_label]\n",
    "\n",
    "\n",
    "fig.add_trace(go.Bar(\n",
    "    y = [yd],\n",
    "    x = [xd],\n",
    "    name = x_label,\n",
    "    orientation='h',\n",
    "    marker=dict(\n",
    "        color='rgba(0, 204, 204, 0.8)',\n",
    "        line=dict(color='rgba(58, 71, 80, 1.0)', width=1)\n",
    "    )\n",
    "))\n",
    "\n",
    "annotations.append(dict(xref='x', yref='y',\n",
    "                                    x= space + xd / 2, y= yd,\n",
    "                                    text = x_label,\n",
    "                                    font=dict(family='Arial', size=14,\n",
    "                                              color='rgb(0, 0, 0)'),\n",
    "                                    showarrow=False))\n",
    "\n",
    "\n",
    "space = space + xd\n",
    "x_label = 'thermal'\n",
    "xd = metadata[y_label][x_label]\n",
    "\n",
    "\n",
    "fig.add_trace(go.Bar(\n",
    "    y = [yd],\n",
    "    x = [xd],\n",
    "    name = x_label,\n",
    "    orientation='h',\n",
    "    marker=dict(\n",
    "        color='rgba(0, 255, 255, 0.6)',\n",
    "        line=dict(color='rgba(58, 71, 80, 1.0)', width=1)\n",
    "    )\n",
    "))\n",
    "\n",
    "annotations.append(dict(xref='x', yref='y',\n",
    "                                    x= space + xd / 2, y= yd,\n",
    "                                    text = x_label,\n",
    "                                    font=dict(family='Arial', size=14,\n",
    "                                              color='rgb(0, 0, 0)'),\n",
    "                                    showarrow=False))\n",
    "\n",
    "space = space + xd\n",
    "x_label = 'light'\n",
    "xd = metadata[y_label][x_label]\n",
    "\n",
    "\n",
    "fig.add_trace(go.Bar(\n",
    "    y = [yd],\n",
    "    x = [xd],\n",
    "    name = x_label,\n",
    "    orientation='h',\n",
    "    marker=dict(\n",
    "        color='rgba(0, 255, 255, 0.6)',\n",
    "        line=dict(color='rgba(58, 71, 80, 1.0)', width=1)\n",
    "    )\n",
    "))\n",
    "\n",
    "annotations.append(dict(xref='x', yref='y',\n",
    "                                    x= space + xd / 2, y= yd,\n",
    "                                    text = x_label,\n",
    "                                    font=dict(family='Arial', size=14,\n",
    "                                              color='rgb(0, 0, 0)'),\n",
    "                                    showarrow=False))\n",
    "\n",
    "space = space + xd\n",
    "x_label = 'mechanical deflection'\n",
    "xd = metadata[y_label][x_label]\n",
    "\n",
    "\n",
    "fig.add_trace(go.Bar(\n",
    "    y = [yd],\n",
    "    x = [xd],\n",
    "    name = x_label,\n",
    "    orientation='h',\n",
    "    marker=dict(\n",
    "        color='rgba(0, 255, 255, 0.6)',\n",
    "        line=dict(color='rgba(58, 71, 80, 1.0)', width=1)\n",
    "    )\n",
    "))\n",
    "\n",
    "annotations.append(dict(xref='x', yref='y',\n",
    "                                    x= space + xd / 2, y= yd,\n",
    "                                    text = x_label,\n",
    "                                    font=dict(family='Arial', size=14,\n",
    "                                              color='rgb(0, 0, 0)'),\n",
    "                                    showarrow=False))\n",
    "\n",
    "\n",
    "#-------------------------------- anesthesia -------------------------------------- \n",
    "\n",
    "y_label = 'anesthesia'        #refers to the column name of metadata[]\n",
    "yd = y_label                  #define the name of the bar line\n",
    "\n",
    "x_label = 'isoflurane'\n",
    "xd = metadata[y_label][x_label]\n",
    "space = 0\n",
    "\n",
    "fig.add_trace(go.Bar(\n",
    "    y = [yd],\n",
    "    x = [xd],\n",
    "    name = x_label,\n",
    "    orientation='h',\n",
    "    marker=dict(\n",
    "        color='rgba(204, 102, 0, 0.8)',\n",
    "        line=dict(color='rgba(58, 71, 80, 1.0)', width=1)\n",
    "    )\n",
    "))\n",
    "\n",
    "annotations.append(dict(xref='x', yref='y',\n",
    "                                    x = space + xd/2, y = yd,\n",
    "                                    text = x_label,\n",
    "                                    font=dict(family='Arial', size=14,\n",
    "                                              color='rgb(0, 0, 0)'),\n",
    "                                    showarrow=False))\n",
    "\n",
    "space = space + xd\n",
    "x_label = 'isoflurane / medetomidine'\n",
    "xd = metadata[y_label][x_label]\n",
    "\n",
    "fig.add_trace(go.Bar(\n",
    "    y = [yd],\n",
    "    x = [xd],\n",
    "    name = x_label,\n",
    "    orientation='h',\n",
    "    marker=dict(\n",
    "        color='rgba(204, 102, 0, 0.8)',\n",
    "        line=dict(color='rgba(58, 71, 80, 1.0)', width=1)\n",
    "    )\n",
    "))\n",
    "\n",
    "annotations.append(dict(xref='x', yref='y',\n",
    "                                    x = space + xd/2, y = yd,\n",
    "                                    text = x_label,\n",
    "                                    font=dict(family='Arial', size=14,\n",
    "                                              color='rgb(0, 0, 0)'),\n",
    "                                    showarrow=False))\n",
    "\n",
    "space = space + xd\n",
    "x_label = 'isoflurane / alpha-chloralose'\n",
    "xd = metadata[y_label][x_label]\n",
    "\n",
    "fig.add_trace(go.Bar(\n",
    "    y = [yd],\n",
    "    x = [xd],\n",
    "    name = x_label,\n",
    "    orientation='h',\n",
    "    marker=dict(\n",
    "        color='rgba(204, 102, 0, 0.8)',\n",
    "        line=dict(color='rgba(58, 71, 80, 1.0)', width=1)\n",
    "    )\n",
    "))\n",
    "\n",
    "annotations.append(dict(xref='x', yref='y',\n",
    "                                    x = space + xd/2, y = yd,\n",
    "                                    text = x_label,\n",
    "                                    font=dict(family='Arial', size=14,\n",
    "                                              color='rgb(0, 0, 0)'),\n",
    "                                    showarrow=False))\n",
    "\n",
    "space = space + xd\n",
    "x_label = 'ketamine / xylazine'\n",
    "xd = metadata[y_label][x_label]\n",
    "\n",
    "fig.add_trace(go.Bar(\n",
    "    y = [yd],\n",
    "    x = [xd],\n",
    "    name = x_label,\n",
    "    orientation='h',\n",
    "    marker=dict(\n",
    "        color='rgba(204, 102, 0, 0.8)',\n",
    "        line=dict(color='rgba(58, 71, 80, 1.0)', width=1)\n",
    "    )\n",
    "))\n",
    "\n",
    "annotations.append(dict(xref='x', yref='y',\n",
    "                                    x = space + xd/2, y = yd,\n",
    "                                    text = x_label,\n",
    "                                    font=dict(family='Arial', size=14,\n",
    "                                              color='rgb(0, 0, 0)'),\n",
    "                                    showarrow=False))\n",
    "\n",
    "\n",
    "#---------------------------------- strain -------------------------------------- \n",
    "\n",
    "y_label = 'strain'     #refers to the column name of metadata[]\n",
    "yd = y_label        #define the name of the bar line\n",
    "\n",
    "x_label = 'Wistar'\n",
    "xd = metadata[y_label][x_label]\n",
    "space = 0\n",
    "\n",
    "fig.add_trace(go.Bar(\n",
    "    y = [yd],\n",
    "    x = [xd],\n",
    "    name = x_label,\n",
    "    orientation='h',\n",
    "    marker=dict(\n",
    "        color='rgba(204, 0, 0, 0.8)',\n",
    "        line=dict(color='rgba(58, 71, 80, 1.0)', width=1)\n",
    "    )\n",
    "))\n",
    "\n",
    "annotations.append(dict(xref='x', yref='y',\n",
    "                                    x = space + xd/2, y = yd,\n",
    "                                    text = x_label,\n",
    "                                    font=dict(family='Arial', size=14,\n",
    "                                              color='rgb(0, 0, 0)'),\n",
    "                                    showarrow=False))\n",
    "\n",
    "space = space + xd\n",
    "x_label = 'Sprague Dawley'\n",
    "xd = metadata[y_label][x_label]\n",
    "\n",
    "fig.add_trace(go.Bar(\n",
    "    y = [yd],\n",
    "    x = [xd],\n",
    "    name = x_label,\n",
    "    orientation='h',\n",
    "    marker=dict(\n",
    "        color='rgba(204, 0, 0, 0.8)',\n",
    "        line=dict(color='rgba(58, 71, 80, 1.0)', width=1)\n",
    "    )\n",
    "))\n",
    "\n",
    "annotations.append(dict(xref='x', yref='y',\n",
    "                                    x = space + xd/2, y = yd,\n",
    "                                    text = x_label,\n",
    "                                    font=dict(family='Arial', size=14,\n",
    "                                              color='rgb(0, 0, 0)'),\n",
    "                                    showarrow=False))\n",
    "\n",
    "space = space + xd\n",
    "x_label = 'Fischer 344'\n",
    "xd = metadata[y_label][x_label]\n",
    "\n",
    "fig.add_trace(go.Bar(\n",
    "    y = [yd],\n",
    "    x = [xd],\n",
    "    name = x_label,\n",
    "    orientation='h',\n",
    "    marker=dict(\n",
    "        color='rgba(204, 0, 0, 0.8)',\n",
    "        line=dict(color='rgba(58, 71, 80, 1.0)', width=1)\n",
    "    )\n",
    "))\n",
    "\n",
    "annotations.append(dict(xref='x', yref='y',\n",
    "                                    x = space + xd/2, y = yd,\n",
    "                                    text = x_label,\n",
    "                                    font=dict(family='Arial', size=14,\n",
    "                                              color='rgb(0, 0, 0)'),\n",
    "                                    showarrow=False))\n",
    "\n",
    "\n",
    "#---------------------------------- Sex -------------------------------------- \n",
    "\n",
    "y_label = 'sex'     #refers to the column name of metadata[]\n",
    "yd = y_label        #define the name of the bar line\n",
    "\n",
    "x_label = 'male'\n",
    "xd = metadata[y_label][x_label]\n",
    "space = 0\n",
    "\n",
    "fig.add_trace(go.Bar(\n",
    "    y = [yd],\n",
    "    x = [xd],\n",
    "    name = x_label,\n",
    "    orientation='h',\n",
    "    marker=dict(\n",
    "        color='rgba(153, 0, 76, 0.8)',\n",
    "        line=dict(color='rgba(58, 71, 80, 1.0)', width=1)\n",
    "    )\n",
    "))\n",
    "\n",
    "annotations.append(dict(xref='x', yref='y',\n",
    "                                    x = space + xd/2, y = yd,\n",
    "                                    text = x_label,\n",
    "                                    font=dict(family='Arial', size=14,\n",
    "                                              color='rgb(0, 0, 0)'),\n",
    "                                    showarrow=False))\n",
    "\n",
    "\n",
    "space = space + xd\n",
    "x_label = 'female'\n",
    "xd = metadata[y_label][x_label]\n",
    "\n",
    "\n",
    "fig.add_trace(go.Bar(\n",
    "    y = [yd],\n",
    "    x = [xd],\n",
    "    name = x_label,\n",
    "    orientation='h',\n",
    "    marker=dict(\n",
    "        color='rgba(204, 0, 102, 0.8)',\n",
    "        line=dict(color='rgba(58, 71, 80, 1.0)', width=1)\n",
    "    )\n",
    "))\n",
    "\n",
    "annotations.append(dict(xref='x', yref='y',\n",
    "                                    x= space + xd / 2, y= yd,\n",
    "                                    text = x_label,\n",
    "                                    font=dict(family='Arial', size=14,\n",
    "                                              color='rgb(0, 0, 0)'),\n",
    "                                    showarrow=False))\n",
    "\n",
    "\n",
    "\n",
    "#---------------------------------- Plot -------------------------------------- \n",
    "\n",
    "fig.update_layout(annotations=annotations)\n",
    "fig.update_layout(barmode='stack')\n",
    "fig.show()\n"
   ]
  }
 ],
 "metadata": {
  "kernelspec": {
   "display_name": "Python 3",
   "language": "python",
   "name": "python3"
  },
  "language_info": {
   "codemirror_mode": {
    "name": "ipython",
    "version": 3
   },
   "file_extension": ".py",
   "mimetype": "text/x-python",
   "name": "python",
   "nbconvert_exporter": "python",
   "pygments_lexer": "ipython3",
   "version": "3.9.2"
  },
  "orig_nbformat": 4
 },
 "nbformat": 4,
 "nbformat_minor": 2
}
